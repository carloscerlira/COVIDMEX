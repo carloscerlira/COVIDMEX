{
 "nbformat": 4,
 "nbformat_minor": 2,
 "metadata": {
  "language_info": {
   "name": "python",
   "codemirror_mode": {
    "name": "ipython",
    "version": 3
   },
   "version": "3.7.6-final"
  },
  "orig_nbformat": 2,
  "file_extension": ".py",
  "mimetype": "text/x-python",
  "name": "python",
  "npconvert_exporter": "python",
  "pygments_lexer": "ipython3",
  "version": 3,
  "kernelspec": {
   "name": "python3",
   "display_name": "Python 3"
  }
 },
 "cells": [
  {
   "cell_type": "code",
   "execution_count": 14,
   "metadata": {},
   "outputs": [],
   "source": [
    "import datetime\n",
    "import numpy as np\n",
    "import pandas as pd\n",
    "import geopandas as gpd\n",
    "import matplotlib.pyplot as plt \n",
    "plt.style.use('seaborn')\n",
    "%matplotlib qt"
   ]
  },
  {
   "cell_type": "code",
   "execution_count": 15,
   "metadata": {},
   "outputs": [],
   "source": [
    "mexico = pd.read_csv('data/mexico.csv')\n",
    "mexico = mexico.drop('Caso', axis=1)\n",
    "#mexico"
   ]
  },
  {
   "cell_type": "code",
   "execution_count": 16,
   "metadata": {},
   "outputs": [
    {
     "output_type": "stream",
     "name": "stderr",
     "text": "C:\\ProgramData\\Anaconda3\\lib\\site-packages\\ipykernel_launcher.py:5: FutureWarning: The signature of `Series.to_csv` was aligned to that of `DataFrame.to_csv`, and argument 'header' will change its default value from False to True: please pass an explicit value to suppress this warning.\n  \"\"\"\n"
    }
   ],
   "source": [
    "states = mexico.groupby('Estado')\n",
    "infected = states['Status'].count()\n",
    "infected = infected.rename({'CIUDAD DE MÉXICO ': 'DISTRITO FEDERAL', 'MÉXICO ': 'MEXICO', 'NUEVO LEÓN ':'NUEVO LEON', 'SAN LUIS POTOSÍ ':'SAN LUIS POTOSI'})\n",
    "infected = infected.sort_index()\n",
    "infected.to_csv('data/infected.csv')\n",
    "#infected"
   ]
  },
  {
   "cell_type": "code",
   "execution_count": 17,
   "metadata": {},
   "outputs": [],
   "source": [
    "plt.hist(mexico['Edad'], bins=20, range=(0,100), color='royalblue', histtype='bar', ec='black')\n",
    "plt.xlabel('Edad')\n",
    "plt.ylabel('Número de infectados')\n",
    "plt.show()\n",
    "plt.savefig('images/histograma.png', dpi=400)"
   ]
  },
  {
   "cell_type": "code",
   "execution_count": null,
   "metadata": {},
   "outputs": [],
   "source": []
  }
 ]
}