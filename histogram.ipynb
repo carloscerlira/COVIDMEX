{
 "nbformat": 4,
 "nbformat_minor": 2,
 "metadata": {
  "language_info": {
   "name": "python",
   "codemirror_mode": {
    "name": "ipython",
    "version": 3
   },
   "version": "3.7.6-final"
  },
  "orig_nbformat": 2,
  "file_extension": ".py",
  "mimetype": "text/x-python",
  "name": "python",
  "npconvert_exporter": "python",
  "pygments_lexer": "ipython3",
  "version": 3,
  "kernelspec": {
   "name": "python3",
   "display_name": "Python 3"
  }
 },
 "cells": [
  {
   "cell_type": "code",
   "execution_count": 9,
   "metadata": {},
   "outputs": [],
   "source": [
    "import datetime\n",
    "import numpy as np\n",
    "import pandas as pd\n",
    "import geopandas as gpd\n",
    "import matplotlib.pyplot as plt \n",
    "plt.style.use('seaborn')\n",
    "%matplotlib qt"
   ]
  },
  {
   "cell_type": "code",
   "execution_count": 10,
   "metadata": {},
   "outputs": [
    {
     "output_type": "execute_result",
     "data": {
      "text/plain": "                 Estado Sexo  Edad\n0     CIUDAD DE MÉXICO    M   35.0\n1              SINALOA    M   41.0\n2     CIUDAD DE MÉXICO    M   59.0\n3             COAHUILA    F   20.0\n4              CHIAPAS    F   18.0\n...                 ...  ...   ...\n1089          COAHUILA    M   48.0\n1090  CIUDAD DE MÉXICO    F   77.0\n1091  CIUDAD DE MÉXICO    F   43.0\n1092  CIUDAD DE MÉXICO    M   47.0\n1093           JALISCO    M   37.0\n\n[1094 rows x 3 columns]",
      "text/html": "<div>\n<style scoped>\n    .dataframe tbody tr th:only-of-type {\n        vertical-align: middle;\n    }\n\n    .dataframe tbody tr th {\n        vertical-align: top;\n    }\n\n    .dataframe thead th {\n        text-align: right;\n    }\n</style>\n<table border=\"1\" class=\"dataframe\">\n  <thead>\n    <tr style=\"text-align: right;\">\n      <th></th>\n      <th>Estado</th>\n      <th>Sexo</th>\n      <th>Edad</th>\n    </tr>\n  </thead>\n  <tbody>\n    <tr>\n      <td>0</td>\n      <td>CIUDAD DE MÉXICO</td>\n      <td>M</td>\n      <td>35.0</td>\n    </tr>\n    <tr>\n      <td>1</td>\n      <td>SINALOA</td>\n      <td>M</td>\n      <td>41.0</td>\n    </tr>\n    <tr>\n      <td>2</td>\n      <td>CIUDAD DE MÉXICO</td>\n      <td>M</td>\n      <td>59.0</td>\n    </tr>\n    <tr>\n      <td>3</td>\n      <td>COAHUILA</td>\n      <td>F</td>\n      <td>20.0</td>\n    </tr>\n    <tr>\n      <td>4</td>\n      <td>CHIAPAS</td>\n      <td>F</td>\n      <td>18.0</td>\n    </tr>\n    <tr>\n      <td>...</td>\n      <td>...</td>\n      <td>...</td>\n      <td>...</td>\n    </tr>\n    <tr>\n      <td>1089</td>\n      <td>COAHUILA</td>\n      <td>M</td>\n      <td>48.0</td>\n    </tr>\n    <tr>\n      <td>1090</td>\n      <td>CIUDAD DE MÉXICO</td>\n      <td>F</td>\n      <td>77.0</td>\n    </tr>\n    <tr>\n      <td>1091</td>\n      <td>CIUDAD DE MÉXICO</td>\n      <td>F</td>\n      <td>43.0</td>\n    </tr>\n    <tr>\n      <td>1092</td>\n      <td>CIUDAD DE MÉXICO</td>\n      <td>M</td>\n      <td>47.0</td>\n    </tr>\n    <tr>\n      <td>1093</td>\n      <td>JALISCO</td>\n      <td>M</td>\n      <td>37.0</td>\n    </tr>\n  </tbody>\n</table>\n<p>1094 rows × 3 columns</p>\n</div>"
     },
     "metadata": {},
     "execution_count": 10
    }
   ],
   "source": [
    "mexico = pd.read_csv('data/covidmxraw.csv', skiprows=5)\n",
    "mexico = mexico[:-3]\n",
    "mexico = mexico[['Unnamed: 1', 'Unnamed: 2', 'Unnamed: 3']]\n",
    "mexico = mexico.rename(columns={'Unnamed: 1': 'Estado', 'Unnamed: 2': 'Sexo', 'Unnamed: 3': 'Edad'})\n",
    "mexico.to_csv('data/covidmx.csv')\n",
    "mexico "
   ]
  },
  {
   "cell_type": "code",
   "execution_count": 11,
   "metadata": {},
   "outputs": [],
   "source": [
    "states = mexico.groupby('Estado')\n",
    "infected = states['Estado'].count()\n",
    "infected = infected.rename({'CIUDAD DE MÉXICO ': 'DISTRITO FEDERAL', 'MÉXICO ': 'MEXICO', 'NUEVO LEÓN ':'NUEVO LEON', 'SAN LUIS POTOSÍ ':'SAN LUIS POTOSI'})\n",
    "infected = infected.sort_index()\n",
    "infected.to_csv('data/infected.csv')\n",
    "#infected"
   ]
  },
  {
   "cell_type": "code",
   "execution_count": 12,
   "metadata": {},
   "outputs": [],
   "source": [
    "plt.hist(mexico['Edad'], bins=20, range=(0,100), color='royalblue', histtype='bar', ec='black')\n",
    "plt.xlabel('Edad')\n",
    "plt.ylabel('Número de infectados')\n",
    "plt.show()\n",
    "plt.savefig('images/histograma.png', dpi=400)"
   ]
  },
  {
   "cell_type": "code",
   "execution_count": null,
   "metadata": {},
   "outputs": [],
   "source": []
  },
  {
   "cell_type": "code",
   "execution_count": null,
   "metadata": {},
   "outputs": [],
   "source": []
  }
 ]
}