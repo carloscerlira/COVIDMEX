{
 "nbformat": 4,
 "nbformat_minor": 2,
 "metadata": {
  "language_info": {
   "name": "python",
   "codemirror_mode": {
    "name": "ipython",
    "version": 3
   },
   "version": "3.7.6-final"
  },
  "orig_nbformat": 2,
  "file_extension": ".py",
  "mimetype": "text/x-python",
  "name": "python",
  "npconvert_exporter": "python",
  "pygments_lexer": "ipython3",
  "version": 3,
  "kernelspec": {
   "name": "python3",
   "display_name": "Python 3"
  }
 },
 "cells": [
  {
   "cell_type": "code",
   "execution_count": 17,
   "metadata": {},
   "outputs": [],
   "source": [
    "import datetime\n",
    "import numpy as np\n",
    "import pandas as pd\n",
    "import geopandas as gpd\n",
    "import matplotlib.pyplot as plt \n",
    "plt.style.use('seaborn')\n",
    "%matplotlib qt"
   ]
  },
  {
   "cell_type": "code",
   "execution_count": 18,
   "metadata": {},
   "outputs": [],
   "source": [
    "path = 'data/PHLITL_2000.shp'\n",
    "data = gpd.read_file(path)\n",
    "infected = pd.read_csv('data/infected.csv',header=None)\n",
    "infected = infected.set_index(0)\n",
    ""
   ]
  },
  {
   "cell_type": "code",
   "execution_count": 19,
   "metadata": {},
   "outputs": [],
   "source": [
    "counties = data[['EDO_LEY', 'geometry']]\n",
    "states = counties.dissolve(by='EDO_LEY')\n",
    "states = states.sort_index()"
   ]
  },
  {
   "cell_type": "code",
   "execution_count": 20,
   "metadata": {},
   "outputs": [],
   "source": [
    "infected.index=states.index\n",
    "states['infected'] = infected\n",
    "#states"
   ]
  },
  {
   "cell_type": "code",
   "execution_count": 21,
   "metadata": {},
   "outputs": [
    {
     "output_type": "stream",
     "name": "stderr",
     "text": "C:\\ProgramData\\Anaconda3\\lib\\site-packages\\matplotlib\\colors.py:109: FutureWarning: `item` has been deprecated and will be removed in a future version\n  ret = ex.item()\nC:\\ProgramData\\Anaconda3\\lib\\site-packages\\matplotlib\\colors.py:109: FutureWarning: `item` has been deprecated and will be removed in a future version\n  ret = ex.item()\n"
    }
   ],
   "source": [
    "plt.style.use('seaborn')\n",
    "vmin = infected.min(); vmax = infected.max();\n",
    "states.plot(column='infected', cmap='Blues', norm=plt.Normalize(vmin=vmin,vmax=vmax), linewidth=0.3, edgecolor='.8')\n",
    "\n",
    "sm = plt.cm.ScalarMappable(cmap='Blues', norm=plt.Normalize(vmin=vmin, vmax=vmax))\n",
    "sm._A = []\n",
    "plt.colorbar(sm)\n",
    "\n",
    "plt.title('Casos confirmados COVID-19', fontdict={'fontsize': '18', 'fontweight' : '3'})\n",
    "plt.annotate('Fuente: Secretaría de Salud',xy=(0.15, .2),  xycoords='figure fraction', horizontalalignment='left', verticalalignment='top', fontsize=10, color='#555555')\n",
    "plt.axis('off')\n",
    "plt.show()\n",
    "\n",
    "plt.savefig('images/mapa.png', dpi=400)"
   ]
  },
  {
   "cell_type": "code",
   "execution_count": null,
   "metadata": {},
   "outputs": [],
   "source": []
  }
 ]
}