{
 "nbformat": 4,
 "nbformat_minor": 2,
 "metadata": {
  "language_info": {
   "name": "python",
   "codemirror_mode": {
    "name": "ipython",
    "version": 3
   },
   "version": "3.7.4-final"
  },
  "orig_nbformat": 2,
  "file_extension": ".py",
  "mimetype": "text/x-python",
  "name": "python",
  "npconvert_exporter": "python",
  "pygments_lexer": "ipython3",
  "version": 3,
  "kernelspec": {
   "name": "python3",
   "display_name": "Python 3"
  }
 },
 "cells": [
  {
   "cell_type": "code",
   "execution_count": 1,
   "metadata": {},
   "outputs": [],
   "source": [
    "import numpy as np\n",
    "import pandas as pd\n",
    "import geopandas as gpd\n",
    "import matplotlib.pyplot as plt \n",
    "plt.style.use('seaborn')\n",
    "%matplotlib qt"
   ]
  },
  {
   "cell_type": "code",
   "execution_count": 74,
   "metadata": {
    "tags": [
     "outputPrepend"
    ]
   },
   "outputs": [
    {
     "output_type": "stream",
     "name": "stdout",
     "text": "Unnamed: 0         Unnamed: 1  Unnamed: 2  Unnamed: 3   Unnamed: 4  \\\n0             1  CIUDAD DE MÉXICO   MASCULINO         40.0  17/03/2020    \n1             2  CIUDAD DE MÉXICO    FEMENINO         29.0  26/03/2020    \n2             3            MÉXICO    FEMENINO         84.0  26/03/2020    \n3             4        NUEVO LEÓN   MASCULINO         54.0  20/03/2020    \n4             5          VERACRUZ    FEMENINO         65.0  18/03/2020    \n5             6  CIUDAD DE MÉXICO   MASCULINO         30.0  31/03/2020    \n6             7            PUEBLA   MASCULINO         30.0  13/03/2020    \n7             8           YUCATÁN    FEMENINO         32.0  17/03/2020    \n8             9           TABASCO   MASCULINO         32.0  21/03/2020    \n9            10         QUERETARO   MASCULINO         24.0  20/03/2020    \n10           11           TABASCO    FEMENINO         29.0  25/03/2020    \n11           12    AGUASCALIENTES    FEMENINO         74.0  22/03/2020    \n12           13  CIUDAD DE MÉXICO    FEMENINO         26.0  31/03/2020    \n13           14           JALISCO    FEMENINO         57.0  16/03/2020    \n14           15            MÉXICO   MASCULINO         40.0  24/03/2020    \n15           16           JALISCO   MASCULINO         49.0  12/03/2020    \n16           17           JALISCO    FEMENINO         58.0  27/03/2020    \n17           18           SINALOA    FEMENINO         62.0  04/04/2020    \n18           19   BAJA CALIFORNIA    FEMENINO         38.0  24/03/2020    \n19           20  CIUDAD DE MÉXICO   MASCULINO         46.0  12/03/2020    \n20           21            MÉXICO    FEMENINO          4.0  23/03/2020    \n21           22   BAJA CALIFORNIA   MASCULINO         36.0  18/03/2020    \n22           23          CAMPECHE    FEMENINO         59.0  06/03/2020    \n23           24  CIUDAD DE MÉXICO   MASCULINO          1.0  16/03/2020    \n24           25            SONORA   MASCULINO         44.0  12/03/2020    \n25           26  CIUDAD DE MÉXICO    FEMENINO         50.0  13/03/2020    \n26           27  CIUDAD DE MÉXICO    FEMENINO         51.0  09/03/2020    \n27           28    AGUASCALIENTES   MASCULINO         61.0  24/03/2020    \n28           29        NUEVO LEÓN   MASCULINO         31.0  20/03/2020    \n29           30   SAN LUIS POTOSÍ    FEMENINO         63.0  15/03/2020    \n...         ...                ...         ...         ...          ...   \n2759       2755          TLAXCALA   MASCULINO         53.0        43918   \n2760       2756  CIUDAD DE MÉXICO    FEMENINO         49.0        43918   \n2761       2757      QUINTANA ROO   MASCULINO         26.0        43917   \n2762       2758   SAN LUIS POTOSÍ   MASCULINO         39.0        43908   \n2763       2759  CIUDAD DE MÉXICO   MASCULINO         52.0        43916   \n2764       2760        GUANAJUATO   MASCULINO         68.0        43922   \n2765       2761            MÉXICO   MASCULINO         51.0        43914   \n2766       2762  CIUDAD DE MÉXICO    FEMENINO         76.0        43916   \n2767       2763  CIUDAD DE MÉXICO    FEMENINO         31.0        43897   \n2768       2764           TABASCO    FEMENINO         50.0        43918   \n2769       2765          GUERRERO    FEMENINO         32.0        43917   \n2770       2766            PUEBLA   MASCULINO         50.0        43923   \n2771       2767           YUCATÁN    FEMENINO         55.0        43901   \n2772       2768           CHIAPAS    FEMENINO         19.0  25/02/2020    \n2773       2769           TABASCO    FEMENINO         70.0        43917   \n2774       2770  CIUDAD DE MÉXICO   MASCULINO         48.0        43896   \n2775       2771   BAJA CALIFORNIA   MASCULINO         37.0        43912   \n2776       2772        GUANAJUATO    FEMENINO         42.0        43908   \n2777       2773  CIUDAD DE MÉXICO    FEMENINO         38.0        43916   \n2778       2774   BAJA CALIFORNIA   MASCULINO         54.0        43913   \n2779       2775    AGUASCALIENTES    FEMENINO         58.0        43915   \n2780       2776            MÉXICO   MASCULINO         61.0        43904   \n2781       2777            MÉXICO    FEMENINO         28.0        43916   \n2782       2778  CIUDAD DE MÉXICO    FEMENINO         62.0        43908   \n2783       2779          CAMPECHE    FEMENINO         32.0        43921   \n2784       2780            PUEBLA    FEMENINO         66.0        43905   \n2785       2781           JALISCO   MASCULINO         31.0        43911   \n2786       2782        NUEVO LEÓN   MASCULINO         36.0        43919   \n2787       2783          COAHUILA    FEMENINO         92.0        43917   \n2788       2784           DURANGO   MASCULINO         74.0        43905   \n\n     tiempo real        Unnamed: 6  \n0     Confirmado               NA   \n1     Confirmado               NA   \n2     Confirmado               NA   \n3     Confirmado               NA   \n4     Confirmado           España   \n5     Confirmado               NA   \n6     Confirmado               NA   \n7     Confirmado               NA   \n8     Confirmado               NA   \n9     Confirmado   Estados Unidos   \n10    Confirmado               NA   \n11    Confirmado               NA   \n12    Confirmado               NA   \n13    Confirmado   Estados Unidos   \n14    Confirmado               NA   \n15    Confirmado   Estados Unidos   \n16    Confirmado               NA   \n17    Confirmado               NA   \n18    Confirmado               NA   \n19    Confirmado   Estados Unidos   \n20    Confirmado   Estados Unidos   \n21    Confirmado   Estados Unidos   \n22    Confirmado               NA   \n23    Confirmado               NA   \n24    Confirmado           España   \n25    Confirmado           España   \n26    Confirmado           España   \n27    Confirmado           España   \n28    Confirmado               NA   \n29    Confirmado           España   \n...           ...              ...  \n2759  Confirmado   Estados Unidos   \n2760  Confirmado               NA   \n2761  Confirmado               NA   \n2762  Confirmado   Estados Unidos   \n2763  Confirmado               NA   \n2764  Confirmado               NA   \n2765  Confirmado               NA   \n2766  Confirmado               NA   \n2767  Confirmado           España   \n2768  Confirmado               NA   \n2769  Confirmado   Estados Unidos   \n2770  Confirmado               NA   \n2771  Confirmado           España   \n2772  Confirmado           Italia   \n2773  Confirmado               NA   \n2774  Confirmado   Estados Unidos   \n2775  Confirmado               NA   \n2776  Confirmado           España   \n2777  Confirmado               NA   \n2778  Confirmado               NA   \n2779  Confirmado           España   \n2780  Confirmado             OTRO   \n2781  Confirmado               NA   \n2782  Confirmado         Alemania   \n2783  Confirmado               NA   \n2784  Confirmado           España   \n2785  Confirmado               NA   \n2786  Confirmado               NA   \n2787  Confirmado   Estados Unidos   \n2788  Confirmado   Estados Unidos   \n\n[2789 rows x 7 columns]\n"
    },
    {
     "output_type": "error",
     "ename": "TypeError",
     "evalue": "'float' object is not subscriptable",
     "traceback": [
      "\u001b[1;31m---------------------------------------------------------------------------\u001b[0m",
      "\u001b[1;31mTypeError\u001b[0m                                 Traceback (most recent call last)",
      "\u001b[1;32m<ipython-input-74-cd5bf402a1f8>\u001b[0m in \u001b[0;36m<module>\u001b[1;34m()\u001b[0m\n\u001b[0;32m      5\u001b[0m \u001b[0mmexico\u001b[0m \u001b[1;33m=\u001b[0m \u001b[0mmexico\u001b[0m\u001b[1;33m[\u001b[0m\u001b[1;33m[\u001b[0m\u001b[1;34m'Unnamed: 1'\u001b[0m\u001b[1;33m,\u001b[0m \u001b[1;34m'Unnamed: 3'\u001b[0m\u001b[1;33m,\u001b[0m \u001b[1;34m'Unnamed: 2'\u001b[0m\u001b[1;33m]\u001b[0m\u001b[1;33m]\u001b[0m\u001b[1;33m\u001b[0m\u001b[1;33m\u001b[0m\u001b[0m\n\u001b[0;32m      6\u001b[0m \u001b[0mmexico\u001b[0m \u001b[1;33m=\u001b[0m \u001b[0mmexico\u001b[0m\u001b[1;33m.\u001b[0m\u001b[0mrename\u001b[0m\u001b[1;33m(\u001b[0m\u001b[0mcolumns\u001b[0m\u001b[1;33m=\u001b[0m\u001b[1;33m{\u001b[0m\u001b[1;34m'Unnamed: 1'\u001b[0m\u001b[1;33m:\u001b[0m \u001b[1;34m'Estado'\u001b[0m\u001b[1;33m,\u001b[0m \u001b[1;34m'Unnamed: 2'\u001b[0m\u001b[1;33m:\u001b[0m \u001b[1;34m'Sexo'\u001b[0m\u001b[1;33m,\u001b[0m \u001b[1;34m'Unnamed: 3'\u001b[0m\u001b[1;33m:\u001b[0m \u001b[1;34m'Edad'\u001b[0m\u001b[1;33m}\u001b[0m\u001b[1;33m)\u001b[0m\u001b[1;33m\u001b[0m\u001b[1;33m\u001b[0m\u001b[0m\n\u001b[1;32m----> 7\u001b[1;33m \u001b[0mmexico\u001b[0m\u001b[1;33m[\u001b[0m\u001b[1;34m'Estado'\u001b[0m\u001b[1;33m]\u001b[0m\u001b[1;33m.\u001b[0m\u001b[0mapply\u001b[0m\u001b[1;33m(\u001b[0m\u001b[1;32mlambda\u001b[0m \u001b[0mname\u001b[0m\u001b[1;33m:\u001b[0m \u001b[0mname\u001b[0m\u001b[1;33m[\u001b[0m\u001b[1;33m-\u001b[0m\u001b[1;36m1\u001b[0m\u001b[1;33m]\u001b[0m\u001b[1;33m)\u001b[0m\u001b[1;33m\u001b[0m\u001b[1;33m\u001b[0m\u001b[0m\n\u001b[0m\u001b[0;32m      8\u001b[0m \u001b[0mcurrent\u001b[0m \u001b[1;33m=\u001b[0m \u001b[0mmexico\u001b[0m\u001b[1;33m.\u001b[0m\u001b[0mgroupby\u001b[0m\u001b[1;33m(\u001b[0m\u001b[1;34m'Estado'\u001b[0m\u001b[1;33m)\u001b[0m\u001b[1;33m[\u001b[0m\u001b[1;34m'Sexo'\u001b[0m\u001b[1;33m]\u001b[0m\u001b[1;33m.\u001b[0m\u001b[0mcount\u001b[0m\u001b[1;33m(\u001b[0m\u001b[1;33m)\u001b[0m\u001b[1;33m\u001b[0m\u001b[1;33m\u001b[0m\u001b[0m\n\u001b[0;32m      9\u001b[0m \u001b[1;31m# current = current.rename(index={'YUCATAN':'YUCATÁN', 'SAN LUIS POTOSI':'SAN LUIS POTOSÍ', 'NUEVO LEON':'NUEVO LEÓN', 'MEXICO':'MÉXICO', 'MICHOACAN':'MICHOACÁN','DISTRITO FEDERAL':'CIUDAD DE MÉXICO'})\u001b[0m\u001b[1;33m\u001b[0m\u001b[1;33m\u001b[0m\u001b[1;33m\u001b[0m\u001b[0m\n",
      "\u001b[1;32mc:\\programdata\\anaconda3\\lib\\site-packages\\pandas\\core\\series.py\u001b[0m in \u001b[0;36mapply\u001b[1;34m(self, func, convert_dtype, args, **kwds)\u001b[0m\n\u001b[0;32m   3589\u001b[0m             \u001b[1;32melse\u001b[0m\u001b[1;33m:\u001b[0m\u001b[1;33m\u001b[0m\u001b[1;33m\u001b[0m\u001b[0m\n\u001b[0;32m   3590\u001b[0m                 \u001b[0mvalues\u001b[0m \u001b[1;33m=\u001b[0m \u001b[0mself\u001b[0m\u001b[1;33m.\u001b[0m\u001b[0mastype\u001b[0m\u001b[1;33m(\u001b[0m\u001b[0mobject\u001b[0m\u001b[1;33m)\u001b[0m\u001b[1;33m.\u001b[0m\u001b[0mvalues\u001b[0m\u001b[1;33m\u001b[0m\u001b[1;33m\u001b[0m\u001b[0m\n\u001b[1;32m-> 3591\u001b[1;33m                 \u001b[0mmapped\u001b[0m \u001b[1;33m=\u001b[0m \u001b[0mlib\u001b[0m\u001b[1;33m.\u001b[0m\u001b[0mmap_infer\u001b[0m\u001b[1;33m(\u001b[0m\u001b[0mvalues\u001b[0m\u001b[1;33m,\u001b[0m \u001b[0mf\u001b[0m\u001b[1;33m,\u001b[0m \u001b[0mconvert\u001b[0m\u001b[1;33m=\u001b[0m\u001b[0mconvert_dtype\u001b[0m\u001b[1;33m)\u001b[0m\u001b[1;33m\u001b[0m\u001b[1;33m\u001b[0m\u001b[0m\n\u001b[0m\u001b[0;32m   3592\u001b[0m \u001b[1;33m\u001b[0m\u001b[0m\n\u001b[0;32m   3593\u001b[0m         \u001b[1;32mif\u001b[0m \u001b[0mlen\u001b[0m\u001b[1;33m(\u001b[0m\u001b[0mmapped\u001b[0m\u001b[1;33m)\u001b[0m \u001b[1;32mand\u001b[0m \u001b[0misinstance\u001b[0m\u001b[1;33m(\u001b[0m\u001b[0mmapped\u001b[0m\u001b[1;33m[\u001b[0m\u001b[1;36m0\u001b[0m\u001b[1;33m]\u001b[0m\u001b[1;33m,\u001b[0m \u001b[0mSeries\u001b[0m\u001b[1;33m)\u001b[0m\u001b[1;33m:\u001b[0m\u001b[1;33m\u001b[0m\u001b[1;33m\u001b[0m\u001b[0m\n",
      "\u001b[1;32mpandas\\_libs\\lib.pyx\u001b[0m in \u001b[0;36mpandas._libs.lib.map_infer\u001b[1;34m()\u001b[0m\n",
      "\u001b[1;32m<ipython-input-74-cd5bf402a1f8>\u001b[0m in \u001b[0;36m<lambda>\u001b[1;34m(name)\u001b[0m\n\u001b[0;32m      5\u001b[0m \u001b[0mmexico\u001b[0m \u001b[1;33m=\u001b[0m \u001b[0mmexico\u001b[0m\u001b[1;33m[\u001b[0m\u001b[1;33m[\u001b[0m\u001b[1;34m'Unnamed: 1'\u001b[0m\u001b[1;33m,\u001b[0m \u001b[1;34m'Unnamed: 3'\u001b[0m\u001b[1;33m,\u001b[0m \u001b[1;34m'Unnamed: 2'\u001b[0m\u001b[1;33m]\u001b[0m\u001b[1;33m]\u001b[0m\u001b[1;33m\u001b[0m\u001b[1;33m\u001b[0m\u001b[0m\n\u001b[0;32m      6\u001b[0m \u001b[0mmexico\u001b[0m \u001b[1;33m=\u001b[0m \u001b[0mmexico\u001b[0m\u001b[1;33m.\u001b[0m\u001b[0mrename\u001b[0m\u001b[1;33m(\u001b[0m\u001b[0mcolumns\u001b[0m\u001b[1;33m=\u001b[0m\u001b[1;33m{\u001b[0m\u001b[1;34m'Unnamed: 1'\u001b[0m\u001b[1;33m:\u001b[0m \u001b[1;34m'Estado'\u001b[0m\u001b[1;33m,\u001b[0m \u001b[1;34m'Unnamed: 2'\u001b[0m\u001b[1;33m:\u001b[0m \u001b[1;34m'Sexo'\u001b[0m\u001b[1;33m,\u001b[0m \u001b[1;34m'Unnamed: 3'\u001b[0m\u001b[1;33m:\u001b[0m \u001b[1;34m'Edad'\u001b[0m\u001b[1;33m}\u001b[0m\u001b[1;33m)\u001b[0m\u001b[1;33m\u001b[0m\u001b[1;33m\u001b[0m\u001b[0m\n\u001b[1;32m----> 7\u001b[1;33m \u001b[0mmexico\u001b[0m\u001b[1;33m[\u001b[0m\u001b[1;34m'Estado'\u001b[0m\u001b[1;33m]\u001b[0m\u001b[1;33m.\u001b[0m\u001b[0mapply\u001b[0m\u001b[1;33m(\u001b[0m\u001b[1;32mlambda\u001b[0m \u001b[0mname\u001b[0m\u001b[1;33m:\u001b[0m \u001b[0mname\u001b[0m\u001b[1;33m[\u001b[0m\u001b[1;33m-\u001b[0m\u001b[1;36m1\u001b[0m\u001b[1;33m]\u001b[0m\u001b[1;33m)\u001b[0m\u001b[1;33m\u001b[0m\u001b[1;33m\u001b[0m\u001b[0m\n\u001b[0m\u001b[0;32m      8\u001b[0m \u001b[0mcurrent\u001b[0m \u001b[1;33m=\u001b[0m \u001b[0mmexico\u001b[0m\u001b[1;33m.\u001b[0m\u001b[0mgroupby\u001b[0m\u001b[1;33m(\u001b[0m\u001b[1;34m'Estado'\u001b[0m\u001b[1;33m)\u001b[0m\u001b[1;33m[\u001b[0m\u001b[1;34m'Sexo'\u001b[0m\u001b[1;33m]\u001b[0m\u001b[1;33m.\u001b[0m\u001b[0mcount\u001b[0m\u001b[1;33m(\u001b[0m\u001b[1;33m)\u001b[0m\u001b[1;33m\u001b[0m\u001b[1;33m\u001b[0m\u001b[0m\n\u001b[0;32m      9\u001b[0m \u001b[1;31m# current = current.rename(index={'YUCATAN':'YUCATÁN', 'SAN LUIS POTOSI':'SAN LUIS POTOSÍ', 'NUEVO LEON':'NUEVO LEÓN', 'MEXICO':'MÉXICO', 'MICHOACAN':'MICHOACÁN','DISTRITO FEDERAL':'CIUDAD DE MÉXICO'})\u001b[0m\u001b[1;33m\u001b[0m\u001b[1;33m\u001b[0m\u001b[1;33m\u001b[0m\u001b[0m\n",
      "\u001b[1;31mTypeError\u001b[0m: 'float' object is not subscriptable"
     ]
    }
   ],
   "source": [
    "mexico = pd.read_csv('data/covidmxraw.csv', skiprows=7)\n",
    "mexico = mexico[:-3]\n",
    "# print(mexico.columns.values)\n",
    "print(mexico)\n",
    "mexico = mexico[['Unnamed: 1', 'Unnamed: 3', 'Unnamed: 2']]\n",
    "mexico = mexico.rename(columns={'Unnamed: 1': 'Estado', 'Unnamed: 2': 'Sexo', 'Unnamed: 3': 'Edad'})\n",
    "mexico['Estado'].apply(lambda name: name[-1])\n",
    "current = mexico.groupby('Estado')['Sexo'].count()\n",
    "# current = current.rename(index={'YUCATAN':'YUCATÁN', 'SAN LUIS POTOSI':'SAN LUIS POTOSÍ', 'NUEVO LEON':'NUEVO LEÓN', 'MEXICO':'MÉXICO', 'MICHOACAN':'MICHOACÁN','DISTRITO FEDERAL':'CIUDAD DE MÉXICO'})\n",
    "current = current.sort_index()\n",
    "current['NACIONAL']=current.sum()\n",
    "print(current)\n",
    "\n",
    "confirmed_mx = pd.read_csv('data/time_series_confirmed_MX.csv',index_col=0)\n",
    "last = pd.read_csv('data/time_series_confirmed_MX.csv',index_col=0)['4/6/20']\n",
    "deaths_df = pd.read_csv('data/deaths.csv')\n",
    "# deaths_df"
   ]
  },
  {
   "cell_type": "code",
   "execution_count": 28,
   "metadata": {},
   "outputs": [
    {
     "output_type": "stream",
     "name": "stdout",
     "text": "Estado\nAGUASCALIENTES            NaN\nBAJA CALIFORNIA           NaN\nBAJA CALIFORNIA SUR       NaN\nCAMPECHE                  NaN\nCHIAPAS                   NaN\nCHIHUAHUA                 NaN\nCIUDAD DE MÉXICO          NaN\nCOAHUILA                  NaN\nCOLIMA                    NaN\nDURANGO                   NaN\nGUANAJUATO                NaN\nGUERRERO                  NaN\nHIDALGO                   NaN\nJALISCO                   NaN\nMICHOACÁN                 NaN\nMORELOS                   NaN\nMÉXICO                    NaN\nNAYARIT                   NaN\nNUEVO LEÓN                NaN\nOAXACA                    NaN\nPUEBLA                    NaN\nQUERETARO                 NaN\nQUINTANA ROO              NaN\nSAN LUIS POTOSÍ           NaN\nSINALOA                   NaN\nSONORA                    NaN\nTABASCO                   NaN\nTAMAULIPAS                NaN\nTLAXCALA                  NaN\nVERACRUZ                  NaN\nYUCATÁN                   NaN\nZACATECAS                 NaN\nNACIONAL               2784.0\nName: 4/7/20, dtype: float64\n"
    }
   ],
   "source": [
    "confirmed_mx['4/7/20'] = last+(current-last)\n",
    "print(confirmed_mx['4/7/20'])\n",
    "confirmed_mx.to_csv('data/time_series_confirmed_MX.csv')"
   ]
  },
  {
   "cell_type": "code",
   "execution_count": 25,
   "metadata": {},
   "outputs": [
    {
     "output_type": "error",
     "ename": "TypeError",
     "evalue": "'<' not supported between instances of 'str' and 'float'",
     "traceback": [
      "\u001b[1;31m---------------------------------------------------------------------------\u001b[0m",
      "\u001b[1;31mTypeError\u001b[0m                                 Traceback (most recent call last)",
      "\u001b[1;32m<ipython-input-25-024f826821ae>\u001b[0m in \u001b[0;36m<module>\u001b[1;34m()\u001b[0m\n\u001b[0;32m      7\u001b[0m \u001b[1;31m#     return country\u001b[0m\u001b[1;33m\u001b[0m\u001b[1;33m\u001b[0m\u001b[1;33m\u001b[0m\u001b[0m\n\u001b[0;32m      8\u001b[0m \u001b[1;31m# mxts = get_country('Mexico')\u001b[0m\u001b[1;33m\u001b[0m\u001b[1;33m\u001b[0m\u001b[1;33m\u001b[0m\u001b[0m\n\u001b[1;32m----> 9\u001b[1;33m \u001b[0mnp\u001b[0m\u001b[1;33m.\u001b[0m\u001b[0msort\u001b[0m\u001b[1;33m(\u001b[0m\u001b[0mmexico\u001b[0m\u001b[1;33m[\u001b[0m\u001b[1;34m'Estado'\u001b[0m\u001b[1;33m]\u001b[0m\u001b[1;33m.\u001b[0m\u001b[0munique\u001b[0m\u001b[1;33m(\u001b[0m\u001b[1;33m)\u001b[0m\u001b[1;33m)\u001b[0m\u001b[1;33m\u001b[0m\u001b[1;33m\u001b[0m\u001b[0m\n\u001b[0m",
      "\u001b[1;32mc:\\programdata\\anaconda3\\lib\\site-packages\\numpy\\core\\fromnumeric.py\u001b[0m in \u001b[0;36msort\u001b[1;34m(a, axis, kind, order)\u001b[0m\n\u001b[0;32m    932\u001b[0m     \u001b[1;32melse\u001b[0m\u001b[1;33m:\u001b[0m\u001b[1;33m\u001b[0m\u001b[1;33m\u001b[0m\u001b[0m\n\u001b[0;32m    933\u001b[0m         \u001b[0ma\u001b[0m \u001b[1;33m=\u001b[0m \u001b[0masanyarray\u001b[0m\u001b[1;33m(\u001b[0m\u001b[0ma\u001b[0m\u001b[1;33m)\u001b[0m\u001b[1;33m.\u001b[0m\u001b[0mcopy\u001b[0m\u001b[1;33m(\u001b[0m\u001b[0morder\u001b[0m\u001b[1;33m=\u001b[0m\u001b[1;34m\"K\"\u001b[0m\u001b[1;33m)\u001b[0m\u001b[1;33m\u001b[0m\u001b[1;33m\u001b[0m\u001b[0m\n\u001b[1;32m--> 934\u001b[1;33m     \u001b[0ma\u001b[0m\u001b[1;33m.\u001b[0m\u001b[0msort\u001b[0m\u001b[1;33m(\u001b[0m\u001b[0maxis\u001b[0m\u001b[1;33m=\u001b[0m\u001b[0maxis\u001b[0m\u001b[1;33m,\u001b[0m \u001b[0mkind\u001b[0m\u001b[1;33m=\u001b[0m\u001b[0mkind\u001b[0m\u001b[1;33m,\u001b[0m \u001b[0morder\u001b[0m\u001b[1;33m=\u001b[0m\u001b[0morder\u001b[0m\u001b[1;33m)\u001b[0m\u001b[1;33m\u001b[0m\u001b[1;33m\u001b[0m\u001b[0m\n\u001b[0m\u001b[0;32m    935\u001b[0m     \u001b[1;32mreturn\u001b[0m \u001b[0ma\u001b[0m\u001b[1;33m\u001b[0m\u001b[1;33m\u001b[0m\u001b[0m\n\u001b[0;32m    936\u001b[0m \u001b[1;33m\u001b[0m\u001b[0m\n",
      "\u001b[1;31mTypeError\u001b[0m: '<' not supported between instances of 'str' and 'float'"
     ]
    }
   ],
   "source": [
    "# df = pd.read_csv('data/covidworld.csv')\n",
    "# df = df.drop('SNo', axis=1)\n",
    "# def get_country(country_name):\n",
    "#     data = df[df['Country/Region']==country_name]\n",
    "#     country = data.groupby('ObservationDate')\n",
    "#     country = country.sum()[1:]\n",
    "#     return country\n",
    "# mxts = get_country('Mexico')\n",
    "np.sort(mexico['Estado'].unique())"
   ]
  },
  {
   "cell_type": "code",
   "execution_count": 21,
   "metadata": {},
   "outputs": [
    {
     "output_type": "error",
     "ename": "TypeError",
     "evalue": "'<' not supported between instances of 'str' and 'float'",
     "traceback": [
      "\u001b[1;31m---------------------------------------------------------------------------\u001b[0m",
      "\u001b[1;31mTypeError\u001b[0m                                 Traceback (most recent call last)",
      "\u001b[1;32m<ipython-input-21-18bbdff692f4>\u001b[0m in \u001b[0;36m<module>\u001b[1;34m()\u001b[0m\n\u001b[0;32m      9\u001b[0m \u001b[0mdeaths_mx\u001b[0m \u001b[1;33m=\u001b[0m \u001b[0mdeaths_mx\u001b[0m\u001b[1;33m[\u001b[0m\u001b[0mdeaths_mx\u001b[0m\u001b[1;33m>=\u001b[0m\u001b[1;36m37\u001b[0m\u001b[1;33m]\u001b[0m\u001b[1;33m\u001b[0m\u001b[1;33m\u001b[0m\u001b[0m\n\u001b[0;32m     10\u001b[0m \u001b[1;33m\u001b[0m\u001b[0m\n\u001b[1;32m---> 11\u001b[1;33m \u001b[0mindex\u001b[0m \u001b[1;33m=\u001b[0m \u001b[0mnp\u001b[0m\u001b[1;33m.\u001b[0m\u001b[0msort\u001b[0m\u001b[1;33m(\u001b[0m\u001b[0mmexico\u001b[0m\u001b[1;33m[\u001b[0m\u001b[1;34m'Estado'\u001b[0m\u001b[1;33m]\u001b[0m\u001b[1;33m.\u001b[0m\u001b[0munique\u001b[0m\u001b[1;33m(\u001b[0m\u001b[1;33m)\u001b[0m\u001b[1;33m)\u001b[0m\u001b[1;33m\u001b[0m\u001b[1;33m\u001b[0m\u001b[0m\n\u001b[0m\u001b[0;32m     12\u001b[0m \u001b[0mindex\u001b[0m \u001b[1;33m=\u001b[0m \u001b[0mnp\u001b[0m\u001b[1;33m.\u001b[0m\u001b[0mappend\u001b[0m\u001b[1;33m(\u001b[0m\u001b[0mindex\u001b[0m\u001b[1;33m,\u001b[0m \u001b[1;34m'NACIONAL'\u001b[0m\u001b[1;33m)\u001b[0m\u001b[1;33m\u001b[0m\u001b[1;33m\u001b[0m\u001b[0m\n\u001b[0;32m     13\u001b[0m \u001b[0mconfirmed_states\u001b[0m \u001b[1;33m=\u001b[0m \u001b[0mpd\u001b[0m\u001b[1;33m.\u001b[0m\u001b[0mDataFrame\u001b[0m\u001b[1;33m(\u001b[0m\u001b[0mindex\u001b[0m\u001b[1;33m=\u001b[0m\u001b[0mindex\u001b[0m\u001b[1;33m)\u001b[0m\u001b[1;33m\u001b[0m\u001b[1;33m\u001b[0m\u001b[0m\n",
      "\u001b[1;32mc:\\programdata\\anaconda3\\lib\\site-packages\\numpy\\core\\fromnumeric.py\u001b[0m in \u001b[0;36msort\u001b[1;34m(a, axis, kind, order)\u001b[0m\n\u001b[0;32m    932\u001b[0m     \u001b[1;32melse\u001b[0m\u001b[1;33m:\u001b[0m\u001b[1;33m\u001b[0m\u001b[1;33m\u001b[0m\u001b[0m\n\u001b[0;32m    933\u001b[0m         \u001b[0ma\u001b[0m \u001b[1;33m=\u001b[0m \u001b[0masanyarray\u001b[0m\u001b[1;33m(\u001b[0m\u001b[0ma\u001b[0m\u001b[1;33m)\u001b[0m\u001b[1;33m.\u001b[0m\u001b[0mcopy\u001b[0m\u001b[1;33m(\u001b[0m\u001b[0morder\u001b[0m\u001b[1;33m=\u001b[0m\u001b[1;34m\"K\"\u001b[0m\u001b[1;33m)\u001b[0m\u001b[1;33m\u001b[0m\u001b[1;33m\u001b[0m\u001b[0m\n\u001b[1;32m--> 934\u001b[1;33m     \u001b[0ma\u001b[0m\u001b[1;33m.\u001b[0m\u001b[0msort\u001b[0m\u001b[1;33m(\u001b[0m\u001b[0maxis\u001b[0m\u001b[1;33m=\u001b[0m\u001b[0maxis\u001b[0m\u001b[1;33m,\u001b[0m \u001b[0mkind\u001b[0m\u001b[1;33m=\u001b[0m\u001b[0mkind\u001b[0m\u001b[1;33m,\u001b[0m \u001b[0morder\u001b[0m\u001b[1;33m=\u001b[0m\u001b[0morder\u001b[0m\u001b[1;33m)\u001b[0m\u001b[1;33m\u001b[0m\u001b[1;33m\u001b[0m\u001b[0m\n\u001b[0m\u001b[0;32m    935\u001b[0m     \u001b[1;32mreturn\u001b[0m \u001b[0ma\u001b[0m\u001b[1;33m\u001b[0m\u001b[1;33m\u001b[0m\u001b[0m\n\u001b[0;32m    936\u001b[0m \u001b[1;33m\u001b[0m\u001b[0m\n",
      "\u001b[1;31mTypeError\u001b[0m: '<' not supported between instances of 'str' and 'float'"
     ]
    }
   ],
   "source": [
    "df = pd.read_csv('https://raw.githubusercontent.com/CSSEGISandData/COVID-19/master/csse_covid_19_data/csse_covid_19_time_series/time_series_covid19_confirmed_global.csv')\n",
    "confirmed_mx = df.iloc[158][4:].shift(-1)\n",
    "confirmed_mx[-1] = mexico.index[-1]\n",
    "confirmed_mx = confirmed_mx[confirmed_mx>=1]\n",
    "\n",
    "df = pd.read_csv('https://raw.githubusercontent.com/CSSEGISandData/COVID-19/master/csse_covid_19_data/csse_covid_19_time_series/time_series_covid19_deaths_global.csv')\n",
    "deaths_mx = df.iloc[158][4:].shift(-1)\n",
    "deaths_mx[-1]= mexico.index[-1]\n",
    "deaths_mx = deaths_mx[deaths_mx>=37]\n",
    "\n",
    "index = np.sort(mexico['Estado'].unique())\n",
    "index = np.append(index, 'NACIONAL')\n",
    "confirmed_states = pd.DataFrame(index=index)\n",
    "deaths_states = pd.DataFrame(index=index)"
   ]
  },
  {
   "cell_type": "code",
   "execution_count": null,
   "metadata": {},
   "outputs": [],
   "source": [
    "for i in range(0,confirmed_mx.size):\n",
    "    upbound = confirmed_mx[i]\n",
    "    confirmed = mexico[:upbound].groupby('Estado')\n",
    "    confirmed = confirmed['Estado'].count()\n",
    "    confirmed_states[confirmed_mx.index[i]]=confirmed\n",
    "    confirmed_states[confirmed_mx.index[i]][-1]=confirmed.sum()\n",
    "confirmed_states = confirmed_states.fillna(0)\n",
    "confirmed_states.to_csv('data/time_series_confirmed_MX.csv')\n",
    "confirmed_states.index.name='Estado'\n",
    "confirmed_states"
   ]
  },
  {
   "cell_type": "code",
   "execution_count": null,
   "metadata": {},
   "outputs": [],
   "source": [
    "for i in range(0,deaths_mx.size):\n",
    "    deaths = deaths_df.groupby('ObservationDay').get_group(deaths_mx.index[i]).set_index('Estado')['Deaths']\n",
    "    deaths_states[deaths_mx.index[i]]=deaths \n",
    "    deaths_states[deaths_mx.index[i]][-1]=deaths.sum()\n",
    "deaths_states = deaths_states.fillna(0)\n",
    "deaths_states.to_csv('data/time_series_deaths_MX.csv')"
   ]
  },
  {
   "cell_type": "code",
   "execution_count": 258,
   "metadata": {},
   "outputs": [],
   "source": [
    "# statests = pd.DataFrame()\n",
    "# statests.index.name='Observation date'\n",
    "# for i in range(0,mxts.size):\n",
    "#     upbound = mxts[i]\n",
    "#     day = pd.DataFrame(index=np.repeat(mxts.index[i],mexico[:upbound]['Estado'].unique().size))\n",
    "    \n",
    "#     states = mexico[:upbound].groupby('Estado')\n",
    "#     states = states['Estado'].count()\n",
    "#     day['Province/State'] = states.index.values\n",
    "#     day['Confirmed'] = states.values\n",
    "#     statests = statests.append(day)\n",
    "\n",
    "# statests.to_csv('data/covidstates.csv')\n",
    "# statests "
   ]
  },
  {
   "cell_type": "code",
   "execution_count": 280,
   "metadata": {},
   "outputs": [],
   "source": [
    "infected = confirmed_states['4/5/20'][:-1]\n",
    "infected = infected.rename({'CIUDAD DE MÉXICO': 'DISTRITO FEDERAL', 'MÉXICO': 'MEXICO', 'NUEVO LEÓN':'NUEVO LEON', 'SAN LUIS POTOSÍ':'SAN LUIS POTOSI'})\n",
    "infected = infected.sort_index()"
   ]
  },
  {
   "cell_type": "code",
   "execution_count": 282,
   "metadata": {},
   "outputs": [],
   "source": [
    "states = gpd.read_file('data/geopandas/states.shp')\n",
    "states['infected'] = infected.values\n",
    "states.to_file('data/geopandas/states.shp')"
   ]
  },
  {
   "cell_type": "code",
   "execution_count": 268,
   "metadata": {},
   "outputs": [
    {
     "output_type": "execute_result",
     "data": {
      "text/plain": "                                                              geometry\nEDO_LEY                                                               \nAguascalientes       POLYGON ((1993254.060 2470042.750, 1993226.230...\nBaja California      POLYGON ((783083.300 3526355.800, 783153.290 3...\nBaja California Sur  POLYGON ((1219453.790 2697323.730, 1219461.630...\nCampeche             POLYGON ((3350351.070 2210287.450, 3350341.040...\nChiapas              POLYGON ((3196187.560 1884582.770, 3195792.500...\nChihuahua            POLYGON ((1559452.950 2963438.950, 1560518.660...\nCoahuila             POLYGON ((2119857.980 2840155.860, 2119673.130...\nColima               POLYGON ((1833910.180 2149026.830, 1833859.160...\nDistrito Federal     POLYGON ((2318167.990 2187076.220, 2318199.040...\nDurango              POLYGON ((1910864.620 2796771.050, 1910929.070...\nGuanajuato           POLYGON ((2038843.790 2306095.360, 2038916.160...\nGuerrero             POLYGON ((2188662.120 1940736.910, 2188504.250...\nHidalgo              POLYGON ((2265713.830 2272497.360, 2265814.610...\nJalisco              POLYGON ((1744290.770 2194661.910, 1744274.580...\nMexico               POLYGON ((2354532.200 2169113.430, 2354431.930...\nMichoacan            POLYGON ((1986277.180 2072107.990, 1986148.170...\nMorelos              POLYGON ((2341679.880 2137131.920, 2341757.880...\nNayarit              POLYGON ((1692845.200 2376179.690, 1692835.530...\nNuevo Leon           POLYGON ((2207427.900 2657139.760, 2208754.850...\nOaxaca               POLYGON ((2438913.570 1843293.840, 2438764.250...\nPuebla               POLYGON ((2491264.360 2072875.490, 2491251.610...\nQueretaro            POLYGON ((2210827.300 2299982.770, 2210833.490...\nQuintana Roo         MULTIPOLYGON (((3576963.450 2488936.670, 35769...\nSan Luis Potosi      POLYGON ((2177896.710 2459317.890, 2177539.180...\nSinaloa              POLYGON ((1643212.170 2586412.350, 1643205.270...\nSonora               POLYGON ((1200425.240 3077959.130, 1200389.500...\nTabasco              POLYGON ((3168756.570 2035383.070, 3170147.620...\nTamaulipas           POLYGON ((2428243.830 2535037.570, 2428379.670...\nTlaxcala             POLYGON ((2433168.430 2195132.330, 2432948.290...\nVeracruz             POLYGON ((2527113.130 2119291.770, 2527043.050...\nYucatan              POLYGON ((3412641.660 2367227.290, 3412681.500...\nZacatecas            POLYGON ((1870190.120 2392365.140, 1870166.770...",
      "text/html": "<div>\n<style scoped>\n    .dataframe tbody tr th:only-of-type {\n        vertical-align: middle;\n    }\n\n    .dataframe tbody tr th {\n        vertical-align: top;\n    }\n\n    .dataframe thead th {\n        text-align: right;\n    }\n</style>\n<table border=\"1\" class=\"dataframe\">\n  <thead>\n    <tr style=\"text-align: right;\">\n      <th></th>\n      <th>geometry</th>\n    </tr>\n    <tr>\n      <th>EDO_LEY</th>\n      <th></th>\n    </tr>\n  </thead>\n  <tbody>\n    <tr>\n      <th>Aguascalientes</th>\n      <td>POLYGON ((1993254.060 2470042.750, 1993226.230...</td>\n    </tr>\n    <tr>\n      <th>Baja California</th>\n      <td>POLYGON ((783083.300 3526355.800, 783153.290 3...</td>\n    </tr>\n    <tr>\n      <th>Baja California Sur</th>\n      <td>POLYGON ((1219453.790 2697323.730, 1219461.630...</td>\n    </tr>\n    <tr>\n      <th>Campeche</th>\n      <td>POLYGON ((3350351.070 2210287.450, 3350341.040...</td>\n    </tr>\n    <tr>\n      <th>Chiapas</th>\n      <td>POLYGON ((3196187.560 1884582.770, 3195792.500...</td>\n    </tr>\n    <tr>\n      <th>Chihuahua</th>\n      <td>POLYGON ((1559452.950 2963438.950, 1560518.660...</td>\n    </tr>\n    <tr>\n      <th>Coahuila</th>\n      <td>POLYGON ((2119857.980 2840155.860, 2119673.130...</td>\n    </tr>\n    <tr>\n      <th>Colima</th>\n      <td>POLYGON ((1833910.180 2149026.830, 1833859.160...</td>\n    </tr>\n    <tr>\n      <th>Distrito Federal</th>\n      <td>POLYGON ((2318167.990 2187076.220, 2318199.040...</td>\n    </tr>\n    <tr>\n      <th>Durango</th>\n      <td>POLYGON ((1910864.620 2796771.050, 1910929.070...</td>\n    </tr>\n    <tr>\n      <th>Guanajuato</th>\n      <td>POLYGON ((2038843.790 2306095.360, 2038916.160...</td>\n    </tr>\n    <tr>\n      <th>Guerrero</th>\n      <td>POLYGON ((2188662.120 1940736.910, 2188504.250...</td>\n    </tr>\n    <tr>\n      <th>Hidalgo</th>\n      <td>POLYGON ((2265713.830 2272497.360, 2265814.610...</td>\n    </tr>\n    <tr>\n      <th>Jalisco</th>\n      <td>POLYGON ((1744290.770 2194661.910, 1744274.580...</td>\n    </tr>\n    <tr>\n      <th>Mexico</th>\n      <td>POLYGON ((2354532.200 2169113.430, 2354431.930...</td>\n    </tr>\n    <tr>\n      <th>Michoacan</th>\n      <td>POLYGON ((1986277.180 2072107.990, 1986148.170...</td>\n    </tr>\n    <tr>\n      <th>Morelos</th>\n      <td>POLYGON ((2341679.880 2137131.920, 2341757.880...</td>\n    </tr>\n    <tr>\n      <th>Nayarit</th>\n      <td>POLYGON ((1692845.200 2376179.690, 1692835.530...</td>\n    </tr>\n    <tr>\n      <th>Nuevo Leon</th>\n      <td>POLYGON ((2207427.900 2657139.760, 2208754.850...</td>\n    </tr>\n    <tr>\n      <th>Oaxaca</th>\n      <td>POLYGON ((2438913.570 1843293.840, 2438764.250...</td>\n    </tr>\n    <tr>\n      <th>Puebla</th>\n      <td>POLYGON ((2491264.360 2072875.490, 2491251.610...</td>\n    </tr>\n    <tr>\n      <th>Queretaro</th>\n      <td>POLYGON ((2210827.300 2299982.770, 2210833.490...</td>\n    </tr>\n    <tr>\n      <th>Quintana Roo</th>\n      <td>MULTIPOLYGON (((3576963.450 2488936.670, 35769...</td>\n    </tr>\n    <tr>\n      <th>San Luis Potosi</th>\n      <td>POLYGON ((2177896.710 2459317.890, 2177539.180...</td>\n    </tr>\n    <tr>\n      <th>Sinaloa</th>\n      <td>POLYGON ((1643212.170 2586412.350, 1643205.270...</td>\n    </tr>\n    <tr>\n      <th>Sonora</th>\n      <td>POLYGON ((1200425.240 3077959.130, 1200389.500...</td>\n    </tr>\n    <tr>\n      <th>Tabasco</th>\n      <td>POLYGON ((3168756.570 2035383.070, 3170147.620...</td>\n    </tr>\n    <tr>\n      <th>Tamaulipas</th>\n      <td>POLYGON ((2428243.830 2535037.570, 2428379.670...</td>\n    </tr>\n    <tr>\n      <th>Tlaxcala</th>\n      <td>POLYGON ((2433168.430 2195132.330, 2432948.290...</td>\n    </tr>\n    <tr>\n      <th>Veracruz</th>\n      <td>POLYGON ((2527113.130 2119291.770, 2527043.050...</td>\n    </tr>\n    <tr>\n      <th>Yucatan</th>\n      <td>POLYGON ((3412641.660 2367227.290, 3412681.500...</td>\n    </tr>\n    <tr>\n      <th>Zacatecas</th>\n      <td>POLYGON ((1870190.120 2392365.140, 1870166.770...</td>\n    </tr>\n  </tbody>\n</table>\n</div>"
     },
     "metadata": {},
     "execution_count": 268
    }
   ],
   "source": [
    "# path = 'data/geopandas/PHLITL_2000.shp'\n",
    "# data = gpd.read_file(path)\n",
    "# counties = data[['EDO_LEY', 'geometry']]\n",
    "# states = counties.dissolve(by='EDO_LEY')\n",
    "# states = states.sort_index()\n",
    "# states "
   ]
  }
 ]
}