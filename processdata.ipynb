{
 "nbformat": 4,
 "nbformat_minor": 2,
 "metadata": {
  "language_info": {
   "name": "python",
   "codemirror_mode": {
    "name": "ipython",
    "version": 3
   },
   "version": "3.7.4-final"
  },
  "orig_nbformat": 2,
  "file_extension": ".py",
  "mimetype": "text/x-python",
  "name": "python",
  "npconvert_exporter": "python",
  "pygments_lexer": "ipython3",
  "version": 3,
  "kernelspec": {
   "name": "python3",
   "display_name": "Python 3"
  }
 },
 "cells": [
  {
   "cell_type": "code",
   "execution_count": 288,
   "metadata": {},
   "outputs": [],
   "source": [
    "import numpy as np\n",
    "import pandas as pd\n",
    "import geopandas as gpd\n",
    "import matplotlib.pyplot as plt \n",
    "plt.style.use('seaborn')\n",
    "%matplotlib qt"
   ]
  },
  {
   "cell_type": "code",
   "execution_count": 379,
   "metadata": {},
   "outputs": [],
   "source": [
    "mexico = pd.read_csv('data/covidmxraw.csv', skiprows=3)\n",
    "mexico = mexico[:-3]\n",
    "# print(mexico.columns.values)\n",
    "mexico = mexico[['Unnamed: 1', 'Unnamed: 3', 'Unnamed: 2']]\n",
    "mexico = mexico.rename(columns={'Unnamed: 1': 'Estado', 'Unnamed: 2': 'Sexo', 'Unnamed: 3': 'Edad'})\n",
    "mexico.to_csv('data/covidmx.csv')\n",
    "current = mexico.groupby('Estado')['Sexo'].count()\n",
    "current = current.rename(index={'YUCATAN':'YUCATÁN', 'SAN LUIS POTOSI':'SAN LUIS POTOSÍ', 'NUEVO LEON':'NUEVO LEÓN', 'MEXICO':'MÉXICO', 'MICHOACAN':'MICHOACÁN','DISTRITO FEDERAL':'CIUDAD DE MÉXICO'})\n",
    "current = current.sort_index()\n",
    "current['NACIONAL']=current.sum()\n",
    "\n",
    "confirmed_mx = pd.read_csv('data/time_series_confirmed_MX.csv',index_col=0)\n",
    "last = pd.read_csv('data/time_series_confirmed_MX.csv',index_col=0)['4/5/20']\n",
    "\n",
    "deaths_df = pd.read_csv('data/deaths.csv')\n",
    "# deaths_df"
   ]
  },
  {
   "cell_type": "code",
   "execution_count": 380,
   "metadata": {},
   "outputs": [],
   "source": [
    "confirmed_mx['4/6/20'] = last+(current-last)\n",
    "confirmed_mx\n",
    "confirmed_mx.to_csv('data/time_series_confirmed_MX.csv')"
   ]
  },
  {
   "cell_type": "code",
   "execution_count": 254,
   "metadata": {},
   "outputs": [],
   "source": [
    "# df = pd.read_csv('data/covidworld.csv')\n",
    "# df = df.drop('SNo', axis=1)\n",
    "# def get_country(country_name):\n",
    "#     data = df[df['Country/Region']==country_name]\n",
    "#     country = data.groupby('ObservationDate')\n",
    "#     country = country.sum()[1:]\n",
    "#     return country\n",
    "# mxts = get_country('Mexico')"
   ]
  },
  {
   "cell_type": "code",
   "execution_count": 255,
   "metadata": {},
   "outputs": [],
   "source": [
    "df = pd.read_csv('https://raw.githubusercontent.com/CSSEGISandData/COVID-19/master/csse_covid_19_data/csse_covid_19_time_series/time_series_covid19_confirmed_global.csv')\n",
    "confirmed_mx = df.iloc[158][4:].shift(-1)\n",
    "confirmed_mx[-1] = mexico.index[-1]\n",
    "confirmed_mx = confirmed_mx[confirmed_mx>=1]\n",
    "\n",
    "df = pd.read_csv('https://raw.githubusercontent.com/CSSEGISandData/COVID-19/master/csse_covid_19_data/csse_covid_19_time_series/time_series_covid19_deaths_global.csv')\n",
    "deaths_mx = df.iloc[158][4:].shift(-1)\n",
    "deaths_mx[-1]= mexico.index[-1]\n",
    "deaths_mx = deaths_mx[deaths_mx>=37]\n",
    "\n",
    "index = np.sort(mexico['Estado'].unique())\n",
    "index = np.append(index, 'NACIONAL')\n",
    "confirmed_states = pd.DataFrame(index=index)\n",
    "deaths_states = pd.DataFrame(index=index)"
   ]
  },
  {
   "cell_type": "code",
   "execution_count": 287,
   "metadata": {},
   "outputs": [
    {
     "output_type": "execute_result",
     "data": {
      "text/plain": "                     2/27/20  2/28/20  2/29/20  3/1/20  3/2/20  3/3/20  \\\nEstado                                                                   \nAGUASCALIENTES           0.0      0.0      0.0     0.0     0.0     0.0   \nBAJA CALIFORNIA          0.0      0.0      0.0     0.0     0.0     0.0   \nBAJA CALIFORNIA SUR      0.0      0.0      0.0     0.0     0.0     0.0   \nCAMPECHE                 0.0      0.0      0.0     0.0     0.0     0.0   \nCHIAPAS                  0.0      0.0      1.0     1.0     1.0     1.0   \nCHIHUAHUA                0.0      0.0      0.0     0.0     0.0     0.0   \nCIUDAD DE MÉXICO         1.0      2.0      2.0     2.0     2.0     2.0   \nCOAHUILA                 0.0      1.0      1.0     1.0     1.0     1.0   \nCOLIMA                   0.0      0.0      0.0     0.0     0.0     0.0   \nDURANGO                  0.0      0.0      0.0     0.0     0.0     0.0   \nGUANAJUATO               0.0      0.0      0.0     0.0     0.0     0.0   \nGUERRERO                 0.0      0.0      0.0     0.0     0.0     0.0   \nHIDALGO                  0.0      0.0      0.0     0.0     0.0     0.0   \nJALISCO                  0.0      0.0      0.0     0.0     0.0     0.0   \nMICHOACÁN                0.0      0.0      0.0     0.0     0.0     0.0   \nMORELOS                  0.0      0.0      0.0     0.0     0.0     0.0   \nMÉXICO                   0.0      0.0      0.0     0.0     0.0     0.0   \nNAYARIT                  0.0      0.0      0.0     0.0     0.0     0.0   \nNUEVO LEÓN               0.0      0.0      0.0     0.0     0.0     0.0   \nOAXACA                   0.0      0.0      0.0     0.0     0.0     0.0   \nPUEBLA                   0.0      0.0      0.0     0.0     0.0     0.0   \nQUERETARO                0.0      0.0      0.0     0.0     0.0     0.0   \nQUINTANA ROO             0.0      0.0      0.0     0.0     0.0     0.0   \nSAN LUIS POTOSÍ          0.0      0.0      0.0     0.0     0.0     0.0   \nSINALOA                  0.0      1.0      1.0     1.0     1.0     1.0   \nSONORA                   0.0      0.0      0.0     0.0     0.0     0.0   \nTABASCO                  0.0      0.0      0.0     0.0     0.0     0.0   \nTAMAULIPAS               0.0      0.0      0.0     0.0     0.0     0.0   \nTLAXCALA                 0.0      0.0      0.0     0.0     0.0     0.0   \nVERACRUZ                 0.0      0.0      0.0     0.0     0.0     0.0   \nYUCATÁN                  0.0      0.0      0.0     0.0     0.0     0.0   \nZACATECAS                0.0      0.0      0.0     0.0     0.0     0.0   \nNACIONAL                 1.0      4.0      5.0     5.0     5.0     5.0   \n\n                     3/4/20  3/5/20  3/6/20  3/7/20  ...  3/27/20  3/28/20  \\\nEstado                                               ...                     \nAGUASCALIENTES          0.0     0.0     0.0     0.0  ...     19.0     20.0   \nBAJA CALIFORNIA         0.0     0.0     0.0     0.0  ...     20.0     22.0   \nBAJA CALIFORNIA SUR     0.0     0.0     0.0     0.0  ...      8.0      9.0   \nCAMPECHE                0.0     0.0     0.0     0.0  ...      2.0      3.0   \nCHIAPAS                 1.0     1.0     1.0     1.0  ...      6.0      6.0   \nCHIHUAHUA               0.0     0.0     0.0     0.0  ...      6.0      6.0   \nCIUDAD DE MÉXICO        2.0     2.0     2.0     3.0  ...    109.0    167.0   \nCOAHUILA                1.0     1.0     1.0     1.0  ...     14.0     16.0   \nCOLIMA                  0.0     0.0     0.0     0.0  ...      2.0      2.0   \nDURANGO                 0.0     0.0     0.0     0.0  ...      7.0      7.0   \nGUANAJUATO              0.0     0.0     0.0     0.0  ...     31.0     37.0   \nGUERRERO                0.0     0.0     0.0     0.0  ...      8.0     11.0   \nHIDALGO                 0.0     0.0     0.0     0.0  ...     12.0     16.0   \nJALISCO                 0.0     0.0     0.0     0.0  ...     76.0     80.0   \nMICHOACÁN               0.0     0.0     0.0     0.0  ...     16.0     17.0   \nMORELOS                 0.0     0.0     0.0     0.0  ...      4.0      4.0   \nMÉXICO                  0.0     1.0     1.0     1.0  ...     63.0     81.0   \nNAYARIT                 0.0     0.0     0.0     0.0  ...      5.0      5.0   \nNUEVO LEÓN              0.0     0.0     0.0     0.0  ...     63.0     64.0   \nOAXACA                  0.0     0.0     0.0     0.0  ...     11.0     12.0   \nPUEBLA                  0.0     0.0     0.0     0.0  ...     49.0     57.0   \nQUERETARO               0.0     0.0     0.0     0.0  ...     24.0     25.0   \nQUINTANA ROO            0.0     0.0     0.0     0.0  ...     29.0     34.0   \nSAN LUIS POTOSÍ         0.0     0.0     0.0     0.0  ...     19.0     20.0   \nSINALOA                 1.0     1.0     1.0     1.0  ...     10.0     14.0   \nSONORA                  0.0     0.0     0.0     0.0  ...      9.0     10.0   \nTABASCO                 0.0     0.0     0.0     0.0  ...     21.0     25.0   \nTAMAULIPAS              0.0     0.0     0.0     0.0  ...      6.0      7.0   \nTLAXCALA                0.0     0.0     0.0     0.0  ...      4.0      4.0   \nVERACRUZ                0.0     0.0     0.0     0.0  ...     23.0     23.0   \nYUCATÁN                 0.0     0.0     0.0     0.0  ...     37.0     40.0   \nZACATECAS               0.0     0.0     0.0     0.0  ...      4.0      4.0   \nNACIONAL                5.0     6.0     6.0     7.0  ...    717.0    848.0   \n\n                     3/29/20  3/30/20  3/31/20  4/1/20  4/2/20  4/3/20  \\\nEstado                                                                   \nAGUASCALIENTES          24.0     31.0     36.0    41.0    43.0    49.0   \nBAJA CALIFORNIA         26.0     31.0     35.0    36.0    47.0    54.0   \nBAJA CALIFORNIA SUR     11.0     13.0     17.0    18.0    19.0    20.0   \nCAMPECHE                 3.0      3.0      5.0     5.0     6.0     6.0   \nCHIAPAS                 10.0     11.0     12.0    13.0    16.0    17.0   \nCHIHUAHUA                6.0      6.0      8.0    10.0    11.0    12.0   \nCIUDAD DE MÉXICO       195.0    201.0    234.0   288.0   327.0   384.0   \nCOAHUILA                33.0     37.0     48.0    56.0    62.0    69.0   \nCOLIMA                   2.0      2.0      2.0     2.0     3.0     4.0   \nDURANGO                  7.0      7.0      7.0     7.0     8.0     8.0   \nGUANAJUATO              37.0     43.0     46.0    47.0    50.0    52.0   \nGUERRERO                13.0     14.0     15.0    18.0    20.0    25.0   \nHIDALGO                 17.0     17.0     20.0    21.0    26.0    30.0   \nJALISCO                 81.0     86.0     91.0    95.0    98.0   115.0   \nMICHOACÁN               17.0     21.0     21.0    23.0    24.0    26.0   \nMORELOS                  6.0      6.0      7.0     9.0     9.0    12.0   \nMÉXICO                 111.0    124.0    140.0   154.0   166.0   173.0   \nNAYARIT                  5.0      6.0      6.0     7.0     8.0     8.0   \nNUEVO LEÓN              67.0     74.0     76.0    76.0    79.0    85.0   \nOAXACA                  14.0     14.0     15.0    20.0    22.0    22.0   \nPUEBLA                  66.0     77.0     82.0    99.0   103.0   108.0   \nQUERETARO               26.0     27.0     29.0    32.0    32.0    35.0   \nQUINTANA ROO            38.0     42.0     47.0    51.0    55.0    65.0   \nSAN LUIS POTOSÍ         24.0     25.0     25.0    30.0    33.0    35.0   \nSINALOA                 21.0     24.0     30.0    40.0    49.0    54.0   \nSONORA                  14.0     17.0     17.0    21.0    22.0    23.0   \nTABASCO                 33.0     44.0     49.0    58.0    62.0    72.0   \nTAMAULIPAS               7.0      8.0      8.0     9.0    13.0    15.0   \nTLAXCALA                 4.0      4.0      4.0     5.0     7.0     8.0   \nVERACRUZ                25.0     27.0     28.0    28.0    30.0    36.0   \nYUCATÁN                 44.0     46.0     49.0    53.0    54.0    59.0   \nZACATECAS                6.0      6.0      6.0     6.0     6.0     7.0   \nNACIONAL               993.0   1094.0   1215.0  1378.0  1510.0  1688.0   \n\n                     4/4/20  4/5/20  \nEstado                               \nAGUASCALIENTES         49.0    49.0  \nBAJA CALIFORNIA        60.0    69.0  \nBAJA CALIFORNIA SUR    23.0    28.0  \nCAMPECHE                8.0     8.0  \nCHIAPAS                20.0    25.0  \nCHIHUAHUA              13.0    15.0  \nCIUDAD DE MÉXICO      459.0   559.0  \nCOAHUILA               73.0    82.0  \nCOLIMA                  4.0     4.0  \nDURANGO                10.0    12.0  \nGUANAJUATO             53.0    53.0  \nGUERRERO               26.0    30.0  \nHIDALGO                32.0    34.0  \nJALISCO               117.0   123.0  \nMICHOACÁN              29.0    30.0  \nMORELOS                14.0    15.0  \nMÉXICO                187.0   204.0  \nNAYARIT                 9.0     9.0  \nNUEVO LEÓN             86.0    91.0  \nOAXACA                 22.0    25.0  \nPUEBLA                127.0   147.0  \nQUERETARO              36.0    38.0  \nQUINTANA ROO           76.0    86.0  \nSAN LUIS POTOSÍ        35.0    37.0  \nSINALOA                79.0    90.0  \nSONORA                 26.0    28.0  \nTABASCO                86.0    97.0  \nTAMAULIPAS             19.0    26.0  \nTLAXCALA                8.0    11.0  \nVERACRUZ               37.0    40.0  \nYUCATÁN                59.0    67.0  \nZACATECAS               8.0    10.0  \nNACIONAL             1890.0  2142.0  \n\n[33 rows x 39 columns]",
      "text/html": "<div>\n<style scoped>\n    .dataframe tbody tr th:only-of-type {\n        vertical-align: middle;\n    }\n\n    .dataframe tbody tr th {\n        vertical-align: top;\n    }\n\n    .dataframe thead th {\n        text-align: right;\n    }\n</style>\n<table border=\"1\" class=\"dataframe\">\n  <thead>\n    <tr style=\"text-align: right;\">\n      <th></th>\n      <th>2/27/20</th>\n      <th>2/28/20</th>\n      <th>2/29/20</th>\n      <th>3/1/20</th>\n      <th>3/2/20</th>\n      <th>3/3/20</th>\n      <th>3/4/20</th>\n      <th>3/5/20</th>\n      <th>3/6/20</th>\n      <th>3/7/20</th>\n      <th>...</th>\n      <th>3/27/20</th>\n      <th>3/28/20</th>\n      <th>3/29/20</th>\n      <th>3/30/20</th>\n      <th>3/31/20</th>\n      <th>4/1/20</th>\n      <th>4/2/20</th>\n      <th>4/3/20</th>\n      <th>4/4/20</th>\n      <th>4/5/20</th>\n    </tr>\n    <tr>\n      <th>Estado</th>\n      <th></th>\n      <th></th>\n      <th></th>\n      <th></th>\n      <th></th>\n      <th></th>\n      <th></th>\n      <th></th>\n      <th></th>\n      <th></th>\n      <th></th>\n      <th></th>\n      <th></th>\n      <th></th>\n      <th></th>\n      <th></th>\n      <th></th>\n      <th></th>\n      <th></th>\n      <th></th>\n      <th></th>\n    </tr>\n  </thead>\n  <tbody>\n    <tr>\n      <th>AGUASCALIENTES</th>\n      <td>0.0</td>\n      <td>0.0</td>\n      <td>0.0</td>\n      <td>0.0</td>\n      <td>0.0</td>\n      <td>0.0</td>\n      <td>0.0</td>\n      <td>0.0</td>\n      <td>0.0</td>\n      <td>0.0</td>\n      <td>...</td>\n      <td>19.0</td>\n      <td>20.0</td>\n      <td>24.0</td>\n      <td>31.0</td>\n      <td>36.0</td>\n      <td>41.0</td>\n      <td>43.0</td>\n      <td>49.0</td>\n      <td>49.0</td>\n      <td>49.0</td>\n    </tr>\n    <tr>\n      <th>BAJA CALIFORNIA</th>\n      <td>0.0</td>\n      <td>0.0</td>\n      <td>0.0</td>\n      <td>0.0</td>\n      <td>0.0</td>\n      <td>0.0</td>\n      <td>0.0</td>\n      <td>0.0</td>\n      <td>0.0</td>\n      <td>0.0</td>\n      <td>...</td>\n      <td>20.0</td>\n      <td>22.0</td>\n      <td>26.0</td>\n      <td>31.0</td>\n      <td>35.0</td>\n      <td>36.0</td>\n      <td>47.0</td>\n      <td>54.0</td>\n      <td>60.0</td>\n      <td>69.0</td>\n    </tr>\n    <tr>\n      <th>BAJA CALIFORNIA SUR</th>\n      <td>0.0</td>\n      <td>0.0</td>\n      <td>0.0</td>\n      <td>0.0</td>\n      <td>0.0</td>\n      <td>0.0</td>\n      <td>0.0</td>\n      <td>0.0</td>\n      <td>0.0</td>\n      <td>0.0</td>\n      <td>...</td>\n      <td>8.0</td>\n      <td>9.0</td>\n      <td>11.0</td>\n      <td>13.0</td>\n      <td>17.0</td>\n      <td>18.0</td>\n      <td>19.0</td>\n      <td>20.0</td>\n      <td>23.0</td>\n      <td>28.0</td>\n    </tr>\n    <tr>\n      <th>CAMPECHE</th>\n      <td>0.0</td>\n      <td>0.0</td>\n      <td>0.0</td>\n      <td>0.0</td>\n      <td>0.0</td>\n      <td>0.0</td>\n      <td>0.0</td>\n      <td>0.0</td>\n      <td>0.0</td>\n      <td>0.0</td>\n      <td>...</td>\n      <td>2.0</td>\n      <td>3.0</td>\n      <td>3.0</td>\n      <td>3.0</td>\n      <td>5.0</td>\n      <td>5.0</td>\n      <td>6.0</td>\n      <td>6.0</td>\n      <td>8.0</td>\n      <td>8.0</td>\n    </tr>\n    <tr>\n      <th>CHIAPAS</th>\n      <td>0.0</td>\n      <td>0.0</td>\n      <td>1.0</td>\n      <td>1.0</td>\n      <td>1.0</td>\n      <td>1.0</td>\n      <td>1.0</td>\n      <td>1.0</td>\n      <td>1.0</td>\n      <td>1.0</td>\n      <td>...</td>\n      <td>6.0</td>\n      <td>6.0</td>\n      <td>10.0</td>\n      <td>11.0</td>\n      <td>12.0</td>\n      <td>13.0</td>\n      <td>16.0</td>\n      <td>17.0</td>\n      <td>20.0</td>\n      <td>25.0</td>\n    </tr>\n    <tr>\n      <th>CHIHUAHUA</th>\n      <td>0.0</td>\n      <td>0.0</td>\n      <td>0.0</td>\n      <td>0.0</td>\n      <td>0.0</td>\n      <td>0.0</td>\n      <td>0.0</td>\n      <td>0.0</td>\n      <td>0.0</td>\n      <td>0.0</td>\n      <td>...</td>\n      <td>6.0</td>\n      <td>6.0</td>\n      <td>6.0</td>\n      <td>6.0</td>\n      <td>8.0</td>\n      <td>10.0</td>\n      <td>11.0</td>\n      <td>12.0</td>\n      <td>13.0</td>\n      <td>15.0</td>\n    </tr>\n    <tr>\n      <th>CIUDAD DE MÉXICO</th>\n      <td>1.0</td>\n      <td>2.0</td>\n      <td>2.0</td>\n      <td>2.0</td>\n      <td>2.0</td>\n      <td>2.0</td>\n      <td>2.0</td>\n      <td>2.0</td>\n      <td>2.0</td>\n      <td>3.0</td>\n      <td>...</td>\n      <td>109.0</td>\n      <td>167.0</td>\n      <td>195.0</td>\n      <td>201.0</td>\n      <td>234.0</td>\n      <td>288.0</td>\n      <td>327.0</td>\n      <td>384.0</td>\n      <td>459.0</td>\n      <td>559.0</td>\n    </tr>\n    <tr>\n      <th>COAHUILA</th>\n      <td>0.0</td>\n      <td>1.0</td>\n      <td>1.0</td>\n      <td>1.0</td>\n      <td>1.0</td>\n      <td>1.0</td>\n      <td>1.0</td>\n      <td>1.0</td>\n      <td>1.0</td>\n      <td>1.0</td>\n      <td>...</td>\n      <td>14.0</td>\n      <td>16.0</td>\n      <td>33.0</td>\n      <td>37.0</td>\n      <td>48.0</td>\n      <td>56.0</td>\n      <td>62.0</td>\n      <td>69.0</td>\n      <td>73.0</td>\n      <td>82.0</td>\n    </tr>\n    <tr>\n      <th>COLIMA</th>\n      <td>0.0</td>\n      <td>0.0</td>\n      <td>0.0</td>\n      <td>0.0</td>\n      <td>0.0</td>\n      <td>0.0</td>\n      <td>0.0</td>\n      <td>0.0</td>\n      <td>0.0</td>\n      <td>0.0</td>\n      <td>...</td>\n      <td>2.0</td>\n      <td>2.0</td>\n      <td>2.0</td>\n      <td>2.0</td>\n      <td>2.0</td>\n      <td>2.0</td>\n      <td>3.0</td>\n      <td>4.0</td>\n      <td>4.0</td>\n      <td>4.0</td>\n    </tr>\n    <tr>\n      <th>DURANGO</th>\n      <td>0.0</td>\n      <td>0.0</td>\n      <td>0.0</td>\n      <td>0.0</td>\n      <td>0.0</td>\n      <td>0.0</td>\n      <td>0.0</td>\n      <td>0.0</td>\n      <td>0.0</td>\n      <td>0.0</td>\n      <td>...</td>\n      <td>7.0</td>\n      <td>7.0</td>\n      <td>7.0</td>\n      <td>7.0</td>\n      <td>7.0</td>\n      <td>7.0</td>\n      <td>8.0</td>\n      <td>8.0</td>\n      <td>10.0</td>\n      <td>12.0</td>\n    </tr>\n    <tr>\n      <th>GUANAJUATO</th>\n      <td>0.0</td>\n      <td>0.0</td>\n      <td>0.0</td>\n      <td>0.0</td>\n      <td>0.0</td>\n      <td>0.0</td>\n      <td>0.0</td>\n      <td>0.0</td>\n      <td>0.0</td>\n      <td>0.0</td>\n      <td>...</td>\n      <td>31.0</td>\n      <td>37.0</td>\n      <td>37.0</td>\n      <td>43.0</td>\n      <td>46.0</td>\n      <td>47.0</td>\n      <td>50.0</td>\n      <td>52.0</td>\n      <td>53.0</td>\n      <td>53.0</td>\n    </tr>\n    <tr>\n      <th>GUERRERO</th>\n      <td>0.0</td>\n      <td>0.0</td>\n      <td>0.0</td>\n      <td>0.0</td>\n      <td>0.0</td>\n      <td>0.0</td>\n      <td>0.0</td>\n      <td>0.0</td>\n      <td>0.0</td>\n      <td>0.0</td>\n      <td>...</td>\n      <td>8.0</td>\n      <td>11.0</td>\n      <td>13.0</td>\n      <td>14.0</td>\n      <td>15.0</td>\n      <td>18.0</td>\n      <td>20.0</td>\n      <td>25.0</td>\n      <td>26.0</td>\n      <td>30.0</td>\n    </tr>\n    <tr>\n      <th>HIDALGO</th>\n      <td>0.0</td>\n      <td>0.0</td>\n      <td>0.0</td>\n      <td>0.0</td>\n      <td>0.0</td>\n      <td>0.0</td>\n      <td>0.0</td>\n      <td>0.0</td>\n      <td>0.0</td>\n      <td>0.0</td>\n      <td>...</td>\n      <td>12.0</td>\n      <td>16.0</td>\n      <td>17.0</td>\n      <td>17.0</td>\n      <td>20.0</td>\n      <td>21.0</td>\n      <td>26.0</td>\n      <td>30.0</td>\n      <td>32.0</td>\n      <td>34.0</td>\n    </tr>\n    <tr>\n      <th>JALISCO</th>\n      <td>0.0</td>\n      <td>0.0</td>\n      <td>0.0</td>\n      <td>0.0</td>\n      <td>0.0</td>\n      <td>0.0</td>\n      <td>0.0</td>\n      <td>0.0</td>\n      <td>0.0</td>\n      <td>0.0</td>\n      <td>...</td>\n      <td>76.0</td>\n      <td>80.0</td>\n      <td>81.0</td>\n      <td>86.0</td>\n      <td>91.0</td>\n      <td>95.0</td>\n      <td>98.0</td>\n      <td>115.0</td>\n      <td>117.0</td>\n      <td>123.0</td>\n    </tr>\n    <tr>\n      <th>MICHOACÁN</th>\n      <td>0.0</td>\n      <td>0.0</td>\n      <td>0.0</td>\n      <td>0.0</td>\n      <td>0.0</td>\n      <td>0.0</td>\n      <td>0.0</td>\n      <td>0.0</td>\n      <td>0.0</td>\n      <td>0.0</td>\n      <td>...</td>\n      <td>16.0</td>\n      <td>17.0</td>\n      <td>17.0</td>\n      <td>21.0</td>\n      <td>21.0</td>\n      <td>23.0</td>\n      <td>24.0</td>\n      <td>26.0</td>\n      <td>29.0</td>\n      <td>30.0</td>\n    </tr>\n    <tr>\n      <th>MORELOS</th>\n      <td>0.0</td>\n      <td>0.0</td>\n      <td>0.0</td>\n      <td>0.0</td>\n      <td>0.0</td>\n      <td>0.0</td>\n      <td>0.0</td>\n      <td>0.0</td>\n      <td>0.0</td>\n      <td>0.0</td>\n      <td>...</td>\n      <td>4.0</td>\n      <td>4.0</td>\n      <td>6.0</td>\n      <td>6.0</td>\n      <td>7.0</td>\n      <td>9.0</td>\n      <td>9.0</td>\n      <td>12.0</td>\n      <td>14.0</td>\n      <td>15.0</td>\n    </tr>\n    <tr>\n      <th>MÉXICO</th>\n      <td>0.0</td>\n      <td>0.0</td>\n      <td>0.0</td>\n      <td>0.0</td>\n      <td>0.0</td>\n      <td>0.0</td>\n      <td>0.0</td>\n      <td>1.0</td>\n      <td>1.0</td>\n      <td>1.0</td>\n      <td>...</td>\n      <td>63.0</td>\n      <td>81.0</td>\n      <td>111.0</td>\n      <td>124.0</td>\n      <td>140.0</td>\n      <td>154.0</td>\n      <td>166.0</td>\n      <td>173.0</td>\n      <td>187.0</td>\n      <td>204.0</td>\n    </tr>\n    <tr>\n      <th>NAYARIT</th>\n      <td>0.0</td>\n      <td>0.0</td>\n      <td>0.0</td>\n      <td>0.0</td>\n      <td>0.0</td>\n      <td>0.0</td>\n      <td>0.0</td>\n      <td>0.0</td>\n      <td>0.0</td>\n      <td>0.0</td>\n      <td>...</td>\n      <td>5.0</td>\n      <td>5.0</td>\n      <td>5.0</td>\n      <td>6.0</td>\n      <td>6.0</td>\n      <td>7.0</td>\n      <td>8.0</td>\n      <td>8.0</td>\n      <td>9.0</td>\n      <td>9.0</td>\n    </tr>\n    <tr>\n      <th>NUEVO LEÓN</th>\n      <td>0.0</td>\n      <td>0.0</td>\n      <td>0.0</td>\n      <td>0.0</td>\n      <td>0.0</td>\n      <td>0.0</td>\n      <td>0.0</td>\n      <td>0.0</td>\n      <td>0.0</td>\n      <td>0.0</td>\n      <td>...</td>\n      <td>63.0</td>\n      <td>64.0</td>\n      <td>67.0</td>\n      <td>74.0</td>\n      <td>76.0</td>\n      <td>76.0</td>\n      <td>79.0</td>\n      <td>85.0</td>\n      <td>86.0</td>\n      <td>91.0</td>\n    </tr>\n    <tr>\n      <th>OAXACA</th>\n      <td>0.0</td>\n      <td>0.0</td>\n      <td>0.0</td>\n      <td>0.0</td>\n      <td>0.0</td>\n      <td>0.0</td>\n      <td>0.0</td>\n      <td>0.0</td>\n      <td>0.0</td>\n      <td>0.0</td>\n      <td>...</td>\n      <td>11.0</td>\n      <td>12.0</td>\n      <td>14.0</td>\n      <td>14.0</td>\n      <td>15.0</td>\n      <td>20.0</td>\n      <td>22.0</td>\n      <td>22.0</td>\n      <td>22.0</td>\n      <td>25.0</td>\n    </tr>\n    <tr>\n      <th>PUEBLA</th>\n      <td>0.0</td>\n      <td>0.0</td>\n      <td>0.0</td>\n      <td>0.0</td>\n      <td>0.0</td>\n      <td>0.0</td>\n      <td>0.0</td>\n      <td>0.0</td>\n      <td>0.0</td>\n      <td>0.0</td>\n      <td>...</td>\n      <td>49.0</td>\n      <td>57.0</td>\n      <td>66.0</td>\n      <td>77.0</td>\n      <td>82.0</td>\n      <td>99.0</td>\n      <td>103.0</td>\n      <td>108.0</td>\n      <td>127.0</td>\n      <td>147.0</td>\n    </tr>\n    <tr>\n      <th>QUERETARO</th>\n      <td>0.0</td>\n      <td>0.0</td>\n      <td>0.0</td>\n      <td>0.0</td>\n      <td>0.0</td>\n      <td>0.0</td>\n      <td>0.0</td>\n      <td>0.0</td>\n      <td>0.0</td>\n      <td>0.0</td>\n      <td>...</td>\n      <td>24.0</td>\n      <td>25.0</td>\n      <td>26.0</td>\n      <td>27.0</td>\n      <td>29.0</td>\n      <td>32.0</td>\n      <td>32.0</td>\n      <td>35.0</td>\n      <td>36.0</td>\n      <td>38.0</td>\n    </tr>\n    <tr>\n      <th>QUINTANA ROO</th>\n      <td>0.0</td>\n      <td>0.0</td>\n      <td>0.0</td>\n      <td>0.0</td>\n      <td>0.0</td>\n      <td>0.0</td>\n      <td>0.0</td>\n      <td>0.0</td>\n      <td>0.0</td>\n      <td>0.0</td>\n      <td>...</td>\n      <td>29.0</td>\n      <td>34.0</td>\n      <td>38.0</td>\n      <td>42.0</td>\n      <td>47.0</td>\n      <td>51.0</td>\n      <td>55.0</td>\n      <td>65.0</td>\n      <td>76.0</td>\n      <td>86.0</td>\n    </tr>\n    <tr>\n      <th>SAN LUIS POTOSÍ</th>\n      <td>0.0</td>\n      <td>0.0</td>\n      <td>0.0</td>\n      <td>0.0</td>\n      <td>0.0</td>\n      <td>0.0</td>\n      <td>0.0</td>\n      <td>0.0</td>\n      <td>0.0</td>\n      <td>0.0</td>\n      <td>...</td>\n      <td>19.0</td>\n      <td>20.0</td>\n      <td>24.0</td>\n      <td>25.0</td>\n      <td>25.0</td>\n      <td>30.0</td>\n      <td>33.0</td>\n      <td>35.0</td>\n      <td>35.0</td>\n      <td>37.0</td>\n    </tr>\n    <tr>\n      <th>SINALOA</th>\n      <td>0.0</td>\n      <td>1.0</td>\n      <td>1.0</td>\n      <td>1.0</td>\n      <td>1.0</td>\n      <td>1.0</td>\n      <td>1.0</td>\n      <td>1.0</td>\n      <td>1.0</td>\n      <td>1.0</td>\n      <td>...</td>\n      <td>10.0</td>\n      <td>14.0</td>\n      <td>21.0</td>\n      <td>24.0</td>\n      <td>30.0</td>\n      <td>40.0</td>\n      <td>49.0</td>\n      <td>54.0</td>\n      <td>79.0</td>\n      <td>90.0</td>\n    </tr>\n    <tr>\n      <th>SONORA</th>\n      <td>0.0</td>\n      <td>0.0</td>\n      <td>0.0</td>\n      <td>0.0</td>\n      <td>0.0</td>\n      <td>0.0</td>\n      <td>0.0</td>\n      <td>0.0</td>\n      <td>0.0</td>\n      <td>0.0</td>\n      <td>...</td>\n      <td>9.0</td>\n      <td>10.0</td>\n      <td>14.0</td>\n      <td>17.0</td>\n      <td>17.0</td>\n      <td>21.0</td>\n      <td>22.0</td>\n      <td>23.0</td>\n      <td>26.0</td>\n      <td>28.0</td>\n    </tr>\n    <tr>\n      <th>TABASCO</th>\n      <td>0.0</td>\n      <td>0.0</td>\n      <td>0.0</td>\n      <td>0.0</td>\n      <td>0.0</td>\n      <td>0.0</td>\n      <td>0.0</td>\n      <td>0.0</td>\n      <td>0.0</td>\n      <td>0.0</td>\n      <td>...</td>\n      <td>21.0</td>\n      <td>25.0</td>\n      <td>33.0</td>\n      <td>44.0</td>\n      <td>49.0</td>\n      <td>58.0</td>\n      <td>62.0</td>\n      <td>72.0</td>\n      <td>86.0</td>\n      <td>97.0</td>\n    </tr>\n    <tr>\n      <th>TAMAULIPAS</th>\n      <td>0.0</td>\n      <td>0.0</td>\n      <td>0.0</td>\n      <td>0.0</td>\n      <td>0.0</td>\n      <td>0.0</td>\n      <td>0.0</td>\n      <td>0.0</td>\n      <td>0.0</td>\n      <td>0.0</td>\n      <td>...</td>\n      <td>6.0</td>\n      <td>7.0</td>\n      <td>7.0</td>\n      <td>8.0</td>\n      <td>8.0</td>\n      <td>9.0</td>\n      <td>13.0</td>\n      <td>15.0</td>\n      <td>19.0</td>\n      <td>26.0</td>\n    </tr>\n    <tr>\n      <th>TLAXCALA</th>\n      <td>0.0</td>\n      <td>0.0</td>\n      <td>0.0</td>\n      <td>0.0</td>\n      <td>0.0</td>\n      <td>0.0</td>\n      <td>0.0</td>\n      <td>0.0</td>\n      <td>0.0</td>\n      <td>0.0</td>\n      <td>...</td>\n      <td>4.0</td>\n      <td>4.0</td>\n      <td>4.0</td>\n      <td>4.0</td>\n      <td>4.0</td>\n      <td>5.0</td>\n      <td>7.0</td>\n      <td>8.0</td>\n      <td>8.0</td>\n      <td>11.0</td>\n    </tr>\n    <tr>\n      <th>VERACRUZ</th>\n      <td>0.0</td>\n      <td>0.0</td>\n      <td>0.0</td>\n      <td>0.0</td>\n      <td>0.0</td>\n      <td>0.0</td>\n      <td>0.0</td>\n      <td>0.0</td>\n      <td>0.0</td>\n      <td>0.0</td>\n      <td>...</td>\n      <td>23.0</td>\n      <td>23.0</td>\n      <td>25.0</td>\n      <td>27.0</td>\n      <td>28.0</td>\n      <td>28.0</td>\n      <td>30.0</td>\n      <td>36.0</td>\n      <td>37.0</td>\n      <td>40.0</td>\n    </tr>\n    <tr>\n      <th>YUCATÁN</th>\n      <td>0.0</td>\n      <td>0.0</td>\n      <td>0.0</td>\n      <td>0.0</td>\n      <td>0.0</td>\n      <td>0.0</td>\n      <td>0.0</td>\n      <td>0.0</td>\n      <td>0.0</td>\n      <td>0.0</td>\n      <td>...</td>\n      <td>37.0</td>\n      <td>40.0</td>\n      <td>44.0</td>\n      <td>46.0</td>\n      <td>49.0</td>\n      <td>53.0</td>\n      <td>54.0</td>\n      <td>59.0</td>\n      <td>59.0</td>\n      <td>67.0</td>\n    </tr>\n    <tr>\n      <th>ZACATECAS</th>\n      <td>0.0</td>\n      <td>0.0</td>\n      <td>0.0</td>\n      <td>0.0</td>\n      <td>0.0</td>\n      <td>0.0</td>\n      <td>0.0</td>\n      <td>0.0</td>\n      <td>0.0</td>\n      <td>0.0</td>\n      <td>...</td>\n      <td>4.0</td>\n      <td>4.0</td>\n      <td>6.0</td>\n      <td>6.0</td>\n      <td>6.0</td>\n      <td>6.0</td>\n      <td>6.0</td>\n      <td>7.0</td>\n      <td>8.0</td>\n      <td>10.0</td>\n    </tr>\n    <tr>\n      <th>NACIONAL</th>\n      <td>1.0</td>\n      <td>4.0</td>\n      <td>5.0</td>\n      <td>5.0</td>\n      <td>5.0</td>\n      <td>5.0</td>\n      <td>5.0</td>\n      <td>6.0</td>\n      <td>6.0</td>\n      <td>7.0</td>\n      <td>...</td>\n      <td>717.0</td>\n      <td>848.0</td>\n      <td>993.0</td>\n      <td>1094.0</td>\n      <td>1215.0</td>\n      <td>1378.0</td>\n      <td>1510.0</td>\n      <td>1688.0</td>\n      <td>1890.0</td>\n      <td>2142.0</td>\n    </tr>\n  </tbody>\n</table>\n<p>33 rows × 39 columns</p>\n</div>"
     },
     "metadata": {},
     "execution_count": 287
    }
   ],
   "source": [
    "for i in range(0,confirmed_mx.size):\n",
    "    upbound = confirmed_mx[i]\n",
    "    confirmed = mexico[:upbound].groupby('Estado')\n",
    "    confirmed = confirmed['Estado'].count()\n",
    "    confirmed_states[confirmed_mx.index[i]]=confirmed\n",
    "    confirmed_states[confirmed_mx.index[i]][-1]=confirmed.sum()\n",
    "confirmed_states = confirmed_states.fillna(0)\n",
    "confirmed_states.to_csv('data/time_series_confirmed_MX.csv')\n",
    "confirmed_states.index.name='Estado'\n",
    "confirmed_states"
   ]
  },
  {
   "cell_type": "code",
   "execution_count": 382,
   "metadata": {},
   "outputs": [
    {
     "output_type": "execute_result",
     "data": {
      "text/plain": "                     4/1/20  4/2/20  4/3/20  4/4/20  4/5/20\nAGUASCALIENTES          0.0     0.0     0.0     0.0     0.0\nBAJA CALIFORNIA         0.0     3.0     5.0     5.0     6.0\nBAJA CALIFORNIA SUR     2.0     2.0     2.0     2.0     2.0\nCAMPECHE                0.0     0.0     0.0     0.0     0.0\nCHIAPAS                 0.0     0.0     0.0     0.0     0.0\nCHIHUAHUA               0.0     0.0     0.0     0.0     0.0\nCIUDAD DE MÉXICO        8.0    13.0    15.0    17.0    19.0\nCOAHUILA                2.0     2.0     3.0     4.0     4.0\nCOLIMA                  0.0     0.0     0.0     0.0     0.0\nDURANGO                 1.0     1.0     1.0     2.0     3.0\nGUANAJUATO              0.0     0.0     0.0     0.0     0.0\nGUERRERO                1.0     1.0     1.0     1.0     2.0\nHIDALGO                 3.0     3.0     3.0     5.0     5.0\nJALISCO                 3.0     4.0     6.0     6.0     6.0\nMICHOACÁN               1.0     1.0     1.0     1.0     3.0\nMORELOS                 1.0     3.0     3.0     3.0     3.0\nMÉXICO                  1.0     0.0     1.0     3.0     3.0\nNAYARIT                 1.0     1.0     1.0     1.0     1.0\nNUEVO LEÓN              0.0     0.0     0.0     1.0     2.0\nOAXACA                  1.0     1.0     1.0     1.0     1.0\nPUEBLA                  1.0     1.0     1.0     1.0     1.0\nQUERETARO               1.0     1.0     2.0     2.0     2.0\nQUINTANA ROO            1.0     1.0     1.0     2.0     4.0\nSAN LUIS POTOSÍ         2.0     2.0     2.0     2.0     2.0\nSINALOA                 4.0     4.0     5.0    10.0    12.0\nSONORA                  0.0     0.0     0.0     1.0     1.0\nTABASCO                 1.0     3.0     3.0     3.0     4.0\nTAMAULIPAS              0.0     0.0     0.0     1.0     1.0\nTLAXCALA                0.0     0.0     0.0     0.0     0.0\nVERACRUZ                1.0     1.0     2.0     3.0     3.0\nYUCATÁN                 0.0     0.0     0.0     0.0     2.0\nZACATECAS               1.0     1.0     1.0     2.0     2.0\nNACIONAL               37.0    50.0    60.0    79.0    94.0",
      "text/html": "<div>\n<style scoped>\n    .dataframe tbody tr th:only-of-type {\n        vertical-align: middle;\n    }\n\n    .dataframe tbody tr th {\n        vertical-align: top;\n    }\n\n    .dataframe thead th {\n        text-align: right;\n    }\n</style>\n<table border=\"1\" class=\"dataframe\">\n  <thead>\n    <tr style=\"text-align: right;\">\n      <th></th>\n      <th>4/1/20</th>\n      <th>4/2/20</th>\n      <th>4/3/20</th>\n      <th>4/4/20</th>\n      <th>4/5/20</th>\n    </tr>\n  </thead>\n  <tbody>\n    <tr>\n      <th>AGUASCALIENTES</th>\n      <td>0.0</td>\n      <td>0.0</td>\n      <td>0.0</td>\n      <td>0.0</td>\n      <td>0.0</td>\n    </tr>\n    <tr>\n      <th>BAJA CALIFORNIA</th>\n      <td>0.0</td>\n      <td>3.0</td>\n      <td>5.0</td>\n      <td>5.0</td>\n      <td>6.0</td>\n    </tr>\n    <tr>\n      <th>BAJA CALIFORNIA SUR</th>\n      <td>2.0</td>\n      <td>2.0</td>\n      <td>2.0</td>\n      <td>2.0</td>\n      <td>2.0</td>\n    </tr>\n    <tr>\n      <th>CAMPECHE</th>\n      <td>0.0</td>\n      <td>0.0</td>\n      <td>0.0</td>\n      <td>0.0</td>\n      <td>0.0</td>\n    </tr>\n    <tr>\n      <th>CHIAPAS</th>\n      <td>0.0</td>\n      <td>0.0</td>\n      <td>0.0</td>\n      <td>0.0</td>\n      <td>0.0</td>\n    </tr>\n    <tr>\n      <th>CHIHUAHUA</th>\n      <td>0.0</td>\n      <td>0.0</td>\n      <td>0.0</td>\n      <td>0.0</td>\n      <td>0.0</td>\n    </tr>\n    <tr>\n      <th>CIUDAD DE MÉXICO</th>\n      <td>8.0</td>\n      <td>13.0</td>\n      <td>15.0</td>\n      <td>17.0</td>\n      <td>19.0</td>\n    </tr>\n    <tr>\n      <th>COAHUILA</th>\n      <td>2.0</td>\n      <td>2.0</td>\n      <td>3.0</td>\n      <td>4.0</td>\n      <td>4.0</td>\n    </tr>\n    <tr>\n      <th>COLIMA</th>\n      <td>0.0</td>\n      <td>0.0</td>\n      <td>0.0</td>\n      <td>0.0</td>\n      <td>0.0</td>\n    </tr>\n    <tr>\n      <th>DURANGO</th>\n      <td>1.0</td>\n      <td>1.0</td>\n      <td>1.0</td>\n      <td>2.0</td>\n      <td>3.0</td>\n    </tr>\n    <tr>\n      <th>GUANAJUATO</th>\n      <td>0.0</td>\n      <td>0.0</td>\n      <td>0.0</td>\n      <td>0.0</td>\n      <td>0.0</td>\n    </tr>\n    <tr>\n      <th>GUERRERO</th>\n      <td>1.0</td>\n      <td>1.0</td>\n      <td>1.0</td>\n      <td>1.0</td>\n      <td>2.0</td>\n    </tr>\n    <tr>\n      <th>HIDALGO</th>\n      <td>3.0</td>\n      <td>3.0</td>\n      <td>3.0</td>\n      <td>5.0</td>\n      <td>5.0</td>\n    </tr>\n    <tr>\n      <th>JALISCO</th>\n      <td>3.0</td>\n      <td>4.0</td>\n      <td>6.0</td>\n      <td>6.0</td>\n      <td>6.0</td>\n    </tr>\n    <tr>\n      <th>MICHOACÁN</th>\n      <td>1.0</td>\n      <td>1.0</td>\n      <td>1.0</td>\n      <td>1.0</td>\n      <td>3.0</td>\n    </tr>\n    <tr>\n      <th>MORELOS</th>\n      <td>1.0</td>\n      <td>3.0</td>\n      <td>3.0</td>\n      <td>3.0</td>\n      <td>3.0</td>\n    </tr>\n    <tr>\n      <th>MÉXICO</th>\n      <td>1.0</td>\n      <td>0.0</td>\n      <td>1.0</td>\n      <td>3.0</td>\n      <td>3.0</td>\n    </tr>\n    <tr>\n      <th>NAYARIT</th>\n      <td>1.0</td>\n      <td>1.0</td>\n      <td>1.0</td>\n      <td>1.0</td>\n      <td>1.0</td>\n    </tr>\n    <tr>\n      <th>NUEVO LEÓN</th>\n      <td>0.0</td>\n      <td>0.0</td>\n      <td>0.0</td>\n      <td>1.0</td>\n      <td>2.0</td>\n    </tr>\n    <tr>\n      <th>OAXACA</th>\n      <td>1.0</td>\n      <td>1.0</td>\n      <td>1.0</td>\n      <td>1.0</td>\n      <td>1.0</td>\n    </tr>\n    <tr>\n      <th>PUEBLA</th>\n      <td>1.0</td>\n      <td>1.0</td>\n      <td>1.0</td>\n      <td>1.0</td>\n      <td>1.0</td>\n    </tr>\n    <tr>\n      <th>QUERETARO</th>\n      <td>1.0</td>\n      <td>1.0</td>\n      <td>2.0</td>\n      <td>2.0</td>\n      <td>2.0</td>\n    </tr>\n    <tr>\n      <th>QUINTANA ROO</th>\n      <td>1.0</td>\n      <td>1.0</td>\n      <td>1.0</td>\n      <td>2.0</td>\n      <td>4.0</td>\n    </tr>\n    <tr>\n      <th>SAN LUIS POTOSÍ</th>\n      <td>2.0</td>\n      <td>2.0</td>\n      <td>2.0</td>\n      <td>2.0</td>\n      <td>2.0</td>\n    </tr>\n    <tr>\n      <th>SINALOA</th>\n      <td>4.0</td>\n      <td>4.0</td>\n      <td>5.0</td>\n      <td>10.0</td>\n      <td>12.0</td>\n    </tr>\n    <tr>\n      <th>SONORA</th>\n      <td>0.0</td>\n      <td>0.0</td>\n      <td>0.0</td>\n      <td>1.0</td>\n      <td>1.0</td>\n    </tr>\n    <tr>\n      <th>TABASCO</th>\n      <td>1.0</td>\n      <td>3.0</td>\n      <td>3.0</td>\n      <td>3.0</td>\n      <td>4.0</td>\n    </tr>\n    <tr>\n      <th>TAMAULIPAS</th>\n      <td>0.0</td>\n      <td>0.0</td>\n      <td>0.0</td>\n      <td>1.0</td>\n      <td>1.0</td>\n    </tr>\n    <tr>\n      <th>TLAXCALA</th>\n      <td>0.0</td>\n      <td>0.0</td>\n      <td>0.0</td>\n      <td>0.0</td>\n      <td>0.0</td>\n    </tr>\n    <tr>\n      <th>VERACRUZ</th>\n      <td>1.0</td>\n      <td>1.0</td>\n      <td>2.0</td>\n      <td>3.0</td>\n      <td>3.0</td>\n    </tr>\n    <tr>\n      <th>YUCATÁN</th>\n      <td>0.0</td>\n      <td>0.0</td>\n      <td>0.0</td>\n      <td>0.0</td>\n      <td>2.0</td>\n    </tr>\n    <tr>\n      <th>ZACATECAS</th>\n      <td>1.0</td>\n      <td>1.0</td>\n      <td>1.0</td>\n      <td>2.0</td>\n      <td>2.0</td>\n    </tr>\n    <tr>\n      <th>NACIONAL</th>\n      <td>37.0</td>\n      <td>50.0</td>\n      <td>60.0</td>\n      <td>79.0</td>\n      <td>94.0</td>\n    </tr>\n  </tbody>\n</table>\n</div>"
     },
     "metadata": {},
     "execution_count": 382
    }
   ],
   "source": [
    "for i in range(0,deaths_mx.size):\n",
    "    deaths = deaths_df.groupby('ObservationDay').get_group(deaths_mx.index[i]).set_index('Estado')['Deaths']\n",
    "    deaths_states[deaths_mx.index[i]]=deaths \n",
    "    deaths_states[deaths_mx.index[i]][-1]=deaths.sum()\n",
    "deaths_states = deaths_states.fillna(0)\n",
    "deaths_states.to_csv('data/time_series_deaths_MX.csv')"
   ]
  },
  {
   "cell_type": "code",
   "execution_count": 258,
   "metadata": {},
   "outputs": [],
   "source": [
    "# statests = pd.DataFrame()\n",
    "# statests.index.name='Observation date'\n",
    "# for i in range(0,mxts.size):\n",
    "#     upbound = mxts[i]\n",
    "#     day = pd.DataFrame(index=np.repeat(mxts.index[i],mexico[:upbound]['Estado'].unique().size))\n",
    "    \n",
    "#     states = mexico[:upbound].groupby('Estado')\n",
    "#     states = states['Estado'].count()\n",
    "#     day['Province/State'] = states.index.values\n",
    "#     day['Confirmed'] = states.values\n",
    "#     statests = statests.append(day)\n",
    "\n",
    "# statests.to_csv('data/covidstates.csv')\n",
    "# statests "
   ]
  },
  {
   "cell_type": "code",
   "execution_count": 280,
   "metadata": {},
   "outputs": [],
   "source": [
    "infected = confirmed_states['4/5/20'][:-1]\n",
    "infected = infected.rename({'CIUDAD DE MÉXICO': 'DISTRITO FEDERAL', 'MÉXICO': 'MEXICO', 'NUEVO LEÓN':'NUEVO LEON', 'SAN LUIS POTOSÍ':'SAN LUIS POTOSI'})\n",
    "infected = infected.sort_index()"
   ]
  },
  {
   "cell_type": "code",
   "execution_count": 282,
   "metadata": {},
   "outputs": [],
   "source": [
    "states = gpd.read_file('data/geopandas/states.shp')\n",
    "states['infected'] = infected.values\n",
    "states.to_file('data/geopandas/states.shp')"
   ]
  },
  {
   "cell_type": "code",
   "execution_count": 268,
   "metadata": {},
   "outputs": [
    {
     "output_type": "execute_result",
     "data": {
      "text/plain": "                                                              geometry\nEDO_LEY                                                               \nAguascalientes       POLYGON ((1993254.060 2470042.750, 1993226.230...\nBaja California      POLYGON ((783083.300 3526355.800, 783153.290 3...\nBaja California Sur  POLYGON ((1219453.790 2697323.730, 1219461.630...\nCampeche             POLYGON ((3350351.070 2210287.450, 3350341.040...\nChiapas              POLYGON ((3196187.560 1884582.770, 3195792.500...\nChihuahua            POLYGON ((1559452.950 2963438.950, 1560518.660...\nCoahuila             POLYGON ((2119857.980 2840155.860, 2119673.130...\nColima               POLYGON ((1833910.180 2149026.830, 1833859.160...\nDistrito Federal     POLYGON ((2318167.990 2187076.220, 2318199.040...\nDurango              POLYGON ((1910864.620 2796771.050, 1910929.070...\nGuanajuato           POLYGON ((2038843.790 2306095.360, 2038916.160...\nGuerrero             POLYGON ((2188662.120 1940736.910, 2188504.250...\nHidalgo              POLYGON ((2265713.830 2272497.360, 2265814.610...\nJalisco              POLYGON ((1744290.770 2194661.910, 1744274.580...\nMexico               POLYGON ((2354532.200 2169113.430, 2354431.930...\nMichoacan            POLYGON ((1986277.180 2072107.990, 1986148.170...\nMorelos              POLYGON ((2341679.880 2137131.920, 2341757.880...\nNayarit              POLYGON ((1692845.200 2376179.690, 1692835.530...\nNuevo Leon           POLYGON ((2207427.900 2657139.760, 2208754.850...\nOaxaca               POLYGON ((2438913.570 1843293.840, 2438764.250...\nPuebla               POLYGON ((2491264.360 2072875.490, 2491251.610...\nQueretaro            POLYGON ((2210827.300 2299982.770, 2210833.490...\nQuintana Roo         MULTIPOLYGON (((3576963.450 2488936.670, 35769...\nSan Luis Potosi      POLYGON ((2177896.710 2459317.890, 2177539.180...\nSinaloa              POLYGON ((1643212.170 2586412.350, 1643205.270...\nSonora               POLYGON ((1200425.240 3077959.130, 1200389.500...\nTabasco              POLYGON ((3168756.570 2035383.070, 3170147.620...\nTamaulipas           POLYGON ((2428243.830 2535037.570, 2428379.670...\nTlaxcala             POLYGON ((2433168.430 2195132.330, 2432948.290...\nVeracruz             POLYGON ((2527113.130 2119291.770, 2527043.050...\nYucatan              POLYGON ((3412641.660 2367227.290, 3412681.500...\nZacatecas            POLYGON ((1870190.120 2392365.140, 1870166.770...",
      "text/html": "<div>\n<style scoped>\n    .dataframe tbody tr th:only-of-type {\n        vertical-align: middle;\n    }\n\n    .dataframe tbody tr th {\n        vertical-align: top;\n    }\n\n    .dataframe thead th {\n        text-align: right;\n    }\n</style>\n<table border=\"1\" class=\"dataframe\">\n  <thead>\n    <tr style=\"text-align: right;\">\n      <th></th>\n      <th>geometry</th>\n    </tr>\n    <tr>\n      <th>EDO_LEY</th>\n      <th></th>\n    </tr>\n  </thead>\n  <tbody>\n    <tr>\n      <th>Aguascalientes</th>\n      <td>POLYGON ((1993254.060 2470042.750, 1993226.230...</td>\n    </tr>\n    <tr>\n      <th>Baja California</th>\n      <td>POLYGON ((783083.300 3526355.800, 783153.290 3...</td>\n    </tr>\n    <tr>\n      <th>Baja California Sur</th>\n      <td>POLYGON ((1219453.790 2697323.730, 1219461.630...</td>\n    </tr>\n    <tr>\n      <th>Campeche</th>\n      <td>POLYGON ((3350351.070 2210287.450, 3350341.040...</td>\n    </tr>\n    <tr>\n      <th>Chiapas</th>\n      <td>POLYGON ((3196187.560 1884582.770, 3195792.500...</td>\n    </tr>\n    <tr>\n      <th>Chihuahua</th>\n      <td>POLYGON ((1559452.950 2963438.950, 1560518.660...</td>\n    </tr>\n    <tr>\n      <th>Coahuila</th>\n      <td>POLYGON ((2119857.980 2840155.860, 2119673.130...</td>\n    </tr>\n    <tr>\n      <th>Colima</th>\n      <td>POLYGON ((1833910.180 2149026.830, 1833859.160...</td>\n    </tr>\n    <tr>\n      <th>Distrito Federal</th>\n      <td>POLYGON ((2318167.990 2187076.220, 2318199.040...</td>\n    </tr>\n    <tr>\n      <th>Durango</th>\n      <td>POLYGON ((1910864.620 2796771.050, 1910929.070...</td>\n    </tr>\n    <tr>\n      <th>Guanajuato</th>\n      <td>POLYGON ((2038843.790 2306095.360, 2038916.160...</td>\n    </tr>\n    <tr>\n      <th>Guerrero</th>\n      <td>POLYGON ((2188662.120 1940736.910, 2188504.250...</td>\n    </tr>\n    <tr>\n      <th>Hidalgo</th>\n      <td>POLYGON ((2265713.830 2272497.360, 2265814.610...</td>\n    </tr>\n    <tr>\n      <th>Jalisco</th>\n      <td>POLYGON ((1744290.770 2194661.910, 1744274.580...</td>\n    </tr>\n    <tr>\n      <th>Mexico</th>\n      <td>POLYGON ((2354532.200 2169113.430, 2354431.930...</td>\n    </tr>\n    <tr>\n      <th>Michoacan</th>\n      <td>POLYGON ((1986277.180 2072107.990, 1986148.170...</td>\n    </tr>\n    <tr>\n      <th>Morelos</th>\n      <td>POLYGON ((2341679.880 2137131.920, 2341757.880...</td>\n    </tr>\n    <tr>\n      <th>Nayarit</th>\n      <td>POLYGON ((1692845.200 2376179.690, 1692835.530...</td>\n    </tr>\n    <tr>\n      <th>Nuevo Leon</th>\n      <td>POLYGON ((2207427.900 2657139.760, 2208754.850...</td>\n    </tr>\n    <tr>\n      <th>Oaxaca</th>\n      <td>POLYGON ((2438913.570 1843293.840, 2438764.250...</td>\n    </tr>\n    <tr>\n      <th>Puebla</th>\n      <td>POLYGON ((2491264.360 2072875.490, 2491251.610...</td>\n    </tr>\n    <tr>\n      <th>Queretaro</th>\n      <td>POLYGON ((2210827.300 2299982.770, 2210833.490...</td>\n    </tr>\n    <tr>\n      <th>Quintana Roo</th>\n      <td>MULTIPOLYGON (((3576963.450 2488936.670, 35769...</td>\n    </tr>\n    <tr>\n      <th>San Luis Potosi</th>\n      <td>POLYGON ((2177896.710 2459317.890, 2177539.180...</td>\n    </tr>\n    <tr>\n      <th>Sinaloa</th>\n      <td>POLYGON ((1643212.170 2586412.350, 1643205.270...</td>\n    </tr>\n    <tr>\n      <th>Sonora</th>\n      <td>POLYGON ((1200425.240 3077959.130, 1200389.500...</td>\n    </tr>\n    <tr>\n      <th>Tabasco</th>\n      <td>POLYGON ((3168756.570 2035383.070, 3170147.620...</td>\n    </tr>\n    <tr>\n      <th>Tamaulipas</th>\n      <td>POLYGON ((2428243.830 2535037.570, 2428379.670...</td>\n    </tr>\n    <tr>\n      <th>Tlaxcala</th>\n      <td>POLYGON ((2433168.430 2195132.330, 2432948.290...</td>\n    </tr>\n    <tr>\n      <th>Veracruz</th>\n      <td>POLYGON ((2527113.130 2119291.770, 2527043.050...</td>\n    </tr>\n    <tr>\n      <th>Yucatan</th>\n      <td>POLYGON ((3412641.660 2367227.290, 3412681.500...</td>\n    </tr>\n    <tr>\n      <th>Zacatecas</th>\n      <td>POLYGON ((1870190.120 2392365.140, 1870166.770...</td>\n    </tr>\n  </tbody>\n</table>\n</div>"
     },
     "metadata": {},
     "execution_count": 268
    }
   ],
   "source": [
    "# path = 'data/geopandas/PHLITL_2000.shp'\n",
    "# data = gpd.read_file(path)\n",
    "# counties = data[['EDO_LEY', 'geometry']]\n",
    "# states = counties.dissolve(by='EDO_LEY')\n",
    "# states = states.sort_index()\n",
    "# states "
   ]
  },
  {
   "cell_type": "code",
   "execution_count": 37,
   "metadata": {},
   "outputs": [],
   "source": [
    "df = pd.read_csv('data/recursosmx.csv', encoding = \"ISO-8859-1\")\n",
    "#df"
   ]
  }
 ]
}