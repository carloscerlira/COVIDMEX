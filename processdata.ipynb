{
 "nbformat": 4,
 "nbformat_minor": 2,
 "metadata": {
  "language_info": {
   "name": "python",
   "codemirror_mode": {
    "name": "ipython",
    "version": 3
   },
   "version": "3.7.4-final"
  },
  "orig_nbformat": 2,
  "file_extension": ".py",
  "mimetype": "text/x-python",
  "name": "python",
  "npconvert_exporter": "python",
  "pygments_lexer": "ipython3",
  "version": 3,
  "kernelspec": {
   "name": "python3",
   "display_name": "Python 3"
  }
 },
 "cells": [
  {
   "cell_type": "code",
   "execution_count": 30,
   "metadata": {},
   "outputs": [],
   "source": [
    "import numpy as np\n",
    "import pandas as pd\n",
    "import geopandas as gpd\n",
    "import matplotlib.pyplot as plt \n",
    "plt.style.use('seaborn')\n",
    "%matplotlib qt"
   ]
  },
  {
   "cell_type": "code",
   "execution_count": 31,
   "metadata": {},
   "outputs": [],
   "source": [
    "mexico = pd.read_csv('data/covidmxraw.csv', skiprows=7)\n",
    "mexico = mexico[:-3]\n",
    "mexico = mexico[['Unnamed: 1', 'Unnamed: 3', 'Unnamed: 2']]\n",
    "mexico = mexico.rename(columns={'Unnamed: 1': 'Estado', 'Unnamed: 2': 'Sexo', 'Unnamed: 3': 'Edad'})\n",
    "mexico['Estado'] = mexico['Estado'].apply(lambda state: state[:-1])\n",
    "mexico['Sexo'] = mexico['Sexo'].apply(lambda state: state[:-1])\n",
    "mexico.to_csv('data/covidmx.csv')\n",
    ""
   ]
  },
  {
   "cell_type": "code",
   "execution_count": 32,
   "metadata": {},
   "outputs": [],
   "source": [
    "df = pd.read_csv('data/covidworld.csv')\n",
    "df = df.drop('SNo', axis=1)\n",
    "def get_country(country_name):\n",
    "    data = df[df['Country/Region']==country_name]\n",
    "    country = data.groupby('ObservationDate')\n",
    "    country = country.sum()[1:]\n",
    "    return country\n",
    "\n",
    "mxts = get_country('Mexico')\n",
    "#mxts "
   ]
  },
  {
   "cell_type": "code",
   "execution_count": 33,
   "metadata": {},
   "outputs": [
    {
     "output_type": "execute_result",
     "data": {
      "text/plain": "                 Province/State  Confirmed\n02/28/2020     CIUDAD DE MÉXICO          1\n02/29/2020     CIUDAD DE MÉXICO          2\n02/29/2020             COAHUILA          1\n02/29/2020              SINALOA          1\n03/01/2020              CHIAPAS          1\n03/01/2020     CIUDAD DE MÉXICO          2\n03/01/2020             COAHUILA          1\n03/01/2020              SINALOA          1\n03/02/2020              CHIAPAS          1\n03/02/2020     CIUDAD DE MÉXICO          2\n03/02/2020             COAHUILA          1\n03/02/2020              SINALOA          1\n03/03/2020              CHIAPAS          1\n03/03/2020     CIUDAD DE MÉXICO          2\n03/03/2020             COAHUILA          1\n03/03/2020              SINALOA          1\n03/04/2020              CHIAPAS          1\n03/04/2020     CIUDAD DE MÉXICO          2\n03/04/2020             COAHUILA          1\n03/04/2020              SINALOA          1\n03/05/2020              CHIAPAS          1\n03/05/2020     CIUDAD DE MÉXICO          2\n03/05/2020             COAHUILA          1\n03/05/2020              SINALOA          1\n03/06/2020              CHIAPAS          1\n03/06/2020     CIUDAD DE MÉXICO          2\n03/06/2020             COAHUILA          1\n03/06/2020               MÉXICO          1\n03/06/2020              SINALOA          1\n03/07/2020              CHIAPAS          1\n...                         ...        ...\n04/05/2020  BAJA CALIFORNIA SUR         23\n04/05/2020             CAMPECHE          8\n04/05/2020              CHIAPAS         20\n04/05/2020            CHIHUAHUA         13\n04/05/2020     CIUDAD DE MÉXICO        459\n04/05/2020             COAHUILA         73\n04/05/2020               COLIMA          4\n04/05/2020              DURANGO         10\n04/05/2020           GUANAJUATO         53\n04/05/2020             GUERRERO         26\n04/05/2020              HIDALGO         32\n04/05/2020              JALISCO        117\n04/05/2020            MICHOACÁN         29\n04/05/2020              MORELOS         14\n04/05/2020               MÉXICO        187\n04/05/2020              NAYARIT          9\n04/05/2020           NUEVO LEÓN         86\n04/05/2020               OAXACA         22\n04/05/2020               PUEBLA        127\n04/05/2020            QUERETARO         36\n04/05/2020         QUINTANA ROO         76\n04/05/2020      SAN LUIS POTOSÍ         35\n04/05/2020              SINALOA         79\n04/05/2020               SONORA         26\n04/05/2020              TABASCO         86\n04/05/2020           TAMAULIPAS         19\n04/05/2020             TLAXCALA          8\n04/05/2020             VERACRUZ         37\n04/05/2020              YUCATÁN         59\n04/05/2020            ZACATECAS          8\n\n[689 rows x 2 columns]",
      "text/html": "<div>\n<style scoped>\n    .dataframe tbody tr th:only-of-type {\n        vertical-align: middle;\n    }\n\n    .dataframe tbody tr th {\n        vertical-align: top;\n    }\n\n    .dataframe thead th {\n        text-align: right;\n    }\n</style>\n<table border=\"1\" class=\"dataframe\">\n  <thead>\n    <tr style=\"text-align: right;\">\n      <th></th>\n      <th>Province/State</th>\n      <th>Confirmed</th>\n    </tr>\n  </thead>\n  <tbody>\n    <tr>\n      <th>02/28/2020</th>\n      <td>CIUDAD DE MÉXICO</td>\n      <td>1</td>\n    </tr>\n    <tr>\n      <th>02/29/2020</th>\n      <td>CIUDAD DE MÉXICO</td>\n      <td>2</td>\n    </tr>\n    <tr>\n      <th>02/29/2020</th>\n      <td>COAHUILA</td>\n      <td>1</td>\n    </tr>\n    <tr>\n      <th>02/29/2020</th>\n      <td>SINALOA</td>\n      <td>1</td>\n    </tr>\n    <tr>\n      <th>03/01/2020</th>\n      <td>CHIAPAS</td>\n      <td>1</td>\n    </tr>\n    <tr>\n      <th>03/01/2020</th>\n      <td>CIUDAD DE MÉXICO</td>\n      <td>2</td>\n    </tr>\n    <tr>\n      <th>03/01/2020</th>\n      <td>COAHUILA</td>\n      <td>1</td>\n    </tr>\n    <tr>\n      <th>03/01/2020</th>\n      <td>SINALOA</td>\n      <td>1</td>\n    </tr>\n    <tr>\n      <th>03/02/2020</th>\n      <td>CHIAPAS</td>\n      <td>1</td>\n    </tr>\n    <tr>\n      <th>03/02/2020</th>\n      <td>CIUDAD DE MÉXICO</td>\n      <td>2</td>\n    </tr>\n    <tr>\n      <th>03/02/2020</th>\n      <td>COAHUILA</td>\n      <td>1</td>\n    </tr>\n    <tr>\n      <th>03/02/2020</th>\n      <td>SINALOA</td>\n      <td>1</td>\n    </tr>\n    <tr>\n      <th>03/03/2020</th>\n      <td>CHIAPAS</td>\n      <td>1</td>\n    </tr>\n    <tr>\n      <th>03/03/2020</th>\n      <td>CIUDAD DE MÉXICO</td>\n      <td>2</td>\n    </tr>\n    <tr>\n      <th>03/03/2020</th>\n      <td>COAHUILA</td>\n      <td>1</td>\n    </tr>\n    <tr>\n      <th>03/03/2020</th>\n      <td>SINALOA</td>\n      <td>1</td>\n    </tr>\n    <tr>\n      <th>03/04/2020</th>\n      <td>CHIAPAS</td>\n      <td>1</td>\n    </tr>\n    <tr>\n      <th>03/04/2020</th>\n      <td>CIUDAD DE MÉXICO</td>\n      <td>2</td>\n    </tr>\n    <tr>\n      <th>03/04/2020</th>\n      <td>COAHUILA</td>\n      <td>1</td>\n    </tr>\n    <tr>\n      <th>03/04/2020</th>\n      <td>SINALOA</td>\n      <td>1</td>\n    </tr>\n    <tr>\n      <th>03/05/2020</th>\n      <td>CHIAPAS</td>\n      <td>1</td>\n    </tr>\n    <tr>\n      <th>03/05/2020</th>\n      <td>CIUDAD DE MÉXICO</td>\n      <td>2</td>\n    </tr>\n    <tr>\n      <th>03/05/2020</th>\n      <td>COAHUILA</td>\n      <td>1</td>\n    </tr>\n    <tr>\n      <th>03/05/2020</th>\n      <td>SINALOA</td>\n      <td>1</td>\n    </tr>\n    <tr>\n      <th>03/06/2020</th>\n      <td>CHIAPAS</td>\n      <td>1</td>\n    </tr>\n    <tr>\n      <th>03/06/2020</th>\n      <td>CIUDAD DE MÉXICO</td>\n      <td>2</td>\n    </tr>\n    <tr>\n      <th>03/06/2020</th>\n      <td>COAHUILA</td>\n      <td>1</td>\n    </tr>\n    <tr>\n      <th>03/06/2020</th>\n      <td>MÉXICO</td>\n      <td>1</td>\n    </tr>\n    <tr>\n      <th>03/06/2020</th>\n      <td>SINALOA</td>\n      <td>1</td>\n    </tr>\n    <tr>\n      <th>03/07/2020</th>\n      <td>CHIAPAS</td>\n      <td>1</td>\n    </tr>\n    <tr>\n      <th>...</th>\n      <td>...</td>\n      <td>...</td>\n    </tr>\n    <tr>\n      <th>04/05/2020</th>\n      <td>BAJA CALIFORNIA SUR</td>\n      <td>23</td>\n    </tr>\n    <tr>\n      <th>04/05/2020</th>\n      <td>CAMPECHE</td>\n      <td>8</td>\n    </tr>\n    <tr>\n      <th>04/05/2020</th>\n      <td>CHIAPAS</td>\n      <td>20</td>\n    </tr>\n    <tr>\n      <th>04/05/2020</th>\n      <td>CHIHUAHUA</td>\n      <td>13</td>\n    </tr>\n    <tr>\n      <th>04/05/2020</th>\n      <td>CIUDAD DE MÉXICO</td>\n      <td>459</td>\n    </tr>\n    <tr>\n      <th>04/05/2020</th>\n      <td>COAHUILA</td>\n      <td>73</td>\n    </tr>\n    <tr>\n      <th>04/05/2020</th>\n      <td>COLIMA</td>\n      <td>4</td>\n    </tr>\n    <tr>\n      <th>04/05/2020</th>\n      <td>DURANGO</td>\n      <td>10</td>\n    </tr>\n    <tr>\n      <th>04/05/2020</th>\n      <td>GUANAJUATO</td>\n      <td>53</td>\n    </tr>\n    <tr>\n      <th>04/05/2020</th>\n      <td>GUERRERO</td>\n      <td>26</td>\n    </tr>\n    <tr>\n      <th>04/05/2020</th>\n      <td>HIDALGO</td>\n      <td>32</td>\n    </tr>\n    <tr>\n      <th>04/05/2020</th>\n      <td>JALISCO</td>\n      <td>117</td>\n    </tr>\n    <tr>\n      <th>04/05/2020</th>\n      <td>MICHOACÁN</td>\n      <td>29</td>\n    </tr>\n    <tr>\n      <th>04/05/2020</th>\n      <td>MORELOS</td>\n      <td>14</td>\n    </tr>\n    <tr>\n      <th>04/05/2020</th>\n      <td>MÉXICO</td>\n      <td>187</td>\n    </tr>\n    <tr>\n      <th>04/05/2020</th>\n      <td>NAYARIT</td>\n      <td>9</td>\n    </tr>\n    <tr>\n      <th>04/05/2020</th>\n      <td>NUEVO LEÓN</td>\n      <td>86</td>\n    </tr>\n    <tr>\n      <th>04/05/2020</th>\n      <td>OAXACA</td>\n      <td>22</td>\n    </tr>\n    <tr>\n      <th>04/05/2020</th>\n      <td>PUEBLA</td>\n      <td>127</td>\n    </tr>\n    <tr>\n      <th>04/05/2020</th>\n      <td>QUERETARO</td>\n      <td>36</td>\n    </tr>\n    <tr>\n      <th>04/05/2020</th>\n      <td>QUINTANA ROO</td>\n      <td>76</td>\n    </tr>\n    <tr>\n      <th>04/05/2020</th>\n      <td>SAN LUIS POTOSÍ</td>\n      <td>35</td>\n    </tr>\n    <tr>\n      <th>04/05/2020</th>\n      <td>SINALOA</td>\n      <td>79</td>\n    </tr>\n    <tr>\n      <th>04/05/2020</th>\n      <td>SONORA</td>\n      <td>26</td>\n    </tr>\n    <tr>\n      <th>04/05/2020</th>\n      <td>TABASCO</td>\n      <td>86</td>\n    </tr>\n    <tr>\n      <th>04/05/2020</th>\n      <td>TAMAULIPAS</td>\n      <td>19</td>\n    </tr>\n    <tr>\n      <th>04/05/2020</th>\n      <td>TLAXCALA</td>\n      <td>8</td>\n    </tr>\n    <tr>\n      <th>04/05/2020</th>\n      <td>VERACRUZ</td>\n      <td>37</td>\n    </tr>\n    <tr>\n      <th>04/05/2020</th>\n      <td>YUCATÁN</td>\n      <td>59</td>\n    </tr>\n    <tr>\n      <th>04/05/2020</th>\n      <td>ZACATECAS</td>\n      <td>8</td>\n    </tr>\n  </tbody>\n</table>\n<p>689 rows × 2 columns</p>\n</div>"
     },
     "metadata": {},
     "execution_count": 33
    }
   ],
   "source": [
    "statests = pd.DataFrame()\n",
    "statests.index.name='Observation date'\n",
    "for i in range(0,mxts['Confirmed'].size):\n",
    "    upbound = mxts['Confirmed'][i].astype(int)\n",
    "    day = pd.DataFrame(index=np.repeat(mxts.index[i],mexico[:upbound]['Estado'].unique().size))\n",
    "    \n",
    "    states = mexico[:upbound].groupby('Estado')\n",
    "    states = states['Estado'].count()\n",
    "    day['Province/State'] = states.index.values\n",
    "    day['Confirmed'] = states.values\n",
    "    statests = statests.append(day)\n",
    "\n",
    "statests.to_csv('data/covidstates.csv')\n",
    "statests "
   ]
  },
  {
   "cell_type": "code",
   "execution_count": 34,
   "metadata": {},
   "outputs": [],
   "source": [
    "states = mexico.groupby('Estado')\n",
    "infected = states['Estado'].count()\n",
    "infected = infected.rename({'CIUDAD DE MÉXICO': 'DISTRITO FEDERAL', 'MÉXICO': 'MEXICO', 'NUEVO LEÓN':'NUEVO LEON', 'SAN LUIS POTOSÍ':'SAN LUIS POTOSI'})\n",
    "infected = infected.sort_index()\n",
    "infected.to_csv('data/infected.csv')\n",
    "#infected "
   ]
  },
  {
   "cell_type": "code",
   "execution_count": 35,
   "metadata": {},
   "outputs": [],
   "source": [
    "states = gpd.read_file('data/geopandas/states.shp')\n",
    "infected = pd.read_csv('data/infected.csv',header=None)\n",
    "infected = infected.set_index(0)\n",
    "infected.index=states.index\n",
    "states['infected'] = infected\n",
    "states.to_file('data/geopandas/states.shp')"
   ]
  },
  {
   "cell_type": "code",
   "execution_count": 36,
   "metadata": {},
   "outputs": [],
   "source": [
    "# path = 'data/PHLITL_2000.shp'\n",
    "# data = gpd.read_file(path)\n",
    "# counties = data[['EDO_LEY', 'geometry']]\n",
    "# states = counties.dissolve(by='EDO_LEY')\n",
    "# states = states.sort_index()"
   ]
  },
  {
   "cell_type": "code",
   "execution_count": 37,
   "metadata": {},
   "outputs": [],
   "source": [
    "df = pd.read_csv('data/recursosmx.csv', encoding = \"ISO-8859-1\")\n",
    "#df"
   ]
  },
  {
   "cell_type": "code",
   "execution_count": null,
   "metadata": {},
   "outputs": [],
   "source": []
  }
 ]
}