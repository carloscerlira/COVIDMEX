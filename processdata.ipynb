{
 "nbformat": 4,
 "nbformat_minor": 2,
 "metadata": {
  "language_info": {
   "name": "python",
   "codemirror_mode": {
    "name": "ipython",
    "version": 3
   },
   "version": "3.7.6-final"
  },
  "orig_nbformat": 2,
  "file_extension": ".py",
  "mimetype": "text/x-python",
  "name": "python",
  "npconvert_exporter": "python",
  "pygments_lexer": "ipython3",
  "version": 3,
  "kernelspec": {
   "name": "python3",
   "display_name": "Python 3"
  }
 },
 "cells": [
  {
   "cell_type": "code",
   "execution_count": 18,
   "metadata": {},
   "outputs": [],
   "source": [
    "import numpy as np\n",
    "import pandas as pd\n",
    "import geopandas as gpd\n",
    "import matplotlib.pyplot as plt \n",
    "plt.style.use('seaborn')\n",
    "%matplotlib qt"
   ]
  },
  {
   "cell_type": "code",
   "execution_count": 19,
   "metadata": {},
   "outputs": [],
   "source": [
    "mexico = pd.read_csv('data/covidmxraw.csv', skiprows=7)\n",
    "mexico = mexico[:-3]\n",
    "mexico = mexico[['Unnamed: 1', 'Unnamed: 3', 'Unnamed: 2']]\n",
    "mexico = mexico.rename(columns={'Unnamed: 1': 'Estado', 'Unnamed: 2': 'Sexo', 'Unnamed: 3': 'Edad'})\n",
    "mexico['Estado'] = mexico['Estado'].apply(lambda state: state[:-1])\n",
    "mexico['Sexo'] = mexico['Sexo'].apply(lambda state: state[:-1])\n",
    "mexico.to_csv('data/covidmx.csv')\n",
    ""
   ]
  },
  {
   "cell_type": "code",
   "execution_count": 20,
   "metadata": {},
   "outputs": [
    {
     "output_type": "execute_result",
     "data": {
      "text/plain": "                 Confirmed  Deaths  Recovered\nObservationDate                              \n02/28/2020             1.0     0.0        0.0\n02/29/2020             4.0     0.0        0.0\n03/01/2020             5.0     0.0        0.0\n03/02/2020             5.0     0.0        0.0\n03/03/2020             5.0     0.0        1.0\n03/04/2020             5.0     0.0        1.0\n03/05/2020             5.0     0.0        1.0\n03/06/2020             6.0     0.0        1.0\n03/07/2020             6.0     0.0        1.0\n03/08/2020             7.0     0.0        1.0\n03/09/2020             7.0     0.0        1.0\n03/10/2020             7.0     0.0        4.0\n03/11/2020             8.0     0.0        4.0\n03/12/2020            12.0     0.0        4.0\n03/13/2020            12.0     0.0        4.0\n03/14/2020            26.0     0.0        4.0\n03/15/2020            41.0     0.0        4.0\n03/16/2020            53.0     0.0        4.0\n03/17/2020            82.0     0.0        4.0\n03/18/2020            93.0     0.0        4.0\n03/19/2020           118.0     1.0        4.0\n03/20/2020           164.0     1.0        4.0\n03/21/2020           203.0     2.0        4.0\n03/22/2020           251.0     2.0        4.0\n03/23/2020           316.0     3.0        4.0\n03/24/2020           367.0     4.0        4.0\n03/25/2020           405.0     5.0        4.0\n03/26/2020           475.0     6.0        4.0\n03/27/2020           585.0     8.0        4.0\n03/28/2020           717.0    12.0        4.0\n03/29/2020           848.0    16.0        4.0\n03/30/2020           993.0    20.0       35.0\n03/31/2020          1094.0    28.0       35.0\n04/01/2020          1215.0    29.0       35.0\n04/02/2020          1378.0    37.0       35.0\n04/03/2020          1510.0    50.0      633.0",
      "text/html": "<div>\n<style scoped>\n    .dataframe tbody tr th:only-of-type {\n        vertical-align: middle;\n    }\n\n    .dataframe tbody tr th {\n        vertical-align: top;\n    }\n\n    .dataframe thead th {\n        text-align: right;\n    }\n</style>\n<table border=\"1\" class=\"dataframe\">\n  <thead>\n    <tr style=\"text-align: right;\">\n      <th></th>\n      <th>Confirmed</th>\n      <th>Deaths</th>\n      <th>Recovered</th>\n    </tr>\n    <tr>\n      <th>ObservationDate</th>\n      <th></th>\n      <th></th>\n      <th></th>\n    </tr>\n  </thead>\n  <tbody>\n    <tr>\n      <td>02/28/2020</td>\n      <td>1.0</td>\n      <td>0.0</td>\n      <td>0.0</td>\n    </tr>\n    <tr>\n      <td>02/29/2020</td>\n      <td>4.0</td>\n      <td>0.0</td>\n      <td>0.0</td>\n    </tr>\n    <tr>\n      <td>03/01/2020</td>\n      <td>5.0</td>\n      <td>0.0</td>\n      <td>0.0</td>\n    </tr>\n    <tr>\n      <td>03/02/2020</td>\n      <td>5.0</td>\n      <td>0.0</td>\n      <td>0.0</td>\n    </tr>\n    <tr>\n      <td>03/03/2020</td>\n      <td>5.0</td>\n      <td>0.0</td>\n      <td>1.0</td>\n    </tr>\n    <tr>\n      <td>03/04/2020</td>\n      <td>5.0</td>\n      <td>0.0</td>\n      <td>1.0</td>\n    </tr>\n    <tr>\n      <td>03/05/2020</td>\n      <td>5.0</td>\n      <td>0.0</td>\n      <td>1.0</td>\n    </tr>\n    <tr>\n      <td>03/06/2020</td>\n      <td>6.0</td>\n      <td>0.0</td>\n      <td>1.0</td>\n    </tr>\n    <tr>\n      <td>03/07/2020</td>\n      <td>6.0</td>\n      <td>0.0</td>\n      <td>1.0</td>\n    </tr>\n    <tr>\n      <td>03/08/2020</td>\n      <td>7.0</td>\n      <td>0.0</td>\n      <td>1.0</td>\n    </tr>\n    <tr>\n      <td>03/09/2020</td>\n      <td>7.0</td>\n      <td>0.0</td>\n      <td>1.0</td>\n    </tr>\n    <tr>\n      <td>03/10/2020</td>\n      <td>7.0</td>\n      <td>0.0</td>\n      <td>4.0</td>\n    </tr>\n    <tr>\n      <td>03/11/2020</td>\n      <td>8.0</td>\n      <td>0.0</td>\n      <td>4.0</td>\n    </tr>\n    <tr>\n      <td>03/12/2020</td>\n      <td>12.0</td>\n      <td>0.0</td>\n      <td>4.0</td>\n    </tr>\n    <tr>\n      <td>03/13/2020</td>\n      <td>12.0</td>\n      <td>0.0</td>\n      <td>4.0</td>\n    </tr>\n    <tr>\n      <td>03/14/2020</td>\n      <td>26.0</td>\n      <td>0.0</td>\n      <td>4.0</td>\n    </tr>\n    <tr>\n      <td>03/15/2020</td>\n      <td>41.0</td>\n      <td>0.0</td>\n      <td>4.0</td>\n    </tr>\n    <tr>\n      <td>03/16/2020</td>\n      <td>53.0</td>\n      <td>0.0</td>\n      <td>4.0</td>\n    </tr>\n    <tr>\n      <td>03/17/2020</td>\n      <td>82.0</td>\n      <td>0.0</td>\n      <td>4.0</td>\n    </tr>\n    <tr>\n      <td>03/18/2020</td>\n      <td>93.0</td>\n      <td>0.0</td>\n      <td>4.0</td>\n    </tr>\n    <tr>\n      <td>03/19/2020</td>\n      <td>118.0</td>\n      <td>1.0</td>\n      <td>4.0</td>\n    </tr>\n    <tr>\n      <td>03/20/2020</td>\n      <td>164.0</td>\n      <td>1.0</td>\n      <td>4.0</td>\n    </tr>\n    <tr>\n      <td>03/21/2020</td>\n      <td>203.0</td>\n      <td>2.0</td>\n      <td>4.0</td>\n    </tr>\n    <tr>\n      <td>03/22/2020</td>\n      <td>251.0</td>\n      <td>2.0</td>\n      <td>4.0</td>\n    </tr>\n    <tr>\n      <td>03/23/2020</td>\n      <td>316.0</td>\n      <td>3.0</td>\n      <td>4.0</td>\n    </tr>\n    <tr>\n      <td>03/24/2020</td>\n      <td>367.0</td>\n      <td>4.0</td>\n      <td>4.0</td>\n    </tr>\n    <tr>\n      <td>03/25/2020</td>\n      <td>405.0</td>\n      <td>5.0</td>\n      <td>4.0</td>\n    </tr>\n    <tr>\n      <td>03/26/2020</td>\n      <td>475.0</td>\n      <td>6.0</td>\n      <td>4.0</td>\n    </tr>\n    <tr>\n      <td>03/27/2020</td>\n      <td>585.0</td>\n      <td>8.0</td>\n      <td>4.0</td>\n    </tr>\n    <tr>\n      <td>03/28/2020</td>\n      <td>717.0</td>\n      <td>12.0</td>\n      <td>4.0</td>\n    </tr>\n    <tr>\n      <td>03/29/2020</td>\n      <td>848.0</td>\n      <td>16.0</td>\n      <td>4.0</td>\n    </tr>\n    <tr>\n      <td>03/30/2020</td>\n      <td>993.0</td>\n      <td>20.0</td>\n      <td>35.0</td>\n    </tr>\n    <tr>\n      <td>03/31/2020</td>\n      <td>1094.0</td>\n      <td>28.0</td>\n      <td>35.0</td>\n    </tr>\n    <tr>\n      <td>04/01/2020</td>\n      <td>1215.0</td>\n      <td>29.0</td>\n      <td>35.0</td>\n    </tr>\n    <tr>\n      <td>04/02/2020</td>\n      <td>1378.0</td>\n      <td>37.0</td>\n      <td>35.0</td>\n    </tr>\n    <tr>\n      <td>04/03/2020</td>\n      <td>1510.0</td>\n      <td>50.0</td>\n      <td>633.0</td>\n    </tr>\n  </tbody>\n</table>\n</div>"
     },
     "metadata": {},
     "execution_count": 20
    }
   ],
   "source": [
    "df = pd.read_csv('data/covidworld.csv')\n",
    "df = df.drop('SNo', axis=1)\n",
    "def get_country(country_name):\n",
    "    data = df[df['Country/Region']==country_name]\n",
    "    country = data.groupby('ObservationDate')\n",
    "    country = country.sum()[1:]\n",
    "    return country\n",
    "\n",
    "mxts = get_country('Mexico')\n",
    "mxts "
   ]
  },
  {
   "cell_type": "code",
   "execution_count": 21,
   "metadata": {},
   "outputs": [],
   "source": [
    "statests = pd.DataFrame()\n",
    "statests.index.name='Observation date'\n",
    "for i in range(0,mxts['Confirmed'].size):\n",
    "    upbound = mxts['Confirmed'][i].astype(int)\n",
    "    day = pd.DataFrame(index=np.repeat(mxts.index[i],mexico[:upbound]['Estado'].unique().size))\n",
    "    \n",
    "    states = mexico[:upbound].groupby('Estado')\n",
    "    states = states['Estado'].count()\n",
    "    day['Province/State'] = states.index.values\n",
    "    day['Confirmed'] = states.values\n",
    "    statests = statests.append(day)\n",
    "\n",
    "statests.to_csv('data/covidstates.csv')"
   ]
  },
  {
   "cell_type": "code",
   "execution_count": 22,
   "metadata": {},
   "outputs": [
    {
     "output_type": "execute_result",
     "data": {
      "text/plain": "Estado\nAGUASCALIENTES          48\nBAJA CALIFORNIA         52\nBAJA CALIFORNIA SUR     21\nCAMPECHE                 6\nCHIAPAS                 18\nCHIHUAHUA               12\nCOAHUILA                70\nCOLIMA                   4\nDISTRITO FEDERAL       384\nDURANGO                  8\nGUANAJUATO              52\nGUERRERO                24\nHIDALGO                 30\nJALISCO                116\nMEXICO                 177\nMICHOACÁN               24\nMORELOS                 12\nNAYARIT                  8\nNUEVO LEON              85\nOAXACA                  22\nPUEBLA                 109\nQUERETARO               35\nQUINTANA ROO            65\nSAN LUIS POTOSI         35\nSINALOA                 51\nSONORA                  22\nTABASCO                 73\nTAMAULIPAS              16\nTLAXCALA                 8\nVERACRUZ                35\nYUCATÁN                 59\nZACATECAS                7\nName: Estado, dtype: int64"
     },
     "metadata": {},
     "execution_count": 22
    }
   ],
   "source": [
    "states = mexico.groupby('Estado')\n",
    "infected = states['Estado'].count()\n",
    "infected = infected.rename({'CIUDAD DE MÉXICO': 'DISTRITO FEDERAL', 'MÉXICO': 'MEXICO', 'NUEVO LEÓN':'NUEVO LEON', 'SAN LUIS POTOSÍ':'SAN LUIS POTOSI'})\n",
    "infected = infected.sort_index()\n",
    "infected.to_csv('data/infected.csv')\n",
    "infected "
   ]
  },
  {
   "cell_type": "code",
   "execution_count": 23,
   "metadata": {},
   "outputs": [],
   "source": [
    "states = gpd.read_file('data/geopandas/states.shp')\n",
    "infected = pd.read_csv('data/infected.csv',header=None)\n",
    "infected = infected.set_index(0)\n",
    "infected.index=states.index\n",
    "states['infected'] = infected\n",
    "states.to_file('data/geopandas/states.shp')"
   ]
  },
  {
   "cell_type": "code",
   "execution_count": 24,
   "metadata": {},
   "outputs": [],
   "source": [
    "# path = 'data/PHLITL_2000.shp'\n",
    "# data = gpd.read_file(path)\n",
    "# counties = data[['EDO_LEY', 'geometry']]\n",
    "# states = counties.dissolve(by='EDO_LEY')\n",
    "# states = states.sort_index()"
   ]
  },
  {
   "cell_type": "code",
   "execution_count": null,
   "metadata": {},
   "outputs": [],
   "source": []
  }
 ]
}