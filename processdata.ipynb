{
 "nbformat": 4,
 "nbformat_minor": 2,
 "metadata": {
  "language_info": {
   "name": "python",
   "codemirror_mode": {
    "name": "ipython",
    "version": 3
   },
   "version": "3.7.6-final"
  },
  "orig_nbformat": 2,
  "file_extension": ".py",
  "mimetype": "text/x-python",
  "name": "python",
  "npconvert_exporter": "python",
  "pygments_lexer": "ipython3",
  "version": 3,
  "kernelspec": {
   "name": "python3",
   "display_name": "Python 3"
  }
 },
 "cells": [
  {
   "cell_type": "code",
   "execution_count": 2,
   "metadata": {},
   "outputs": [],
   "source": [
    "import numpy as np\n",
    "import pandas as pd\n",
    "import geopandas as gpd\n",
    "import matplotlib.pyplot as plt \n",
    "plt.style.use('seaborn')\n",
    "%matplotlib qt"
   ]
  },
  {
   "cell_type": "code",
   "execution_count": 19,
   "metadata": {},
   "outputs": [],
   "source": [
    "mexico = pd.read_csv('data/covidmxraw.csv', skiprows=7)\n",
    "mexico = mexico[:-3]\n",
    "mexico = mexico[['Unnamed: 1', 'Unnamed: 3', 'Unnamed: 2']]\n",
    "mexico = mexico.rename(columns={'Unnamed: 1': 'Estado', 'Unnamed: 2': 'Sexo', 'Unnamed: 3': 'Edad'})\n",
    "mexico['Estado'] = mexico['Estado'].apply(lambda state: state[:-1])\n",
    "mexico['Sexo'] = mexico['Sexo'].apply(lambda state: state[:-1])\n",
    "mexico.to_csv('data/covidmx.csv')\n",
    ""
   ]
  },
  {
   "cell_type": "code",
   "execution_count": 20,
   "metadata": {},
   "outputs": [
    {
     "output_type": "execute_result",
     "data": {
      "text/plain": "                 Confirmed  Deaths  Recovered\nObservationDate                              \n02/28/2020             1.0     0.0        0.0\n02/29/2020             4.0     0.0        0.0\n03/01/2020             5.0     0.0        0.0\n03/02/2020             5.0     0.0        0.0\n03/03/2020             5.0     0.0        1.0\n03/04/2020             5.0     0.0        1.0\n03/05/2020             5.0     0.0        1.0\n03/06/2020             6.0     0.0        1.0\n03/07/2020             6.0     0.0        1.0\n03/08/2020             7.0     0.0        1.0\n03/09/2020             7.0     0.0        1.0\n03/10/2020             7.0     0.0        4.0\n03/11/2020             8.0     0.0        4.0\n03/12/2020            12.0     0.0        4.0\n03/13/2020            12.0     0.0        4.0\n03/14/2020            26.0     0.0        4.0\n03/15/2020            41.0     0.0        4.0\n03/16/2020            53.0     0.0        4.0\n03/17/2020            82.0     0.0        4.0\n03/18/2020            93.0     0.0        4.0\n03/19/2020           118.0     1.0        4.0\n03/20/2020           164.0     1.0        4.0\n03/21/2020           203.0     2.0        4.0\n03/22/2020           251.0     2.0        4.0\n03/23/2020           316.0     3.0        4.0\n03/24/2020           367.0     4.0        4.0\n03/25/2020           405.0     5.0        4.0\n03/26/2020           475.0     6.0        4.0\n03/27/2020           585.0     8.0        4.0\n03/28/2020           717.0    12.0        4.0\n03/29/2020           848.0    16.0        4.0\n03/30/2020           993.0    20.0       35.0\n03/31/2020          1094.0    28.0       35.0\n04/01/2020          1215.0    29.0       35.0\n04/02/2020          1378.0    37.0       35.0\n04/03/2020          1510.0    50.0      633.0",
      "text/html": "<div>\n<style scoped>\n    .dataframe tbody tr th:only-of-type {\n        vertical-align: middle;\n    }\n\n    .dataframe tbody tr th {\n        vertical-align: top;\n    }\n\n    .dataframe thead th {\n        text-align: right;\n    }\n</style>\n<table border=\"1\" class=\"dataframe\">\n  <thead>\n    <tr style=\"text-align: right;\">\n      <th></th>\n      <th>Confirmed</th>\n      <th>Deaths</th>\n      <th>Recovered</th>\n    </tr>\n    <tr>\n      <th>ObservationDate</th>\n      <th></th>\n      <th></th>\n      <th></th>\n    </tr>\n  </thead>\n  <tbody>\n    <tr>\n      <td>02/28/2020</td>\n      <td>1.0</td>\n      <td>0.0</td>\n      <td>0.0</td>\n    </tr>\n    <tr>\n      <td>02/29/2020</td>\n      <td>4.0</td>\n      <td>0.0</td>\n      <td>0.0</td>\n    </tr>\n    <tr>\n      <td>03/01/2020</td>\n      <td>5.0</td>\n      <td>0.0</td>\n      <td>0.0</td>\n    </tr>\n    <tr>\n      <td>03/02/2020</td>\n      <td>5.0</td>\n      <td>0.0</td>\n      <td>0.0</td>\n    </tr>\n    <tr>\n      <td>03/03/2020</td>\n      <td>5.0</td>\n      <td>0.0</td>\n      <td>1.0</td>\n    </tr>\n    <tr>\n      <td>03/04/2020</td>\n      <td>5.0</td>\n      <td>0.0</td>\n      <td>1.0</td>\n    </tr>\n    <tr>\n      <td>03/05/2020</td>\n      <td>5.0</td>\n      <td>0.0</td>\n      <td>1.0</td>\n    </tr>\n    <tr>\n      <td>03/06/2020</td>\n      <td>6.0</td>\n      <td>0.0</td>\n      <td>1.0</td>\n    </tr>\n    <tr>\n      <td>03/07/2020</td>\n      <td>6.0</td>\n      <td>0.0</td>\n      <td>1.0</td>\n    </tr>\n    <tr>\n      <td>03/08/2020</td>\n      <td>7.0</td>\n      <td>0.0</td>\n      <td>1.0</td>\n    </tr>\n    <tr>\n      <td>03/09/2020</td>\n      <td>7.0</td>\n      <td>0.0</td>\n      <td>1.0</td>\n    </tr>\n    <tr>\n      <td>03/10/2020</td>\n      <td>7.0</td>\n      <td>0.0</td>\n      <td>4.0</td>\n    </tr>\n    <tr>\n      <td>03/11/2020</td>\n      <td>8.0</td>\n      <td>0.0</td>\n      <td>4.0</td>\n    </tr>\n    <tr>\n      <td>03/12/2020</td>\n      <td>12.0</td>\n      <td>0.0</td>\n      <td>4.0</td>\n    </tr>\n    <tr>\n      <td>03/13/2020</td>\n      <td>12.0</td>\n      <td>0.0</td>\n      <td>4.0</td>\n    </tr>\n    <tr>\n      <td>03/14/2020</td>\n      <td>26.0</td>\n      <td>0.0</td>\n      <td>4.0</td>\n    </tr>\n    <tr>\n      <td>03/15/2020</td>\n      <td>41.0</td>\n      <td>0.0</td>\n      <td>4.0</td>\n    </tr>\n    <tr>\n      <td>03/16/2020</td>\n      <td>53.0</td>\n      <td>0.0</td>\n      <td>4.0</td>\n    </tr>\n    <tr>\n      <td>03/17/2020</td>\n      <td>82.0</td>\n      <td>0.0</td>\n      <td>4.0</td>\n    </tr>\n    <tr>\n      <td>03/18/2020</td>\n      <td>93.0</td>\n      <td>0.0</td>\n      <td>4.0</td>\n    </tr>\n    <tr>\n      <td>03/19/2020</td>\n      <td>118.0</td>\n      <td>1.0</td>\n      <td>4.0</td>\n    </tr>\n    <tr>\n      <td>03/20/2020</td>\n      <td>164.0</td>\n      <td>1.0</td>\n      <td>4.0</td>\n    </tr>\n    <tr>\n      <td>03/21/2020</td>\n      <td>203.0</td>\n      <td>2.0</td>\n      <td>4.0</td>\n    </tr>\n    <tr>\n      <td>03/22/2020</td>\n      <td>251.0</td>\n      <td>2.0</td>\n      <td>4.0</td>\n    </tr>\n    <tr>\n      <td>03/23/2020</td>\n      <td>316.0</td>\n      <td>3.0</td>\n      <td>4.0</td>\n    </tr>\n    <tr>\n      <td>03/24/2020</td>\n      <td>367.0</td>\n      <td>4.0</td>\n      <td>4.0</td>\n    </tr>\n    <tr>\n      <td>03/25/2020</td>\n      <td>405.0</td>\n      <td>5.0</td>\n      <td>4.0</td>\n    </tr>\n    <tr>\n      <td>03/26/2020</td>\n      <td>475.0</td>\n      <td>6.0</td>\n      <td>4.0</td>\n    </tr>\n    <tr>\n      <td>03/27/2020</td>\n      <td>585.0</td>\n      <td>8.0</td>\n      <td>4.0</td>\n    </tr>\n    <tr>\n      <td>03/28/2020</td>\n      <td>717.0</td>\n      <td>12.0</td>\n      <td>4.0</td>\n    </tr>\n    <tr>\n      <td>03/29/2020</td>\n      <td>848.0</td>\n      <td>16.0</td>\n      <td>4.0</td>\n    </tr>\n    <tr>\n      <td>03/30/2020</td>\n      <td>993.0</td>\n      <td>20.0</td>\n      <td>35.0</td>\n    </tr>\n    <tr>\n      <td>03/31/2020</td>\n      <td>1094.0</td>\n      <td>28.0</td>\n      <td>35.0</td>\n    </tr>\n    <tr>\n      <td>04/01/2020</td>\n      <td>1215.0</td>\n      <td>29.0</td>\n      <td>35.0</td>\n    </tr>\n    <tr>\n      <td>04/02/2020</td>\n      <td>1378.0</td>\n      <td>37.0</td>\n      <td>35.0</td>\n    </tr>\n    <tr>\n      <td>04/03/2020</td>\n      <td>1510.0</td>\n      <td>50.0</td>\n      <td>633.0</td>\n    </tr>\n  </tbody>\n</table>\n</div>"
     },
     "metadata": {},
     "execution_count": 20
    }
   ],
   "source": [
    "df = pd.read_csv('data/covidworld.csv')\n",
    "df = df.drop('SNo', axis=1)\n",
    "def get_country(country_name):\n",
    "    data = df[df['Country/Region']==country_name]\n",
    "    country = data.groupby('ObservationDate')\n",
    "    country = country.sum()[1:]\n",
    "    return country\n",
    "\n",
    "mxts = get_country('Mexico')\n",
    "mxts "
   ]
  },
  {
   "cell_type": "code",
   "execution_count": 21,
   "metadata": {},
   "outputs": [],
   "source": [
    "statests = pd.DataFrame()\n",
    "statests.index.name='Observation date'\n",
    "for i in range(0,mxts['Confirmed'].size):\n",
    "    upbound = mxts['Confirmed'][i].astype(int)\n",
    "    day = pd.DataFrame(index=np.repeat(mxts.index[i],mexico[:upbound]['Estado'].unique().size))\n",
    "    \n",
    "    states = mexico[:upbound].groupby('Estado')\n",
    "    states = states['Estado'].count()\n",
    "    day['Province/State'] = states.index.values\n",
    "    day['Confirmed'] = states.values\n",
    "    statests = statests.append(day)\n",
    "\n",
    "statests.to_csv('data/covidstates.csv')"
   ]
  },
  {
   "cell_type": "code",
   "execution_count": 22,
   "metadata": {},
   "outputs": [
    {
     "output_type": "execute_result",
     "data": {
      "text/plain": "Estado\nAGUASCALIENTES          48\nBAJA CALIFORNIA         52\nBAJA CALIFORNIA SUR     21\nCAMPECHE                 6\nCHIAPAS                 18\nCHIHUAHUA               12\nCOAHUILA                70\nCOLIMA                   4\nDISTRITO FEDERAL       384\nDURANGO                  8\nGUANAJUATO              52\nGUERRERO                24\nHIDALGO                 30\nJALISCO                116\nMEXICO                 177\nMICHOACÁN               24\nMORELOS                 12\nNAYARIT                  8\nNUEVO LEON              85\nOAXACA                  22\nPUEBLA                 109\nQUERETARO               35\nQUINTANA ROO            65\nSAN LUIS POTOSI         35\nSINALOA                 51\nSONORA                  22\nTABASCO                 73\nTAMAULIPAS              16\nTLAXCALA                 8\nVERACRUZ                35\nYUCATÁN                 59\nZACATECAS                7\nName: Estado, dtype: int64"
     },
     "metadata": {},
     "execution_count": 22
    }
   ],
   "source": [
    "states = mexico.groupby('Estado')\n",
    "infected = states['Estado'].count()\n",
    "infected = infected.rename({'CIUDAD DE MÉXICO': 'DISTRITO FEDERAL', 'MÉXICO': 'MEXICO', 'NUEVO LEÓN':'NUEVO LEON', 'SAN LUIS POTOSÍ':'SAN LUIS POTOSI'})\n",
    "infected = infected.sort_index()\n",
    "infected.to_csv('data/infected.csv')\n",
    "infected "
   ]
  },
  {
   "cell_type": "code",
   "execution_count": 23,
   "metadata": {},
   "outputs": [],
   "source": [
    "states = gpd.read_file('data/geopandas/states.shp')\n",
    "infected = pd.read_csv('data/infected.csv',header=None)\n",
    "infected = infected.set_index(0)\n",
    "infected.index=states.index\n",
    "states['infected'] = infected\n",
    "states.to_file('data/geopandas/states.shp')"
   ]
  },
  {
   "cell_type": "code",
   "execution_count": 24,
   "metadata": {},
   "outputs": [],
   "source": [
    "# path = 'data/PHLITL_2000.shp'\n",
    "# data = gpd.read_file(path)\n",
    "# counties = data[['EDO_LEY', 'geometry']]\n",
    "# states = counties.dissolve(by='EDO_LEY')\n",
    "# states = states.sort_index()"
   ]
  },
  {
   "cell_type": "code",
   "execution_count": 9,
   "metadata": {},
   "outputs": [
    {
     "output_type": "execute_result",
     "data": {
      "text/plain": "        AÑO        CLUES   SECTOR CLAVE INSTITUCIÓN  Clave Estado  \\\n0      2018  ASIMS000016  PÚBLICO               IMS             1   \n1      2018  ASIMS000021  PÚBLICO               IMS             1   \n2      2018  ASIMS000033  PÚBLICO               IMS             1   \n3      2018  ASIMS000045  PÚBLICO               IMS             1   \n4      2018  ASIMS000050  PÚBLICO               IMS             1   \n...     ...          ...      ...               ...           ...   \n22539  2018  ZSSSA013160  PÚBLICO               SSA            32   \n22540  2018  ZSSSA013172  PÚBLICO               SSA            32   \n22541  2018  ZSSSA013196  PÚBLICO               SSA            32   \n22542  2018  ZSSSA013201  PÚBLICO               SSA            32   \n22543  2018  ZSSSA013213  PÚBLICO               SSA            32   \n\n        Nombre Estado  Clave Municipio Nombre Municipio  Clave Localidad  \\\n0      AGUASCALIENTES                1   AGUASCALIENTES                1   \n1      AGUASCALIENTES                1   AGUASCALIENTES                1   \n2      AGUASCALIENTES                1   AGUASCALIENTES                1   \n3      AGUASCALIENTES                1   AGUASCALIENTES                1   \n4      AGUASCALIENTES                1   AGUASCALIENTES                1   \n...               ...              ...              ...              ...   \n22539       ZACATECAS               39       RÍO GRANDE                1   \n22540       ZACATECAS               17        GUADALUPE                1   \n22541       ZACATECAS               10        FRESNILLO                1   \n22542       ZACATECAS               38            PINOS                1   \n22543       ZACATECAS               39       RÍO GRANDE                1   \n\n      Nombre Localidad  ... Total otro personal  \\\n0       AGUASCALIENTES  ...                 275   \n1       AGUASCALIENTES  ...                 253   \n2       AGUASCALIENTES  ...                  48   \n3       AGUASCALIENTES  ...                  73   \n4       AGUASCALIENTES  ...                  55   \n...                ...  ...                 ...   \n22539       RIO GRANDE  ...                   7   \n22540        GUADALUPE  ...                  33   \n22541        FRESNILLO  ...                  16   \n22542            PINOS  ...                   6   \n22543       RIO GRANDE  ...                   0   \n\n      Número de Personal administrativo Número de Personal en archivo clínico  \\\n0                                   108                                     0   \n1                                   110                                     0   \n2                                    39                                     0   \n3                                    54                                     0   \n4                                    40                                     0   \n...                                 ...                                   ...   \n22539                                 6                                     0   \n22540                                24                                     0   \n22541                                12                                     0   \n22542                                 6                                     0   \n22543                                 0                                     0   \n\n       Número de Personal en conservación y mantenimiento  \\\n0                                                     33    \n1                                                     35    \n2                                                      2    \n3                                                      3    \n4                                                      3    \n...                                                  ...    \n22539                                                  0    \n22540                                                  0    \n22541                                                  0    \n22542                                                  0    \n22543                                                  0    \n\n       Número de Personal de Intendencia (incluye lavandería)  \\\n0                                                    134        \n1                                                    108        \n2                                                      7        \n3                                                     16        \n4                                                     12        \n...                                                  ...        \n22539                                                  1        \n22540                                                  0        \n22541                                                  0        \n22542                                                  0        \n22543                                                  0        \n\n       Número de Otro personal  Ultrasonido  LITOTRIPTORES  \\\n0                            0            1              0   \n1                            0            3              0   \n2                            0            0              0   \n3                            0            1              0   \n4                            0            1              0   \n...                        ...          ...            ...   \n22539                        0            1              0   \n22540                        9            1              0   \n22541                        4            0              0   \n22542                        0            1              0   \n22543                        0            0              0   \n\n       Electrocardiógrafos  Electroencefalógrafos  \n0                        4                    0.0  \n1                        8                    1.0  \n2                        0                    0.0  \n3                        0                    0.0  \n4                        0                    0.0  \n...                    ...                    ...  \n22539                    2                    NaN  \n22540                    2                    NaN  \n22541                    0                    NaN  \n22542                    1                    0.0  \n22543                    0                    NaN  \n\n[22544 rows x 233 columns]",
      "text/html": "<div>\n<style scoped>\n    .dataframe tbody tr th:only-of-type {\n        vertical-align: middle;\n    }\n\n    .dataframe tbody tr th {\n        vertical-align: top;\n    }\n\n    .dataframe thead th {\n        text-align: right;\n    }\n</style>\n<table border=\"1\" class=\"dataframe\">\n  <thead>\n    <tr style=\"text-align: right;\">\n      <th></th>\n      <th>AÑO</th>\n      <th>CLUES</th>\n      <th>SECTOR</th>\n      <th>CLAVE INSTITUCIÓN</th>\n      <th>Clave Estado</th>\n      <th>Nombre Estado</th>\n      <th>Clave Municipio</th>\n      <th>Nombre Municipio</th>\n      <th>Clave Localidad</th>\n      <th>Nombre Localidad</th>\n      <th>...</th>\n      <th>Total otro personal</th>\n      <th>Número de Personal administrativo</th>\n      <th>Número de Personal en archivo clínico</th>\n      <th>Número de Personal en conservación y mantenimiento</th>\n      <th>Número de Personal de Intendencia (incluye lavandería)</th>\n      <th>Número de Otro personal</th>\n      <th>Ultrasonido</th>\n      <th>LITOTRIPTORES</th>\n      <th>Electrocardiógrafos</th>\n      <th>Electroencefalógrafos</th>\n    </tr>\n  </thead>\n  <tbody>\n    <tr>\n      <td>0</td>\n      <td>2018</td>\n      <td>ASIMS000016</td>\n      <td>PÚBLICO</td>\n      <td>IMS</td>\n      <td>1</td>\n      <td>AGUASCALIENTES</td>\n      <td>1</td>\n      <td>AGUASCALIENTES</td>\n      <td>1</td>\n      <td>AGUASCALIENTES</td>\n      <td>...</td>\n      <td>275</td>\n      <td>108</td>\n      <td>0</td>\n      <td>33</td>\n      <td>134</td>\n      <td>0</td>\n      <td>1</td>\n      <td>0</td>\n      <td>4</td>\n      <td>0.0</td>\n    </tr>\n    <tr>\n      <td>1</td>\n      <td>2018</td>\n      <td>ASIMS000021</td>\n      <td>PÚBLICO</td>\n      <td>IMS</td>\n      <td>1</td>\n      <td>AGUASCALIENTES</td>\n      <td>1</td>\n      <td>AGUASCALIENTES</td>\n      <td>1</td>\n      <td>AGUASCALIENTES</td>\n      <td>...</td>\n      <td>253</td>\n      <td>110</td>\n      <td>0</td>\n      <td>35</td>\n      <td>108</td>\n      <td>0</td>\n      <td>3</td>\n      <td>0</td>\n      <td>8</td>\n      <td>1.0</td>\n    </tr>\n    <tr>\n      <td>2</td>\n      <td>2018</td>\n      <td>ASIMS000033</td>\n      <td>PÚBLICO</td>\n      <td>IMS</td>\n      <td>1</td>\n      <td>AGUASCALIENTES</td>\n      <td>1</td>\n      <td>AGUASCALIENTES</td>\n      <td>1</td>\n      <td>AGUASCALIENTES</td>\n      <td>...</td>\n      <td>48</td>\n      <td>39</td>\n      <td>0</td>\n      <td>2</td>\n      <td>7</td>\n      <td>0</td>\n      <td>0</td>\n      <td>0</td>\n      <td>0</td>\n      <td>0.0</td>\n    </tr>\n    <tr>\n      <td>3</td>\n      <td>2018</td>\n      <td>ASIMS000045</td>\n      <td>PÚBLICO</td>\n      <td>IMS</td>\n      <td>1</td>\n      <td>AGUASCALIENTES</td>\n      <td>1</td>\n      <td>AGUASCALIENTES</td>\n      <td>1</td>\n      <td>AGUASCALIENTES</td>\n      <td>...</td>\n      <td>73</td>\n      <td>54</td>\n      <td>0</td>\n      <td>3</td>\n      <td>16</td>\n      <td>0</td>\n      <td>1</td>\n      <td>0</td>\n      <td>0</td>\n      <td>0.0</td>\n    </tr>\n    <tr>\n      <td>4</td>\n      <td>2018</td>\n      <td>ASIMS000050</td>\n      <td>PÚBLICO</td>\n      <td>IMS</td>\n      <td>1</td>\n      <td>AGUASCALIENTES</td>\n      <td>1</td>\n      <td>AGUASCALIENTES</td>\n      <td>1</td>\n      <td>AGUASCALIENTES</td>\n      <td>...</td>\n      <td>55</td>\n      <td>40</td>\n      <td>0</td>\n      <td>3</td>\n      <td>12</td>\n      <td>0</td>\n      <td>1</td>\n      <td>0</td>\n      <td>0</td>\n      <td>0.0</td>\n    </tr>\n    <tr>\n      <td>...</td>\n      <td>...</td>\n      <td>...</td>\n      <td>...</td>\n      <td>...</td>\n      <td>...</td>\n      <td>...</td>\n      <td>...</td>\n      <td>...</td>\n      <td>...</td>\n      <td>...</td>\n      <td>...</td>\n      <td>...</td>\n      <td>...</td>\n      <td>...</td>\n      <td>...</td>\n      <td>...</td>\n      <td>...</td>\n      <td>...</td>\n      <td>...</td>\n      <td>...</td>\n      <td>...</td>\n    </tr>\n    <tr>\n      <td>22539</td>\n      <td>2018</td>\n      <td>ZSSSA013160</td>\n      <td>PÚBLICO</td>\n      <td>SSA</td>\n      <td>32</td>\n      <td>ZACATECAS</td>\n      <td>39</td>\n      <td>RÍO GRANDE</td>\n      <td>1</td>\n      <td>RIO GRANDE</td>\n      <td>...</td>\n      <td>7</td>\n      <td>6</td>\n      <td>0</td>\n      <td>0</td>\n      <td>1</td>\n      <td>0</td>\n      <td>1</td>\n      <td>0</td>\n      <td>2</td>\n      <td>NaN</td>\n    </tr>\n    <tr>\n      <td>22540</td>\n      <td>2018</td>\n      <td>ZSSSA013172</td>\n      <td>PÚBLICO</td>\n      <td>SSA</td>\n      <td>32</td>\n      <td>ZACATECAS</td>\n      <td>17</td>\n      <td>GUADALUPE</td>\n      <td>1</td>\n      <td>GUADALUPE</td>\n      <td>...</td>\n      <td>33</td>\n      <td>24</td>\n      <td>0</td>\n      <td>0</td>\n      <td>0</td>\n      <td>9</td>\n      <td>1</td>\n      <td>0</td>\n      <td>2</td>\n      <td>NaN</td>\n    </tr>\n    <tr>\n      <td>22541</td>\n      <td>2018</td>\n      <td>ZSSSA013196</td>\n      <td>PÚBLICO</td>\n      <td>SSA</td>\n      <td>32</td>\n      <td>ZACATECAS</td>\n      <td>10</td>\n      <td>FRESNILLO</td>\n      <td>1</td>\n      <td>FRESNILLO</td>\n      <td>...</td>\n      <td>16</td>\n      <td>12</td>\n      <td>0</td>\n      <td>0</td>\n      <td>0</td>\n      <td>4</td>\n      <td>0</td>\n      <td>0</td>\n      <td>0</td>\n      <td>NaN</td>\n    </tr>\n    <tr>\n      <td>22542</td>\n      <td>2018</td>\n      <td>ZSSSA013201</td>\n      <td>PÚBLICO</td>\n      <td>SSA</td>\n      <td>32</td>\n      <td>ZACATECAS</td>\n      <td>38</td>\n      <td>PINOS</td>\n      <td>1</td>\n      <td>PINOS</td>\n      <td>...</td>\n      <td>6</td>\n      <td>6</td>\n      <td>0</td>\n      <td>0</td>\n      <td>0</td>\n      <td>0</td>\n      <td>1</td>\n      <td>0</td>\n      <td>1</td>\n      <td>0.0</td>\n    </tr>\n    <tr>\n      <td>22543</td>\n      <td>2018</td>\n      <td>ZSSSA013213</td>\n      <td>PÚBLICO</td>\n      <td>SSA</td>\n      <td>32</td>\n      <td>ZACATECAS</td>\n      <td>39</td>\n      <td>RÍO GRANDE</td>\n      <td>1</td>\n      <td>RIO GRANDE</td>\n      <td>...</td>\n      <td>0</td>\n      <td>0</td>\n      <td>0</td>\n      <td>0</td>\n      <td>0</td>\n      <td>0</td>\n      <td>0</td>\n      <td>0</td>\n      <td>0</td>\n      <td>NaN</td>\n    </tr>\n  </tbody>\n</table>\n<p>22544 rows × 233 columns</p>\n</div>"
     },
     "metadata": {},
     "execution_count": 9
    }
   ],
   "source": [
    "df = pd.read_csv('data/recursosmx.csv', encoding = \"ISO-8859-1\")\n",
    "df"
   ]
  },
  {
   "cell_type": "code",
   "execution_count": 6,
   "metadata": {},
   "outputs": [
    {
     "output_type": "execute_result",
     "data": {
      "text/plain": "array(['AÑO', 'CLUES', 'SECTOR', 'CLAVE INSTITUCIÓN', 'Clave Estado',\n       'Nombre Estado', 'Clave Municipio', 'Nombre Municipio',\n       'Clave Localidad', 'Nombre Localidad', 'Nombre de la Unidad',\n       'Tipo de Establecimiento', 'Tipología', 'Número de unidades',\n       '¿Cuenta con agua potable?', '¿Cuenta con red municipal?',\n       '¿Cuenta con pozo?', '¿Cuenta con cisterna?',\n       '¿Cuenta con otra fuente?', '¿Cuenta con drenaje?',\n       '¿Cuenta con planta de emergencia? (antes planta eléctrica)',\n       '¿Cuenta con radio (banda civil)?',\n       '¿Hay Internet en su unidad de salud?',\n       '¿Cuenta con correo electrónico (Internet)?',\n       '¿Cuenta con red de voz?', '¿Cuenta con red de datos?',\n       '¿Cuenta con sistema de telemedicina?',\n       '¿Cuenta con expediente clínico electrónico?',\n       'Número de Baños Públicos', 'Número de Baños para el personal',\n       'Número de Baños para pacientes',\n       'Número de Baños para discapacitados',\n       '¿Cuenta con área de Hospitalización?',\n       '¿Cuenta con área de Unidad Quirúrgica?',\n       '¿Cuenta con Unidad de Cuidados Intensivos?',\n       '¿Cuenta con área de Unidades de Cuidados Intensivos Neonatales?',\n       '¿Cuenta con Unidad de Cuidados intermedios?',\n       '¿Cuenta con área Cuidados Coronarios?',\n       '¿Cuenta con servicio de Medicina Física y Rehabilitación?',\n       '¿Cuenta con área de Cirugía Ambulatoria?',\n       '¿Cuenta con área de Hemodiálisis?',\n       '¿Cuenta con área de radioterapia (incluye teleterapia y braquiterapia)?',\n       '¿Cuenta con área de quimioterapia?',\n       '¿Cuenta con área de Unidad de Quemados?',\n       '¿Cuenta con área de Laboratorio Clínico?',\n       '¿Cuenta con área de urgencias?',\n       '¿Cuenta con área de Tocología y Tococirugía?',\n       '¿Cuenta con área de Neonatología y Cunero?',\n       '¿Cuenta con área de Banco de Sangre?', 'Número de Quirófanos',\n       'Número de salas de expulsión',\n       'Número de cunas para recién nacido sano (incluye las ubicadas en tocología como en neonatología y cuneros)',\n       'Número de ambulancias', 'TOTAL DE CONSULTORIOS',\n       'Número de Consultorios de Medicina General / Familiar',\n       'Número de Consultorios de Estomatología',\n       'Número de Consultorios de Planificación Familiar',\n       'Número de Consultorios de Cirugía Maxilo Facial',\n       'Número de Consultorios de Alergología',\n       'Número de Consultorios de Angiología',\n       'Número de Consultorios de Cardiología',\n       'Número de Consultorios de Cirugía General y Cirugía',\n       'Número de Consultorios de Dermatología',\n       'Número de Consultorios de Endocrinología',\n       'Número de Consultorios de Epidemiología',\n       'Número de Consultorios de Gastroenterología',\n       'Número de Consultorios de Geriatría',\n       'Número de Consultorios de Gineco-Obstetricia',\n       'Número de Consultorios de Hematología',\n       'Número de Consultorios de Infectología',\n       'Número de Consultorios de Medicina de Rehabilitación',\n       'Número de Consultorios de Medicina del Dolor',\n       'Número de Consultorios de Medicina Interna',\n       'Número de Consultorios de Nefrología',\n       'Número de Consultorios de Neumología',\n       'Número de Consultorios de Neurología',\n       'Número de Consultorios de Nutrición',\n       'Número de Consultorios de Oftalmología',\n       'Número de Consultorios de Oncología',\n       'Número de Consultorios de Ortopedia',\n       'Número de Consultorios de Otorrinolaringología',\n       'Número de Consultorios de Pediatría',\n       'Número de Consultorios de Proctología',\n       'Número de Consultorios de Psicología',\n       'Número de Consultorios de Psiquiatría',\n       'Número de Consultorios de Reumatología',\n       'Número de Consultorios de Urología',\n       'Número de Consultorios de Traumatología',\n       'Número de consultorios en área de urgencias',\n       'Número de consultorios de valoración',\n       'Número de Consultorios de Otras Especialidades',\n       'TOTAL CAMAS AREA HOSPITALIZACIÓN', 'Número de camas de aislados',\n       'Número de camas de Medicina general',\n       'Número de camas de Angiología', 'Número de camas de Cardiología',\n       'Número de camas de Cirugía General y Cirugía Reconstructiva',\n       'Número de camas de Gastroenterología',\n       'Número de camas de Geriatría',\n       'Número de camas de Gineco-Obstetricia',\n       'Número de camas de Hematología',\n       'Número de camas de Infectología',\n       'Número de camas de Medicina Interna',\n       'Número de camas de Nefrología', 'Número de camas de Neumología',\n       'Número de camas de Neurología', 'Número de camas de Oftalmología',\n       'Número de camas de Oncología', 'Número de camas de Ortopedia',\n       'Número de camas de Otorrinolaringología',\n       'Número de camas de Pediatría', 'Número de camas de Proctología',\n       'Número de camas de Psiquiatría',\n       'Número de camas de Reumatología', 'Número de camas de Urología',\n       'Número de camas de Traumatología',\n       'Número de camas de otras especialidades en área de hospitalización',\n       'TOTAL CAMAS EN OTRAS AREAS (NO CONSIDERA HOSPITALIZACIÓN)',\n       'Número de camas en recuperación postquirúrgica',\n       'Número de camas en la Unidad de Cuidados Intensivos (incluye pediátricas y adulto)',\n       'Número de camas en la Unidad de Cuidados Intermedios (incluye pediátricas y adulto)',\n       'Número de camas en cuidados coronarios',\n       'Número de camas de recuperación en cirugía ambulatoria',\n       'Número de camas en área de radioterapia (incluye teleterapia y braquiterapia)',\n       'Número de camas en quimioterapia, aplicación hospitalizada',\n       'Número de camas de quemados',\n       'Número de camas en la unidad de transplante de médula ósea',\n       'Número de camas en área de Urgencias',\n       'Número de camas de observación en área de curaciones',\n       'Número de camas en área de labor de parto',\n       'Número de camas en área de recuperación postparto',\n       'Número de camas  en otras áreas (no considerando área de hospitalización)',\n       'Número de Aceleradores lineales',\n       'Número de Cunas de calor radiante', 'Número de Incubadoras',\n       'Número de Mastógrafos (analógico y digital)',\n       'Número de Equipos de resonancia magnética',\n       'Número de Tomógrafos computados',\n       'Número de Unidades de hemodiálisis (incluye con ósmosis inversa y pediátrica)',\n       'Total médicos generales y especialistas',\n       'Número de Médicos Generales', 'Número de Médicos Familiares',\n       'Número de Pediatras', 'Número de Ginecoobstetras',\n       'Número de Médicos Cirujanos', 'Número de Médicos Internistas',\n       'Número de Médicos Oftalmólogos',\n       'Número de Médicos Otorrinonaringólogos',\n       'Número de Médicos Traumatólogos',\n       'Número de Médicos Dermatólogos',\n       'Número de Médicos Anestesiólogos',\n       'Número de Médicos Psiquiatras', 'Número de Odontólogos',\n       'Número de Odontólogos especialistas (incluye cirujano)',\n       'Número de Médicos Endrocrinólogos',\n       'Número de Médicos Gastroenterólogos',\n       'Número de Médicos Cardiólogos',\n       'Número de Médicos en Rehabilitación (medicina física)',\n       'Número de Médicos Urólogos',\n       'Número de Médicos Cirujanos plásticos y reconstructivos',\n       'Número deMédicos Neumólogos', 'Número de Médicos Neurólogos',\n       'Número de Médicos Oncólogos', 'Número de Médicos Hematólogos',\n       'Número de Médicos Urgenciólogos',\n       'Número de Médicos Ortopedistas', 'Número de Médicos Proctólogos',\n       'Número de Médicos Angiólogos (vascular periférico)',\n       'Número de Médicos Nefrólogos', 'Número de Médicos Reumatólogos',\n       'Número de Médicos Infectólogos', 'Número de Médicos Geriatras',\n       'Número de Médicos Genetistas', 'Número de Médicos Alergólogos',\n       'Número de Médicos Radiólogos',\n       'Número de Médicos Otras especialidades',\n       'Total médicos en formación', 'Número de Pasantes de medicina',\n       'Número de Pasante de odontología',\n       'Número de Interno de pregrado', 'Número de Médicos Residentes',\n       'Total medicos en otras labores',\n       'Número de Médicos en labores administrativas',\n       'Número de Médicos en labores de enseñanza e investigación',\n       'Número de Médicos Epidemiólogos',\n       'Número de Médicos Anatomo-patólogos',\n       'Número de Médicos Otras actividades',\n       'Total enfermeras en contacto con el paciente',\n       'Número de Personal de Enfermería General',\n       'Número de Personal de Enfermería Especialista',\n       'Número de Personal de Enfermería Pasante',\n       'Número de Personal de Enfermería Auxiliar',\n       'Total enfermeras en otras labores',\n       'Número Personal de Enfermería en labores administrativas',\n       'Número de Personal de Enfermería en labores de enseñanza e investigación',\n       'Número de Personal de Enfermería en otras actividades',\n       'Total personal profesional', 'Número de Químicos',\n       'Número de Lic. en Trabajo Social', 'Número de Biólogos',\n       'Número de Farmacobiólogos', 'Número de Nutriólogos',\n       'Número de Psicólogos', 'Número de Ing. Biomédicos',\n       'Número de Otro personal profesional', 'Total personal técnico',\n       'Número de Personal Técnico en Odontología',\n       'Número de Personal Técnico en Trabajo Social',\n       'Número de Personal Técnico Electromédico (electrocardiografía y electroencefalografía)',\n       'Número de Personal Técnico en Laboratorio',\n       'Número de Personal Técnico en Estadística',\n       'Número de Perosnal Técnico en Atención Primaria (TAP s, PRODIAP s)',\n       'Número de Personal Técnico en Rehabilitación Física',\n       'Número de Personal Técnico en Anestesiología',\n       'Número de Personal Técnico en Radiología',\n       'Número de Personal Técnico Dietista (incluye nutricionistas)',\n       'Número de Personal Técnico Promotores de Salud',\n       'Número de Personal Técnico en Histopatología',\n       'Número Personal Técnico en Citotecnología',\n       'Número Personal Técnico en Banco de Sangre',\n       'Número de Personal Técnico en inhaloterapia', 'Número de Partera',\n       'Número de Otro personal técnico', 'Total otro personal',\n       'Número de Personal administrativo',\n       'Número de Personal en archivo clínico',\n       'Número de Personal en conservación y mantenimiento',\n       'Número de Personal de Intendencia (incluye lavandería)',\n       'Número de Otro personal', 'Ultrasonido', 'LITOTRIPTORES',\n       'Electrocardiógrafos', 'Electroencefalógrafos'], dtype=object)"
     },
     "metadata": {},
     "execution_count": 6
    }
   ],
   "source": [
    "df.columns.values"
   ]
  },
  {
   "cell_type": "code",
   "execution_count": 13,
   "metadata": {},
   "outputs": [
    {
     "output_type": "execute_result",
     "data": {
      "text/plain": "array(['IMS', 'ISSSTE', 'SSA', 'IMSS PROSPERA', 'SDN', 'SMA', 'SME',\n       'PEMEX', 'SMM', 'HUN', 'DIF'], dtype=object)"
     },
     "metadata": {},
     "execution_count": 13
    }
   ],
   "source": [
    "df['Número de camas en la Unidad de Cuidados Intensivos (incluye pediátricas y adulto)'].sum()\n",
    "df['CLAVE INSTITUCIÓN'].unique()"
   ]
  },
  {
   "cell_type": "code",
   "execution_count": 53,
   "metadata": {},
   "outputs": [],
   "source": [
    "gb = df.groupby('CLAVE INSTITUCIÓN')\n",
    "ims = gb.get_group('IMS')"
   ]
  },
  {
   "cell_type": "code",
   "execution_count": 55,
   "metadata": {},
   "outputs": [
    {
     "output_type": "execute_result",
     "data": {
      "text/plain": "7099.343999999999"
     },
     "metadata": {},
     "execution_count": 55
    }
   ],
   "source": [
    "(ims['TOTAL CAMAS AREA HOSPITALIZACIÓN'].sum()+ims['TOTAL CAMAS EN OTRAS AREAS (NO CONSIDERA HOSPITALIZACIÓN)'].sum())*.144"
   ]
  },
  {
   "cell_type": "code",
   "execution_count": null,
   "metadata": {},
   "outputs": [],
   "source": []
  }
 ]
}