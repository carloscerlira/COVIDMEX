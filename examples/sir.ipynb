{
 "nbformat": 4,
 "nbformat_minor": 2,
 "metadata": {
  "language_info": {
   "name": "python",
   "codemirror_mode": {
    "name": "ipython",
    "version": 3
   },
   "version": "3.7.6-final"
  },
  "orig_nbformat": 2,
  "file_extension": ".py",
  "mimetype": "text/x-python",
  "name": "python",
  "npconvert_exporter": "python",
  "pygments_lexer": "ipython3",
  "version": 3,
  "kernelspec": {
   "name": "python3",
   "display_name": "Python 3"
  }
 },
 "cells": [
  {
   "cell_type": "code",
   "execution_count": 49,
   "metadata": {},
   "outputs": [],
   "source": [
    "import numpy as np\n",
    "import pandas as pd\n",
    "import matplotlib.pyplot as plt\n",
    "from scipy.integrate import odeint\n",
    "from scipy import optimize\n",
    "%matplotlib qt\n",
    "plt.style.use('seaborn')"
   ]
  },
  {
   "cell_type": "code",
   "execution_count": 50,
   "metadata": {},
   "outputs": [],
   "source": [
    "df = pd.read_csv('data/covidworld.csv') \n",
    "df = df.drop('SNo', axis=1)\n",
    "df['Infected'] = df['Confirmed'] - df['Deaths'] - df['Recovered']"
   ]
  },
  {
   "cell_type": "code",
   "execution_count": 51,
   "metadata": {},
   "outputs": [],
   "source": [
    "def deriv(y, t, beta, gamma):\n",
    "    S, I, R = y\n",
    "    dSdt = -beta*S*I/N\n",
    "    dIdt = beta*S*I/N - gamma*I\n",
    "    dRdt = gamma*I\n",
    "    return dSdt, dIdt, dRdt\n",
    "    \n",
    "def sir(x, beta, gamma):\n",
    "    I0, R0 = 1, 0\n",
    "    S0 = N - I0 - R0\n",
    "    t = np.linspace(0, 200, 1000)\n",
    "    y0 = S0, I0, R0\n",
    "    ret = odeint(deriv, y0, t, args=(beta, gamma))\n",
    "    S, I, R = ret.T\n",
    "    return np.interp(x, t, I)"
   ]
  },
  {
   "cell_type": "code",
   "execution_count": 71,
   "metadata": {},
   "outputs": [],
   "source": [
    "def forecast(country_name):\n",
    "    data = df[(df['Country/Region'] == country_name)]\n",
    "    gb = data.groupby('ObservationDate')\n",
    "    country = gb.sum()\n",
    "    country = country.reset_index()\n",
    "    infected = country['Infected']\n",
    "    print(infected.tail())\n",
    "    recovered = country['Recovered']\n",
    "    plt.scatter(np.arange(0, infected.size, 1), infected, label='infected test', color='crimson', s=12) \n",
    "    #plt.scatter(np.arange(0, recovered.size, 1), recovered, label='recovered test', color='crimson', s=12) \n",
    "\n",
    "    y_data = infected\n",
    "    x_data = np.arange(0, y_data.size, 1)\n",
    "    plt.scatter(x_data, y_data, label='infected train', color='royalblue', s=12) \n",
    "\n",
    "    params, params_covariance = optimize.curve_fit(sir, x_data, y_data, p0=[1,1])\n",
    "    x_data = np.linspace(0, 80, 500)\n",
    "    I0, R0 = 1, 0\n",
    "    S0 = N - I0 - R0\n",
    "    y0 = S0, I0, R0\n",
    "    ret = odeint(deriv, y0, x_data, args=(params[0], params[1]))\n",
    "    S, I, R = ret.T\n",
    "\n",
    "    plt.plot(x_data, I, label='infected fit', color='black')\n",
    "    plt.ylabel('number of infected persons')\n",
    "    plt.xlabel('days')\n",
    "    plt.legend()\n",
    "    plt.show()\n",
    "    plt.savefig('images/sir_'+country_name+'.png', dpi=400)"
   ]
  },
  {
   "cell_type": "code",
   "execution_count": 63,
   "metadata": {},
   "outputs": [
    {
     "output_type": "stream",
     "name": "stdout",
     "text": "32     938.0\n33    1031.0\n34    1151.0\n35    1306.0\n36     827.0\nName: Infected, dtype: float64\n"
    }
   ],
   "source": [
    "N = 120e6\n",
    "forecast('Mexico')"
   ]
  },
  {
   "cell_type": "code",
   "execution_count": 72,
   "metadata": {},
   "outputs": [
    {
     "output_type": "stream",
     "name": "stdout",
     "text": "58    63460.0\n59    68200.0\n60    72084.0\n61    74974.0\n62    77488.0\nName: Infected, dtype: float64\n"
    }
   ],
   "source": [
    "N = 44.6e6\n",
    "forecast('Spain')"
   ]
  },
  {
   "cell_type": "code",
   "execution_count": 9,
   "metadata": {},
   "outputs": [],
   "source": [
    "N = 60.48e6\n",
    "forecast('Italy')"
   ]
  },
  {
   "cell_type": "code",
   "execution_count": 28,
   "metadata": {},
   "outputs": [
    {
     "output_type": "stream",
     "name": "stdout",
     "text": "[1 2 3 1]\n"
    }
   ],
   "source": [
    "y = np.array([1,2,3])\n",
    "y = np.append(y,1)\n",
    "print(y)"
   ]
  },
  {
   "cell_type": "code",
   "execution_count": null,
   "metadata": {},
   "outputs": [],
   "source": []
  }
 ]
}