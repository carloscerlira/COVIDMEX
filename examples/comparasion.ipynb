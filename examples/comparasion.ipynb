{
 "nbformat": 4,
 "nbformat_minor": 2,
 "metadata": {
  "language_info": {
   "name": "python",
   "codemirror_mode": {
    "name": "ipython",
    "version": 3
   },
   "version": "3.7.4-final"
  },
  "orig_nbformat": 2,
  "file_extension": ".py",
  "mimetype": "text/x-python",
  "name": "python",
  "npconvert_exporter": "python",
  "pygments_lexer": "ipython3",
  "version": 3,
  "kernelspec": {
   "name": "python3",
   "display_name": "Python 3"
  }
 },
 "cells": [
  {
   "cell_type": "code",
   "execution_count": 63,
   "metadata": {},
   "outputs": [],
   "source": [
    "import numpy as np\n",
    "import pandas as pd\n",
    "import geopandas as gpd\n",
    "import matplotlib.pyplot as plt \n",
    "plt.style.use('seaborn')\n",
    "%matplotlib qt"
   ]
  },
  {
   "cell_type": "code",
   "execution_count": 65,
   "metadata": {},
   "outputs": [],
   "source": [
    "df = pd.read_csv('../data/time_series_confirmed_MX.csv', index_col=0)\n",
    "df = df[:-1]\n",
    "for state in df.index:\n",
    "    state = df.loc[state]\n",
    "    state = state[state >= 100]\n",
    "    if(state.size==0):\n",
    "        continue;\n",
    "    state = state[:10]\n",
    "    state.reset_index(inplace=True, drop=True)\n",
    "    state.plot(label=state.name)\n",
    "plt.xlabel('Days since number of confirmed cases reached 100')\n",
    "plt.ylabel('Confirmed cases')\n",
    "plt.legend()\n",
    "plt.show()"
   ]
  },
  {
   "cell_type": "code",
   "execution_count": 66,
   "metadata": {},
   "outputs": [],
   "source": [
    "# df = pd.read_csv('../data/covidworld.csv')\n",
    "# df = df.drop('SNo', axis=1)"
   ]
  },
  {
   "cell_type": "code",
   "execution_count": 67,
   "metadata": {},
   "outputs": [],
   "source": [
    "# def get_country(country_name):\n",
    "#     data = df[df['Country/Region']==country_name]\n",
    "#     data = data[data['Confirmed']>=100]\n",
    "#     country = data.groupby('ObservationDate')\n",
    "#     country = country.sum()\n",
    "#     return country"
   ]
  },
  {
   "cell_type": "code",
   "execution_count": 68,
   "metadata": {},
   "outputs": [],
   "source": [
    "# mexico = get_country('Mexico')['Confirmed']/129.2e6*1e6\n",
    "# days = mexico.size\n",
    "# print(days)\n",
    "# plt.plot(np.arange(1, days+1), mexico, linewidth=4, label='Mexico')\n",
    "\n",
    "# countries = ['US','France', 'Spain', 'Germany', 'Italy']\n",
    "# population = [327.2e6, 66.99e6, 46.66e6, 82.79e6, 60.48e6]\n",
    "# for i in range(0,len(countries)):\n",
    "#     country = get_country(countries[i])['Confirmed']/population[i]*1e6\n",
    "#     plt.plot(np.arange(1, days+1), country[:days], linewidth=1.5, label=countries[i]) \n",
    "\n",
    "# plt.ylabel('Casos por 1 millon de personas')\n",
    "# plt.xlabel('Días desde que el número de infectados es mayor a 100')\n",
    "# plt.legend()\n",
    "# plt.savefig('images/comparision.png', dpi=400)\n",
    "# plt.show()"
   ]
  },
  {
   "cell_type": "code",
   "execution_count": null,
   "metadata": {},
   "outputs": [],
   "source": []
  }
 ]
}