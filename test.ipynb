{
 "nbformat": 4,
 "nbformat_minor": 2,
 "metadata": {
  "language_info": {
   "name": "python",
   "codemirror_mode": {
    "name": "ipython",
    "version": 3
   },
   "version": "3.7.4-final"
  },
  "orig_nbformat": 2,
  "file_extension": ".py",
  "mimetype": "text/x-python",
  "name": "python",
  "npconvert_exporter": "python",
  "pygments_lexer": "ipython3",
  "version": 3,
  "kernelspec": {
   "name": "python3",
   "display_name": "Python 3"
  }
 },
 "cells": [
  {
   "cell_type": "code",
   "execution_count": 6,
   "metadata": {},
   "outputs": [],
   "source": [
    "import datetime\n",
    "import numpy as np\n",
    "import pandas as pd\n",
    "import geopandas as gpd\n",
    "import matplotlib.pyplot as plt \n",
    "plt.style.use('seaborn')\n",
    "%matplotlib qt"
   ]
  },
  {
   "cell_type": "code",
   "execution_count": 7,
   "metadata": {},
   "outputs": [
    {
     "output_type": "execute_result",
     "data": {
      "text/plain": "     ObservationDate Province/State  Country/Region          Last Update  \\\n0         01/22/2020          Anhui  Mainland China      1/22/2020 17:00   \n1         01/22/2020        Beijing  Mainland China      1/22/2020 17:00   \n2         01/22/2020      Chongqing  Mainland China      1/22/2020 17:00   \n3         01/22/2020         Fujian  Mainland China      1/22/2020 17:00   \n4         01/22/2020          Gansu  Mainland China      1/22/2020 17:00   \n...              ...            ...             ...                  ...   \n9730      03/28/2020        Wyoming              US  2020-03-28 23:11:06   \n9731      03/28/2020       Xinjiang  Mainland China  2020-03-28 23:11:06   \n9732      03/28/2020          Yukon          Canada  2020-03-28 23:11:06   \n9733      03/28/2020         Yunnan  Mainland China  2020-03-28 23:11:06   \n9734      03/28/2020       Zhejiang  Mainland China  2020-03-28 23:11:06   \n\n      Confirmed  Deaths  Recovered  \n0           1.0     0.0        0.0  \n1          14.0     0.0        0.0  \n2           6.0     0.0        0.0  \n3           1.0     0.0        0.0  \n4           0.0     0.0        0.0  \n...         ...     ...        ...  \n9730       82.0     0.0        0.0  \n9731       76.0     3.0       73.0  \n9732        4.0     0.0        0.0  \n9733      180.0     2.0      172.0  \n9734     1251.0     1.0     1225.0  \n\n[9735 rows x 7 columns]",
      "text/html": "<div>\n<style scoped>\n    .dataframe tbody tr th:only-of-type {\n        vertical-align: middle;\n    }\n\n    .dataframe tbody tr th {\n        vertical-align: top;\n    }\n\n    .dataframe thead th {\n        text-align: right;\n    }\n</style>\n<table border=\"1\" class=\"dataframe\">\n  <thead>\n    <tr style=\"text-align: right;\">\n      <th></th>\n      <th>ObservationDate</th>\n      <th>Province/State</th>\n      <th>Country/Region</th>\n      <th>Last Update</th>\n      <th>Confirmed</th>\n      <th>Deaths</th>\n      <th>Recovered</th>\n    </tr>\n  </thead>\n  <tbody>\n    <tr>\n      <td>0</td>\n      <td>01/22/2020</td>\n      <td>Anhui</td>\n      <td>Mainland China</td>\n      <td>1/22/2020 17:00</td>\n      <td>1.0</td>\n      <td>0.0</td>\n      <td>0.0</td>\n    </tr>\n    <tr>\n      <td>1</td>\n      <td>01/22/2020</td>\n      <td>Beijing</td>\n      <td>Mainland China</td>\n      <td>1/22/2020 17:00</td>\n      <td>14.0</td>\n      <td>0.0</td>\n      <td>0.0</td>\n    </tr>\n    <tr>\n      <td>2</td>\n      <td>01/22/2020</td>\n      <td>Chongqing</td>\n      <td>Mainland China</td>\n      <td>1/22/2020 17:00</td>\n      <td>6.0</td>\n      <td>0.0</td>\n      <td>0.0</td>\n    </tr>\n    <tr>\n      <td>3</td>\n      <td>01/22/2020</td>\n      <td>Fujian</td>\n      <td>Mainland China</td>\n      <td>1/22/2020 17:00</td>\n      <td>1.0</td>\n      <td>0.0</td>\n      <td>0.0</td>\n    </tr>\n    <tr>\n      <td>4</td>\n      <td>01/22/2020</td>\n      <td>Gansu</td>\n      <td>Mainland China</td>\n      <td>1/22/2020 17:00</td>\n      <td>0.0</td>\n      <td>0.0</td>\n      <td>0.0</td>\n    </tr>\n    <tr>\n      <td>...</td>\n      <td>...</td>\n      <td>...</td>\n      <td>...</td>\n      <td>...</td>\n      <td>...</td>\n      <td>...</td>\n      <td>...</td>\n    </tr>\n    <tr>\n      <td>9730</td>\n      <td>03/28/2020</td>\n      <td>Wyoming</td>\n      <td>US</td>\n      <td>2020-03-28 23:11:06</td>\n      <td>82.0</td>\n      <td>0.0</td>\n      <td>0.0</td>\n    </tr>\n    <tr>\n      <td>9731</td>\n      <td>03/28/2020</td>\n      <td>Xinjiang</td>\n      <td>Mainland China</td>\n      <td>2020-03-28 23:11:06</td>\n      <td>76.0</td>\n      <td>3.0</td>\n      <td>73.0</td>\n    </tr>\n    <tr>\n      <td>9732</td>\n      <td>03/28/2020</td>\n      <td>Yukon</td>\n      <td>Canada</td>\n      <td>2020-03-28 23:11:06</td>\n      <td>4.0</td>\n      <td>0.0</td>\n      <td>0.0</td>\n    </tr>\n    <tr>\n      <td>9733</td>\n      <td>03/28/2020</td>\n      <td>Yunnan</td>\n      <td>Mainland China</td>\n      <td>2020-03-28 23:11:06</td>\n      <td>180.0</td>\n      <td>2.0</td>\n      <td>172.0</td>\n    </tr>\n    <tr>\n      <td>9734</td>\n      <td>03/28/2020</td>\n      <td>Zhejiang</td>\n      <td>Mainland China</td>\n      <td>2020-03-28 23:11:06</td>\n      <td>1251.0</td>\n      <td>1.0</td>\n      <td>1225.0</td>\n    </tr>\n  </tbody>\n</table>\n<p>9735 rows × 7 columns</p>\n</div>"
     },
     "metadata": {},
     "execution_count": 7
    }
   ],
   "source": [
    "df = pd.read_csv('covid.csv')\n",
    "df = df.drop('SNo', axis=1)\n",
    "df"
   ]
  },
  {
   "cell_type": "code",
   "execution_count": 8,
   "metadata": {},
   "outputs": [],
   "source": [
    "def get_country(country_name):\n",
    "    data = df[df['Country/Region']==country_name]\n",
    "    data = data[data['Confirmed']>=100]\n",
    "    country = data.groupby('ObservationDate')\n",
    "    country = country.sum()\n",
    "    return country"
   ]
  },
  {
   "cell_type": "code",
   "execution_count": 13,
   "metadata": {},
   "outputs": [
    {
     "output_type": "stream",
     "name": "stdout",
     "text": "10\n"
    }
   ],
   "source": [
    "mexico = get_country('Mexico')['Confirmed']/129.2e6*1e6\n",
    "days = mexico.size\n",
    "print(days)\n",
    "plt.plot(np.arange(1, days+1), mexico, linewidth=4, label='Mexico')\n",
    "\n",
    "countries = ['US','France', 'Spain', 'Germany', 'Italy','South Korea','Mainland China']\n",
    "population = [327.2e6, 66.99e6, 46.66e6, 82.79e6, 60.48e6, 51.47e6, 1400e6]\n",
    "for i in range(0,len(countries)):\n",
    "    country = get_country(countries[i])['Confirmed']/population[i]*1e6\n",
    "    plt.plot(np.arange(1, 10+1), country[:10], linewidth=1.5, label=countries[i]) \n",
    "\n",
    "plt.ylabel('Casos por 1 millon de personas')\n",
    "plt.xlabel('Días desde que el número de infectados es mayor a 100')\n",
    "plt.legend()\n",
    "plt.savefig('comparision.png', dpi=400)\n",
    "plt.show()"
   ]
  },
  {
   "cell_type": "code",
   "execution_count": 14,
   "metadata": {},
   "outputs": [],
   "source": [
    "mexico = pd.read_csv('mexico.csv')\n",
    "mexico = mexico.drop('Caso', axis=1)\n",
    "#mexico"
   ]
  },
  {
   "cell_type": "code",
   "execution_count": 15,
   "metadata": {},
   "outputs": [],
   "source": [
    "states = mexico.groupby('Estado')\n",
    "infected = states['Status'].count()\n",
    "infected = infected.rename({'CIUDAD DE MÉXICO ': 'DISTRITO FEDERAL', 'MÉXICO ': 'MEXICO', 'NUEVO LEÓN ':'NUEVO LEON', 'SAN LUIS POTOSÍ ':'SAN LUIS POTOSI'})\n",
    "infected = infected.sort_index()\n",
    "infected.to_csv('infected.csv')\n",
    "#infected"
   ]
  },
  {
   "cell_type": "code",
   "execution_count": 23,
   "metadata": {},
   "outputs": [
    {
     "output_type": "execute_result",
     "data": {
      "text/plain": "EDO_LEY\nAguascalientes          19\nBaja California         20\nBaja California Sur      9\nCampeche                 3\nChiapas                  6\nChihuahua                6\nCoahuila                15\nColima                   2\nDistrito Federal       177\nDurango                  7\nGuanajuato              37\nGuerrero                10\nHidalgo                 12\nJalisco                 82\nMexico                  85\nMichoacan               17\nMorelos                  4\nNayarit                  5\nNuevo Leon              64\nOaxaca                  12\nPuebla                  52\nQueretaro               25\nQuintana Roo            33\nSan Luis Potosi         20\nSinaloa                 14\nSonora                  10\nTabasco                 27\nTamaulipas               6\nTlaxcala                 4\nVeracruz                23\nYucatan                 38\nZacatecas                4\nName: Status, dtype: int64"
     },
     "metadata": {},
     "execution_count": 23
    }
   ],
   "source": [
    "infected"
   ]
  },
  {
   "cell_type": "code",
   "execution_count": 16,
   "metadata": {},
   "outputs": [],
   "source": [
    "plt.hist(mexico['Edad'], bins=20, range=(0,100), color='royalblue', histtype='bar', ec='black')\n",
    "plt.xlabel('Edad')\n",
    "plt.ylabel('Número de infectados')\n",
    "plt.show()\n",
    "plt.savefig('histograma.png', dpi=400)"
   ]
  },
  {
   "cell_type": "code",
   "execution_count": 17,
   "metadata": {},
   "outputs": [],
   "source": [
    "path = 'PHLITL_2000.shp'\n",
    "data = gpd.read_file(path)"
   ]
  },
  {
   "cell_type": "code",
   "execution_count": 18,
   "metadata": {},
   "outputs": [],
   "source": [
    "counties = data[['EDO_LEY', 'geometry']]\n",
    "states = counties.dissolve(by='EDO_LEY')\n",
    "states = states.sort_index()"
   ]
  },
  {
   "cell_type": "code",
   "execution_count": 19,
   "metadata": {},
   "outputs": [],
   "source": [
    "infected.index=states.index\n",
    "states['infected'] = infected\n",
    "#states"
   ]
  },
  {
   "cell_type": "code",
   "execution_count": 22,
   "metadata": {},
   "outputs": [],
   "source": [
    "plt.style.use('seaborn')\n",
    "vmin = infected.min(); vmax = infected.max();\n",
    "states.plot(column='infected', cmap='Blues', norm=plt.Normalize(vmin=vmin,vmax=vmax), linewidth=0.3, edgecolor='.8')\n",
    "\n",
    "sm = plt.cm.ScalarMappable(cmap='Blues', norm=plt.Normalize(vmin=vmin, vmax=vmax))\n",
    "sm._A = []\n",
    "plt.colorbar(sm)\n",
    "\n",
    "plt.title('Casos confirmados COVID-19', fontdict={'fontsize': '18', 'fontweight' : '3'})\n",
    "plt.annotate('Fuente: Secretaría de Salud',xy=(0.15, .2),  xycoords='figure fraction', horizontalalignment='left', verticalalignment='top', fontsize=10, color='#555555')\n",
    "plt.axis('off')\n",
    "plt.show()\n",
    "\n",
    "plt.savefig('mapa.png', dpi=400)"
   ]
  },
  {
   "cell_type": "code",
   "execution_count": null,
   "metadata": {},
   "outputs": [],
   "source": []
  },
  {
   "cell_type": "code",
   "execution_count": null,
   "metadata": {},
   "outputs": [],
   "source": []
  }
 ]
}