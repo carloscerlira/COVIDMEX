{
 "nbformat": 4,
 "nbformat_minor": 2,
 "metadata": {
  "language_info": {
   "name": "python",
   "codemirror_mode": {
    "name": "ipython",
    "version": 3
   },
   "version": "3.7.6-final"
  },
  "orig_nbformat": 2,
  "file_extension": ".py",
  "mimetype": "text/x-python",
  "name": "python",
  "npconvert_exporter": "python",
  "pygments_lexer": "ipython3",
  "version": 3,
  "kernelspec": {
   "name": "python3",
   "display_name": "Python 3"
  }
 },
 "cells": [
  {
   "cell_type": "code",
   "execution_count": 15,
   "metadata": {},
   "outputs": [],
   "source": [
    "import numpy as np\n",
    "import pandas as pd\n",
    "import matplotlib.pyplot as plt\n",
    "from scipy.integrate import odeint\n",
    "from scipy import optimize\n",
    "%matplotlib qt\n",
    "plt.style.use('seaborn')"
   ]
  },
  {
   "cell_type": "code",
   "execution_count": 16,
   "metadata": {},
   "outputs": [],
   "source": [
    "df = pd.read_csv('data/covid.csv') \n",
    "df = df.drop('SNo', axis=1)\n",
    "df['Infected'] = df['Confirmed'] - df['Deaths'] - df['Recovered']"
   ]
  },
  {
   "cell_type": "code",
   "execution_count": 17,
   "metadata": {},
   "outputs": [],
   "source": [
    "def deriv(y, t, beta, gamma):\n",
    "    S, I, R = y\n",
    "    dSdt = -beta*S*I/N\n",
    "    dIdt = beta*S*I/N - gamma*I\n",
    "    dRdt = gamma*I\n",
    "    return dSdt, dIdt, dRdt\n",
    "    \n",
    "def sir(x, beta, gamma):\n",
    "    I0, R0 = 1, 0\n",
    "    S0 = N - I0 - R0\n",
    "    t = np.linspace(0, 100, 500)\n",
    "    y0 = S0, I0, R0\n",
    "    ret = odeint(deriv, y0, t, args=(beta, gamma))\n",
    "    S, I, R = ret.T\n",
    "    return np.interp(x, t, I)"
   ]
  },
  {
   "cell_type": "code",
   "execution_count": 23,
   "metadata": {},
   "outputs": [],
   "source": [
    "def forecast(country_name):\n",
    "    data = df[(df['Country/Region'] == country_name)]\n",
    "    gb = data.groupby('ObservationDate')\n",
    "    country = gb.sum()\n",
    "    country = country.reset_index()\n",
    "    infected = country['Infected'].values\n",
    "    plt.scatter(np.arange(0, infected.size, 1), infected, label='infected train', color='crimson', s=12) \n",
    "\n",
    "    y_data = country['Infected'].values[:-4]\n",
    "    x_data = np.arange(0, y_data.size, 1)\n",
    "    plt.scatter(x_data, y_data, label='infected test', color='royalblue', s=12) \n",
    "\n",
    "    params, params_covariance = optimize.curve_fit(sir, x_data, y_data, p0=[1,1])\n",
    "    x_data = np.linspace(0, 100, 500)\n",
    "    I0, R0 = 1, 0\n",
    "    S0 = N - I0 - R0\n",
    "    y0 = S0, I0, R0\n",
    "    ret = odeint(deriv, y0, x_data, args=(params[0], params[1]))\n",
    "    S, I, R = ret.T\n",
    "\n",
    "    plt.plot(x_data, I, label='infected fit', color='black')\n",
    "    plt.ylabel('number of infected persons')\n",
    "    plt.xlabel('days')\n",
    "    plt.legend()\n",
    "    plt.show()\n",
    "    plt.savefig('images/sir_'+country_name+'.png', dpi=400)"
   ]
  },
  {
   "cell_type": "code",
   "execution_count": 24,
   "metadata": {},
   "outputs": [
    {
     "output_type": "stream",
     "name": "stderr",
     "text": "C:\\ProgramData\\Anaconda3\\lib\\site-packages\\ipykernel_launcher.py:3: RuntimeWarning: overflow encountered in double_scalars\n  This is separate from the ipykernel package so we can avoid doing imports until\nC:\\ProgramData\\Anaconda3\\lib\\site-packages\\ipykernel_launcher.py:4: RuntimeWarning: overflow encountered in double_scalars\n  after removing the cwd from sys.path.\nC:\\ProgramData\\Anaconda3\\lib\\site-packages\\ipykernel_launcher.py:5: RuntimeWarning: overflow encountered in double_scalars\n  \"\"\"\n"
    }
   ],
   "source": [
    "N = 44.6e6\n",
    "forecast('Spain')"
   ]
  },
  {
   "cell_type": "code",
   "execution_count": null,
   "metadata": {},
   "outputs": [],
   "source": []
  }
 ]
}